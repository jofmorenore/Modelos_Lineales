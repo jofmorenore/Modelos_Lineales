{
 "cells": [
  {
   "cell_type": "markdown",
   "id": "5dcdba08",
   "metadata": {},
   "source": [
    "# Punto 1"
   ]
  },
  {
   "cell_type": "code",
   "execution_count": 21,
   "id": "a1b82e16",
   "metadata": {},
   "outputs": [
    {
     "data": {
      "text/html": [
       "<table>\n",
       "<tbody>\n",
       "\t<tr><td>31 </td><td> 52</td><td> 73</td></tr>\n",
       "\t<tr><td>52 </td><td> 88</td><td>124</td></tr>\n",
       "\t<tr><td>73 </td><td>124</td><td>175</td></tr>\n",
       "</tbody>\n",
       "</table>\n"
      ],
      "text/latex": [
       "\\begin{tabular}{lll}\n",
       "\t 31  &  52 &  73\\\\\n",
       "\t 52  &  88 & 124\\\\\n",
       "\t 73  & 124 & 175\\\\\n",
       "\\end{tabular}\n"
      ],
      "text/markdown": [
       "\n",
       "| 31  |  52 |  73 |\n",
       "| 52  |  88 | 124 |\n",
       "| 73  | 124 | 175 |\n",
       "\n"
      ],
      "text/plain": [
       "     [,1] [,2] [,3]\n",
       "[1,] 31    52   73 \n",
       "[2,] 52    88  124 \n",
       "[3,] 73   124  175 "
      ]
     },
     "metadata": {},
     "output_type": "display_data"
    },
    {
     "data": {
      "text/html": [
       "<table>\n",
       "<tbody>\n",
       "\t<tr><td> 8994</td><td>15240</td><td>21486</td></tr>\n",
       "\t<tr><td>15240</td><td>25824</td><td>36408</td></tr>\n",
       "\t<tr><td>21486</td><td>36408</td><td>51330</td></tr>\n",
       "</tbody>\n",
       "</table>\n"
      ],
      "text/latex": [
       "\\begin{tabular}{lll}\n",
       "\t  8994 & 15240 & 21486\\\\\n",
       "\t 15240 & 25824 & 36408\\\\\n",
       "\t 21486 & 36408 & 51330\\\\\n",
       "\\end{tabular}\n"
      ],
      "text/markdown": [
       "\n",
       "|  8994 | 15240 | 21486 |\n",
       "| 15240 | 25824 | 36408 |\n",
       "| 21486 | 36408 | 51330 |\n",
       "\n"
      ],
      "text/plain": [
       "     [,1]  [,2]  [,3] \n",
       "[1,]  8994 15240 21486\n",
       "[2,] 15240 25824 36408\n",
       "[3,] 21486 36408 51330"
      ]
     },
     "metadata": {},
     "output_type": "display_data"
    }
   ],
   "source": [
    "x = matrix(c(1,1,1,1,2,3), nr = 3, nc = 2, byrow= F)\n",
    "x%*%(t(x)%*%x + diag(c(1,1), nr =2))%*%t(x)\n",
    "x%*%(t(x)%*%x + diag(c(1,1), nr =2))%*%t(x) %*% x%*%(t(x)%*%x + diag(c(1,1), nr =2))%*%t(x)"
   ]
  },
  {
   "cell_type": "code",
   "execution_count": 22,
   "id": "ae8d6d75",
   "metadata": {},
   "outputs": [
    {
     "data": {
      "text/html": [
       "<table>\n",
       "<thead><tr><th scope=col>x1</th><th scope=col>x2</th><th scope=col>x3</th></tr></thead>\n",
       "<tbody>\n",
       "\t<tr><td>2</td><td>3</td><td>1</td></tr>\n",
       "\t<tr><td>4</td><td>6</td><td>2</td></tr>\n",
       "\t<tr><td>6</td><td>9</td><td>3</td></tr>\n",
       "</tbody>\n",
       "</table>\n"
      ],
      "text/latex": [
       "\\begin{tabular}{lll}\n",
       " x1 & x2 & x3\\\\\n",
       "\\hline\n",
       "\t 2 & 3 & 1\\\\\n",
       "\t 4 & 6 & 2\\\\\n",
       "\t 6 & 9 & 3\\\\\n",
       "\\end{tabular}\n"
      ],
      "text/markdown": [
       "\n",
       "| x1 | x2 | x3 |\n",
       "|---|---|---|\n",
       "| 2 | 3 | 1 |\n",
       "| 4 | 6 | 2 |\n",
       "| 6 | 9 | 3 |\n",
       "\n"
      ],
      "text/plain": [
       "     x1 x2 x3\n",
       "[1,] 2  3  1 \n",
       "[2,] 4  6  2 \n",
       "[3,] 6  9  3 "
      ]
     },
     "metadata": {},
     "output_type": "display_data"
    },
    {
     "data": {
      "text/html": [
       "0"
      ],
      "text/latex": [
       "0"
      ],
      "text/markdown": [
       "0"
      ],
      "text/plain": [
       "[1] 0"
      ]
     },
     "metadata": {},
     "output_type": "display_data"
    },
    {
     "ename": "ERROR",
     "evalue": "Error in solve.default(t(X) %*% (X)): Lapack routine dgesv: system is exactly singular: U[2,2] = 0\n",
     "output_type": "error",
     "traceback": [
      "Error in solve.default(t(X) %*% (X)): Lapack routine dgesv: system is exactly singular: U[2,2] = 0\nTraceback:\n",
      "1. solve(t(X) %*% (X))",
      "2. solve.default(t(X) %*% (X))"
     ]
    }
   ],
   "source": [
    "x1 = c(2,4,6)\n",
    "x2 = c(3,6,9)\n",
    "x3 = 2*x1 - x2\n",
    "\n",
    "X = cbind(x1,x2,x3)\n",
    "X = as.matrix(X)\n",
    "X\n",
    "det(X)  ## determinante = 0\n",
    "solve(t(X)%*%(X))  # no es invertible"
   ]
  },
  {
   "cell_type": "code",
   "execution_count": 23,
   "id": "cc9492e9",
   "metadata": {},
   "outputs": [
    {
     "data": {
      "text/html": [
       "<table>\n",
       "<thead><tr><th scope=col></th><th scope=col>x1</th><th scope=col>x2</th></tr></thead>\n",
       "<tbody>\n",
       "\t<tr><td>1</td><td>2</td><td>4</td></tr>\n",
       "\t<tr><td>1</td><td>4</td><td>6</td></tr>\n",
       "\t<tr><td>1</td><td>6</td><td>9</td></tr>\n",
       "</tbody>\n",
       "</table>\n"
      ],
      "text/latex": [
       "\\begin{tabular}{lll}\n",
       "  & x1 & x2\\\\\n",
       "\\hline\n",
       "\t 1 & 2 & 4\\\\\n",
       "\t 1 & 4 & 6\\\\\n",
       "\t 1 & 6 & 9\\\\\n",
       "\\end{tabular}\n"
      ],
      "text/markdown": [
       "\n",
       "|  | x1 | x2 |\n",
       "|---|---|---|\n",
       "| 1 | 2 | 4 |\n",
       "| 1 | 4 | 6 |\n",
       "| 1 | 6 | 9 |\n",
       "\n"
      ],
      "text/plain": [
       "       x1 x2\n",
       "[1,] 1 2  4 \n",
       "[2,] 1 4  6 \n",
       "[3,] 1 6  9 "
      ]
     },
     "metadata": {},
     "output_type": "display_data"
    },
    {
     "data": {
      "text/html": [
       "<table>\n",
       "<tbody>\n",
       "\t<tr><th scope=row></th><td>-7.840775</td></tr>\n",
       "\t<tr><th scope=row>x1</th><td>-4.285190</td></tr>\n",
       "\t<tr><th scope=row>x2</th><td> 5.419046</td></tr>\n",
       "</tbody>\n",
       "</table>\n"
      ],
      "text/latex": [
       "\\begin{tabular}{r|l}\n",
       "\t & -7.840775\\\\\n",
       "\tx1 & -4.285190\\\\\n",
       "\tx2 &  5.419046\\\\\n",
       "\\end{tabular}\n"
      ],
      "text/markdown": [
       "\n",
       "|  | -7.840775 |\n",
       "| x1 | -4.285190 |\n",
       "| x2 |  5.419046 |\n",
       "\n"
      ],
      "text/plain": [
       "   [,1]     \n",
       "   -7.840775\n",
       "x1 -4.285190\n",
       "x2  5.419046"
      ]
     },
     "metadata": {},
     "output_type": "display_data"
    },
    {
     "data": {
      "text/html": [
       "2"
      ],
      "text/latex": [
       "2"
      ],
      "text/markdown": [
       "2"
      ],
      "text/plain": [
       "[1] 2"
      ]
     },
     "metadata": {},
     "output_type": "display_data"
    },
    {
     "data": {
      "text/plain": [
       "\n",
       "Call:\n",
       "lm(formula = y ~ x1 + x2)\n",
       "\n",
       "Coefficients:\n",
       "(Intercept)           x1           x2  \n",
       "     -7.841       -4.285        5.419  \n"
      ]
     },
     "metadata": {},
     "output_type": "display_data"
    },
    {
     "data": {
      "text/html": [
       "<table>\n",
       "<thead><tr><th></th><th scope=col></th><th scope=col>x1</th><th scope=col>x2</th></tr></thead>\n",
       "<tbody>\n",
       "\t<tr><th scope=row></th><td>13.0</td><td> 9.5</td><td>-8.0</td></tr>\n",
       "\t<tr><th scope=row>x1</th><td> 9.5</td><td> 9.5</td><td>-7.5</td></tr>\n",
       "\t<tr><th scope=row>x2</th><td>-8.0</td><td>-7.5</td><td> 6.0</td></tr>\n",
       "</tbody>\n",
       "</table>\n"
      ],
      "text/latex": [
       "\\begin{tabular}{r|lll}\n",
       "  &  & x1 & x2\\\\\n",
       "\\hline\n",
       "\t & 13.0 &  9.5 & -8.0\\\\\n",
       "\tx1 &  9.5 &  9.5 & -7.5\\\\\n",
       "\tx2 & -8.0 & -7.5 &  6.0\\\\\n",
       "\\end{tabular}\n"
      ],
      "text/markdown": [
       "\n",
       "| <!--/--> |  | x1 | x2 |\n",
       "|---|---|---|---|\n",
       "|  | 13.0 |  9.5 | -8.0 |\n",
       "| x1 |  9.5 |  9.5 | -7.5 |\n",
       "| x2 | -8.0 | -7.5 |  6.0 |\n",
       "\n"
      ],
      "text/plain": [
       "        x1   x2  \n",
       "   13.0  9.5 -8.0\n",
       "x1  9.5  9.5 -7.5\n",
       "x2 -8.0 -7.5  6.0"
      ]
     },
     "metadata": {},
     "output_type": "display_data"
    }
   ],
   "source": [
    "##################-EXACTA-#############\n",
    "x1 = c(2,4,6)\n",
    "x2 = c(4,6,9)\n",
    "y=3+2*x1+rnorm(3,0,2)\n",
    "X = cbind(1,x1,x2)\n",
    "X = as.matrix(X)\n",
    "X\n",
    "\n",
    "B=solve(t(X)%*%X)%*%(t(X)%*%y)\n",
    "\n",
    "B\n",
    "det(X)  ## determinante = 0\n",
    "lm(y~x1+x2)\n",
    "solve(t(X)%*%(X))"
   ]
  },
  {
   "cell_type": "code",
   "execution_count": 26,
   "id": "b5d4d73b",
   "metadata": {},
   "outputs": [
    {
     "name": "stderr",
     "output_type": "stream",
     "text": [
      "Loading required package: Matrix\n",
      "Loading required package: foreach\n",
      "Loaded glmnet 2.0-16\n",
      "\n",
      "\n",
      "Attaching package: ‘dplyr’\n",
      "\n",
      "The following objects are masked from ‘package:stats’:\n",
      "\n",
      "    filter, lag\n",
      "\n",
      "The following objects are masked from ‘package:base’:\n",
      "\n",
      "    intersect, setdiff, setequal, union\n",
      "\n",
      "\n",
      "Attaching package: ‘multiColl’\n",
      "\n",
      "The following object is masked from ‘package:Matrix’:\n",
      "\n",
      "    lu\n",
      "\n"
     ]
    },
    {
     "ename": "ERROR",
     "evalue": "Error in library(car): there is no package called ‘car’\n",
     "output_type": "error",
     "traceback": [
      "Error in library(car): there is no package called ‘car’\nTraceback:\n",
      "1. library(car)"
     ]
    }
   ],
   "source": [
    "library(glmnet)\n",
    "library(dplyr)\n",
    "#install.packages(\"L1pack\")\n",
    "library(multiColl)\n",
    "library(car)"
   ]
  },
  {
   "cell_type": "markdown",
   "id": "565f4916",
   "metadata": {},
   "source": [
    "### Ejemplo 8.7.2 ahora con números simulados"
   ]
  },
  {
   "cell_type": "code",
   "execution_count": 24,
   "id": "440d8fa0",
   "metadata": {},
   "outputs": [
    {
     "data": {
      "text/html": [
       "0.976399218783886"
      ],
      "text/latex": [
       "0.976399218783886"
      ],
      "text/markdown": [
       "0.976399218783886"
      ],
      "text/plain": [
       "[1] 0.9763992"
      ]
     },
     "metadata": {},
     "output_type": "display_data"
    },
    {
     "data": {
      "image/png": "[encoded data removed]",
      "text/plain": [
       "plot without title"
      ]
     },
     "metadata": {},
     "output_type": "display_data"
    }
   ],
   "source": [
    "set.seed(1234)\n",
    "x = rnorm(7)\n",
    "e = rt(7,3)  # Distribuci??n sim??trica \n",
    "y = 3*x + e\n",
    "\n",
    "cor(x,y)\n",
    "\n",
    "set.seed(123)\n",
    "x[8] = rnorm(1)\n",
    "\n",
    "y[8] = 20\n",
    "\n",
    "\n",
    "plot(x,y)"
   ]
  },
  {
   "cell_type": "code",
   "execution_count": 25,
   "id": "78d8ccdf",
   "metadata": {},
   "outputs": [
    {
     "data": {
      "text/html": [
       "<table>\n",
       "<thead><tr><th scope=col>x1</th><th scope=col>x2</th><th scope=col>x3</th></tr></thead>\n",
       "<tbody>\n",
       "\t<tr><td>2</td><td>3</td><td>1</td></tr>\n",
       "\t<tr><td>4</td><td>6</td><td>2</td></tr>\n",
       "\t<tr><td>6</td><td>9</td><td>3</td></tr>\n",
       "</tbody>\n",
       "</table>\n"
      ],
      "text/latex": [
       "\\begin{tabular}{lll}\n",
       " x1 & x2 & x3\\\\\n",
       "\\hline\n",
       "\t 2 & 3 & 1\\\\\n",
       "\t 4 & 6 & 2\\\\\n",
       "\t 6 & 9 & 3\\\\\n",
       "\\end{tabular}\n"
      ],
      "text/markdown": [
       "\n",
       "| x1 | x2 | x3 |\n",
       "|---|---|---|\n",
       "| 2 | 3 | 1 |\n",
       "| 4 | 6 | 2 |\n",
       "| 6 | 9 | 3 |\n",
       "\n"
      ],
      "text/plain": [
       "     x1 x2 x3\n",
       "[1,] 2  3  1 \n",
       "[2,] 4  6  2 \n",
       "[3,] 6  9  3 "
      ]
     },
     "metadata": {},
     "output_type": "display_data"
    },
    {
     "data": {
      "text/html": [
       "0"
      ],
      "text/latex": [
       "0"
      ],
      "text/markdown": [
       "0"
      ],
      "text/plain": [
       "[1] 0"
      ]
     },
     "metadata": {},
     "output_type": "display_data"
    },
    {
     "ename": "ERROR",
     "evalue": "Error in solve.default(t(X) %*% (X)): Lapack routine dgesv: system is exactly singular: U[2,2] = 0\n",
     "output_type": "error",
     "traceback": [
      "Error in solve.default(t(X) %*% (X)): Lapack routine dgesv: system is exactly singular: U[2,2] = 0\nTraceback:\n",
      "1. solve(t(X) %*% (X))",
      "2. solve.default(t(X) %*% (X))"
     ]
    }
   ],
   "source": [
    "# a\n",
    "x1 = c(2,4,6)\n",
    "x2 = c(3,6,9)\n",
    "x3 = 2*x1 - x2\n",
    "\n",
    "X = cbind(x1,x2,x3)\n",
    "X = as.matrix(X)\n",
    "X\n",
    "\n",
    "det(X)  ## determinante = 0\n",
    "solve(t(X)%*%(X))  # no es invertible"
   ]
  },
  {
   "cell_type": "code",
   "execution_count": 27,
   "id": "91b46de7",
   "metadata": {},
   "outputs": [
    {
     "data": {
      "text/html": [
       "<table>\n",
       "<thead><tr><th></th><th scope=col>mpg</th><th scope=col>disp</th><th scope=col>hp</th><th scope=col>drat</th><th scope=col>wt</th><th scope=col>qsec</th></tr></thead>\n",
       "<tbody>\n",
       "\t<tr><th scope=row>mpg</th><td> 1.00</td><td>-0.85</td><td>-0.78</td><td> 0.68</td><td>-0.87</td><td> 0.42</td></tr>\n",
       "\t<tr><th scope=row>disp</th><td>-0.85</td><td> 1.00</td><td> 0.79</td><td>-0.71</td><td> 0.89</td><td>-0.43</td></tr>\n",
       "\t<tr><th scope=row>hp</th><td>-0.78</td><td> 0.79</td><td> 1.00</td><td>-0.45</td><td> 0.66</td><td>-0.71</td></tr>\n",
       "\t<tr><th scope=row>drat</th><td> 0.68</td><td>-0.71</td><td>-0.45</td><td> 1.00</td><td>-0.71</td><td> 0.09</td></tr>\n",
       "\t<tr><th scope=row>wt</th><td>-0.87</td><td> 0.89</td><td> 0.66</td><td>-0.71</td><td> 1.00</td><td>-0.17</td></tr>\n",
       "\t<tr><th scope=row>qsec</th><td> 0.42</td><td>-0.43</td><td>-0.71</td><td> 0.09</td><td>-0.17</td><td> 1.00</td></tr>\n",
       "</tbody>\n",
       "</table>\n"
      ],
      "text/latex": [
       "\\begin{tabular}{r|llllll}\n",
       "  & mpg & disp & hp & drat & wt & qsec\\\\\n",
       "\\hline\n",
       "\tmpg &  1.00 & -0.85 & -0.78 &  0.68 & -0.87 &  0.42\\\\\n",
       "\tdisp & -0.85 &  1.00 &  0.79 & -0.71 &  0.89 & -0.43\\\\\n",
       "\thp & -0.78 &  0.79 &  1.00 & -0.45 &  0.66 & -0.71\\\\\n",
       "\tdrat &  0.68 & -0.71 & -0.45 &  1.00 & -0.71 &  0.09\\\\\n",
       "\twt & -0.87 &  0.89 &  0.66 & -0.71 &  1.00 & -0.17\\\\\n",
       "\tqsec &  0.42 & -0.43 & -0.71 &  0.09 & -0.17 &  1.00\\\\\n",
       "\\end{tabular}\n"
      ],
      "text/markdown": [
       "\n",
       "| <!--/--> | mpg | disp | hp | drat | wt | qsec |\n",
       "|---|---|---|---|---|---|---|\n",
       "| mpg |  1.00 | -0.85 | -0.78 |  0.68 | -0.87 |  0.42 |\n",
       "| disp | -0.85 |  1.00 |  0.79 | -0.71 |  0.89 | -0.43 |\n",
       "| hp | -0.78 |  0.79 |  1.00 | -0.45 |  0.66 | -0.71 |\n",
       "| drat |  0.68 | -0.71 | -0.45 |  1.00 | -0.71 |  0.09 |\n",
       "| wt | -0.87 |  0.89 |  0.66 | -0.71 |  1.00 | -0.17 |\n",
       "| qsec |  0.42 | -0.43 | -0.71 |  0.09 | -0.17 |  1.00 |\n",
       "\n"
      ],
      "text/plain": [
       "     mpg   disp  hp    drat  wt    qsec \n",
       "mpg   1.00 -0.85 -0.78  0.68 -0.87  0.42\n",
       "disp -0.85  1.00  0.79 -0.71  0.89 -0.43\n",
       "hp   -0.78  0.79  1.00 -0.45  0.66 -0.71\n",
       "drat  0.68 -0.71 -0.45  1.00 -0.71  0.09\n",
       "wt   -0.87  0.89  0.66 -0.71  1.00 -0.17\n",
       "qsec  0.42 -0.43 -0.71  0.09 -0.17  1.00"
      ]
     },
     "metadata": {},
     "output_type": "display_data"
    },
    {
     "data": {
      "text/plain": [
       "\n",
       "Call:\n",
       "lm(formula = mpg ~ ., data = numericas)\n",
       "\n",
       "Residuals:\n",
       "    Min      1Q  Median      3Q     Max \n",
       "-3.5404 -1.6701 -0.4264  1.1320  5.4996 \n",
       "\n",
       "Coefficients:\n",
       "            Estimate Std. Error t value Pr(>|t|)   \n",
       "(Intercept) 16.53357   10.96423   1.508  0.14362   \n",
       "disp         0.00872    0.01119   0.779  0.44281   \n",
       "hp          -0.02060    0.01528  -1.348  0.18936   \n",
       "drat         2.01578    1.30946   1.539  0.13579   \n",
       "wt          -4.38546    1.24343  -3.527  0.00158 **\n",
       "qsec         0.64015    0.45934   1.394  0.17523   \n",
       "---\n",
       "Signif. codes:  0 ‘***’ 0.001 ‘**’ 0.01 ‘*’ 0.05 ‘.’ 0.1 ‘ ’ 1\n",
       "\n",
       "Residual standard error: 2.558 on 26 degrees of freedom\n",
       "Multiple R-squared:  0.8489,\tAdjusted R-squared:  0.8199 \n",
       "F-statistic: 29.22 on 5 and 26 DF,  p-value: 6.892e-10\n"
      ]
     },
     "metadata": {},
     "output_type": "display_data"
    }
   ],
   "source": [
    "data(\"mtcars\")\n",
    "#names(mtcars) # mpg, disp, hp, dratm wt, qsec\n",
    "\n",
    "numericas = mtcars[,c(1,3,4,5,6,7)]\n",
    "round(cor(numericas),2)\n",
    "\n",
    "modelo = lm(mpg ~ ., data = numericas) # mpg variable dependiente\n",
    "summary(modelo)"
   ]
  },
  {
   "cell_type": "code",
   "execution_count": null,
   "id": "c0e8ba22",
   "metadata": {},
   "outputs": [],
   "source": [
    "car::vif(modelo)   #:: cuando uno solo quiere el metodo de la libreria\n",
    "\n",
    "M = as.matrix(numericas)\n",
    "det(t(M)%*%M)\n",
    "solve(t(M)%*%M)\n",
    "\n",
    "\n",
    "## \n",
    "data(KG)\n",
    "cor(KG)\n",
    "\n",
    "modelo = lm(consumption ~ ., data = KG)\n",
    "car::vif(modelo)"
   ]
  },
  {
   "cell_type": "markdown",
   "id": "95291972",
   "metadata": {},
   "source": [
    "# Punto 3"
   ]
  },
  {
   "cell_type": "markdown",
   "id": "cc0639ed",
   "metadata": {},
   "source": [
    "## Ejemplo MLG: Poisson"
   ]
  },
  {
   "cell_type": "code",
   "execution_count": 1,
   "id": "6683f62e",
   "metadata": {},
   "outputs": [
    {
     "data": {
      "image/png": "[encoded data removed]",
      "text/plain": [
       "plot without title"
      ]
     },
     "metadata": {},
     "output_type": "display_data"
    }
   ],
   "source": [
    "# Interpretación Poisson \n",
    "x<-1:30\n",
    "y<-NULL\n",
    "for(i in x){\n",
    "  y[i]<-rpois(1,200-3*i)\n",
    "}\n",
    "plot(x,y)"
   ]
  },
  {
   "cell_type": "code",
   "execution_count": 2,
   "id": "f552e64b",
   "metadata": {},
   "outputs": [
    {
     "data": {
      "text/plain": [
       "\n",
       "Call:\n",
       "glm(formula = y ~ x, family = poisson(link = \"log\"))\n",
       "\n",
       "Deviance Residuals: \n",
       "    Min       1Q   Median       3Q      Max  \n",
       "-2.0766  -0.6769  -0.0813   0.5741   1.5684  \n",
       "\n",
       "Coefficients:\n",
       "            Estimate Std. Error z value Pr(>|z|)    \n",
       "(Intercept)  5.32064    0.02837  187.53   <2e-16 ***\n",
       "x           -0.02034    0.00173  -11.76   <2e-16 ***\n",
       "---\n",
       "Signif. codes:  0 ‘***’ 0.001 ‘**’ 0.01 ‘*’ 0.05 ‘.’ 0.1 ‘ ’ 1\n",
       "\n",
       "(Dispersion parameter for poisson family taken to be 1)\n",
       "\n",
       "    Null deviance: 163.864  on 29  degrees of freedom\n",
       "Residual deviance:  24.247  on 28  degrees of freedom\n",
       "AIC: 233.48\n",
       "\n",
       "Number of Fisher Scoring iterations: 3\n"
      ]
     },
     "metadata": {},
     "output_type": "display_data"
    }
   ],
   "source": [
    "mod<-glm(y~x,family = poisson(link=\"log\"))\n",
    "summary(mod)"
   ]
  },
  {
   "cell_type": "code",
   "execution_count": 3,
   "id": "cab5dff0",
   "metadata": {},
   "outputs": [
    {
     "data": {
      "text/html": [
       "0.979865462406894"
      ],
      "text/latex": [
       "0.979865462406894"
      ],
      "text/markdown": [
       "0.979865462406894"
      ],
      "text/plain": [
       "[1] 0.9798655"
      ]
     },
     "metadata": {},
     "output_type": "display_data"
    },
    {
     "data": {
      "text/html": [
       "0.0201345375931061"
      ],
      "text/latex": [
       "0.0201345375931061"
      ],
      "text/markdown": [
       "0.0201345375931061"
      ],
      "text/plain": [
       "[1] 0.02013454"
      ]
     },
     "metadata": {},
     "output_type": "display_data"
    }
   ],
   "source": [
    "exp(-0.02034)\n",
    "1-exp(-0.02034) #Por cada unidad en `x` dismuye `y` en un 2%"
   ]
  },
  {
   "cell_type": "markdown",
   "id": "6e96584d",
   "metadata": {},
   "source": [
    "## Ejemplo MLG: logístico"
   ]
  },
  {
   "cell_type": "code",
   "execution_count": 4,
   "id": "bb9cb9f7",
   "metadata": {},
   "outputs": [
    {
     "data": {
      "text/html": [
       "<table>\n",
       "<thead><tr><th scope=col>id</th><th scope=col>treatment</th><th scope=col>gender</th><th scope=col>age</th><th scope=col>time</th><th scope=col>pain</th><th scope=col>pain2</th></tr></thead>\n",
       "<tbody>\n",
       "\t<tr><td>1 </td><td>A </td><td>F </td><td>64</td><td>1 </td><td>1 </td><td>1 </td></tr>\n",
       "\t<tr><td>1 </td><td>A </td><td>F </td><td>64</td><td>2 </td><td>1 </td><td>1 </td></tr>\n",
       "\t<tr><td>1 </td><td>A </td><td>F </td><td>64</td><td>3 </td><td>1 </td><td>1 </td></tr>\n",
       "\t<tr><td>1 </td><td>A </td><td>F </td><td>64</td><td>4 </td><td>1 </td><td>1 </td></tr>\n",
       "\t<tr><td>1 </td><td>A </td><td>F </td><td>64</td><td>5 </td><td>1 </td><td>1 </td></tr>\n",
       "\t<tr><td>1 </td><td>A </td><td>F </td><td>64</td><td>6 </td><td>1 </td><td>1 </td></tr>\n",
       "</tbody>\n",
       "</table>\n"
      ],
      "text/latex": [
       "\\begin{tabular}{r|lllllll}\n",
       " id & treatment & gender & age & time & pain & pain2\\\\\n",
       "\\hline\n",
       "\t 1  & A  & F  & 64 & 1  & 1  & 1 \\\\\n",
       "\t 1  & A  & F  & 64 & 2  & 1  & 1 \\\\\n",
       "\t 1  & A  & F  & 64 & 3  & 1  & 1 \\\\\n",
       "\t 1  & A  & F  & 64 & 4  & 1  & 1 \\\\\n",
       "\t 1  & A  & F  & 64 & 5  & 1  & 1 \\\\\n",
       "\t 1  & A  & F  & 64 & 6  & 1  & 1 \\\\\n",
       "\\end{tabular}\n"
      ],
      "text/markdown": [
       "\n",
       "| id | treatment | gender | age | time | pain | pain2 |\n",
       "|---|---|---|---|---|---|---|\n",
       "| 1  | A  | F  | 64 | 1  | 1  | 1  |\n",
       "| 1  | A  | F  | 64 | 2  | 1  | 1  |\n",
       "| 1  | A  | F  | 64 | 3  | 1  | 1  |\n",
       "| 1  | A  | F  | 64 | 4  | 1  | 1  |\n",
       "| 1  | A  | F  | 64 | 5  | 1  | 1  |\n",
       "| 1  | A  | F  | 64 | 6  | 1  | 1  |\n",
       "\n"
      ],
      "text/plain": [
       "  id treatment gender age time pain pain2\n",
       "1 1  A         F      64  1    1    1    \n",
       "2 1  A         F      64  2    1    1    \n",
       "3 1  A         F      64  3    1    1    \n",
       "4 1  A         F      64  4    1    1    \n",
       "5 1  A         F      64  5    1    1    \n",
       "6 1  A         F      64  6    1    1    "
      ]
     },
     "metadata": {},
     "output_type": "display_data"
    }
   ],
   "source": [
    "data(cholecystectomy, package = \"glmtoolbox\")\n",
    "head(cholecystectomy)"
   ]
  },
  {
   "cell_type": "markdown",
   "id": "719f61b5",
   "metadata": {},
   "source": [
    "### Enlace logit"
   ]
  },
  {
   "cell_type": "code",
   "execution_count": 8,
   "id": "9e90dbba",
   "metadata": {},
   "outputs": [
    {
     "data": {
      "text/plain": [
       "\n",
       "Call:\n",
       "glm(formula = pain2 ~ ., family = binomial(link = \"logit\"), data = d)\n",
       "\n",
       "Deviance Residuals: \n",
       "    Min       1Q   Median       3Q      Max  \n",
       "-2.4388  -0.8280   0.3428   0.6806   1.9775  \n",
       "\n",
       "Coefficients:\n",
       "            Estimate Std. Error z value Pr(>|z|)    \n",
       "(Intercept) -3.40289    0.82007  -4.150 3.33e-05 ***\n",
       "treatmentA   2.40573    0.36756   6.545 5.94e-11 ***\n",
       "genderF      0.52971    0.34806   1.522 0.128031    \n",
       "age          0.04033    0.01154   3.494 0.000476 ***\n",
       "time         0.22888    0.09893   2.314 0.020694 *  \n",
       "---\n",
       "Signif. codes:  0 ‘***’ 0.001 ‘**’ 0.01 ‘*’ 0.05 ‘.’ 0.1 ‘ ’ 1\n",
       "\n",
       "(Dispersion parameter for binomial family taken to be 1)\n",
       "\n",
       "    Null deviance: 302.55  on 245  degrees of freedom\n",
       "Residual deviance: 223.14  on 241  degrees of freedom\n",
       "AIC: 233.14\n",
       "\n",
       "Number of Fisher Scoring iterations: 5\n"
      ]
     },
     "metadata": {},
     "output_type": "display_data"
    }
   ],
   "source": [
    "d=cholecystectomy[,-c(1,6)]\n",
    "fit=glm(pain2~.,family = binomial(link=\"logit\"),data=d)\n",
    "summary(fit) # beta_2_{genderF} no significativo"
   ]
  },
  {
   "cell_type": "markdown",
   "id": "a71d5f1b",
   "metadata": {},
   "source": [
    "### Enlace probit"
   ]
  },
  {
   "cell_type": "code",
   "execution_count": 9,
   "id": "6e147fd4",
   "metadata": {},
   "outputs": [
    {
     "data": {
      "text/plain": [
       "\n",
       "Call:\n",
       "glm(formula = pain2 ~ ., family = binomial(link = \"probit\"), \n",
       "    data = d)\n",
       "\n",
       "Deviance Residuals: \n",
       "    Min       1Q   Median       3Q      Max  \n",
       "-2.4454  -0.8722   0.3433   0.6909   1.9341  \n",
       "\n",
       "Coefficients:\n",
       "             Estimate Std. Error z value Pr(>|z|)    \n",
       "(Intercept) -1.897295   0.456223  -4.159 3.20e-05 ***\n",
       "treatmentA   1.375417   0.199598   6.891 5.54e-12 ***\n",
       "genderF      0.270665   0.200692   1.349 0.177447    \n",
       "age          0.021592   0.006368   3.391 0.000697 ***\n",
       "time         0.144062   0.056979   2.528 0.011460 *  \n",
       "---\n",
       "Signif. codes:  0 ‘***’ 0.001 ‘**’ 0.01 ‘*’ 0.05 ‘.’ 0.1 ‘ ’ 1\n",
       "\n",
       "(Dispersion parameter for binomial family taken to be 1)\n",
       "\n",
       "    Null deviance: 302.55  on 245  degrees of freedom\n",
       "Residual deviance: 223.96  on 241  degrees of freedom\n",
       "AIC: 233.96\n",
       "\n",
       "Number of Fisher Scoring iterations: 5\n"
      ]
     },
     "metadata": {},
     "output_type": "display_data"
    }
   ],
   "source": [
    "fit2<-glm(pain2~.,family = binomial(link=\"probit\"),data=d)\n",
    "summary(fit2) # beta_2_{genderF} no significativo"
   ]
  },
  {
   "cell_type": "code",
   "execution_count": 10,
   "id": "7134ecb6",
   "metadata": {},
   "outputs": [
    {
     "data": {
      "text/html": [
       "<table>\n",
       "<thead><tr><th></th><th scope=col>df</th><th scope=col>AIC</th></tr></thead>\n",
       "<tbody>\n",
       "\t<tr><th scope=row>fit</th><td>5       </td><td>233.1373</td></tr>\n",
       "\t<tr><th scope=row>fit2</th><td>5       </td><td>233.9596</td></tr>\n",
       "</tbody>\n",
       "</table>\n"
      ],
      "text/latex": [
       "\\begin{tabular}{r|ll}\n",
       "  & df & AIC\\\\\n",
       "\\hline\n",
       "\tfit & 5        & 233.1373\\\\\n",
       "\tfit2 & 5        & 233.9596\\\\\n",
       "\\end{tabular}\n"
      ],
      "text/markdown": [
       "\n",
       "| <!--/--> | df | AIC |\n",
       "|---|---|---|\n",
       "| fit | 5        | 233.1373 |\n",
       "| fit2 | 5        | 233.9596 |\n",
       "\n"
      ],
      "text/plain": [
       "     df AIC     \n",
       "fit  5  233.1373\n",
       "fit2 5  233.9596"
      ]
     },
     "metadata": {},
     "output_type": "display_data"
    }
   ],
   "source": [
    "AIC(fit,fit2) # fit : enlace logit"
   ]
  },
  {
   "cell_type": "markdown",
   "id": "4529166b",
   "metadata": {},
   "source": [
    "## ED50"
   ]
  },
  {
   "cell_type": "code",
   "execution_count": 12,
   "id": "1c58dfef",
   "metadata": {},
   "outputs": [],
   "source": [
    "concentracion <- c(0.0108, 0.0488, 0.2195, 0.9877, 2.643, 4.4444, 20.0, 50.0)\n",
    "actividad     <- c(-1.6941, -5.6772, 8.2225, 24.2046, 72.145, 98.0494, 106.7267, 104.568)\n",
    "datos_actividad <- data.frame(concentracion, actividad)"
   ]
  },
  {
   "cell_type": "code",
   "execution_count": null,
   "id": "3925f25a",
   "metadata": {},
   "outputs": [],
   "source": [
    "library(drc)\n",
    "\n",
    "# Ajuste de la curva dosis respuesta con un modelo logístico de 4 parámetros en\n",
    "# el que no se fija ninguno de ellos.\n",
    "curve_fit <- drm(formula = actividad ~ concentracion, data = datos_actividad, \n",
    "                 na.action = na.omit,\n",
    "                 fct = LL.4(fixed = c(NA,NA,NA,NA),\n",
    "                            names = c(\"Hill\",\"Bottom\",\"Top\",\"IC50\")))\n",
    "\n",
    "summary(curve_fit)"
   ]
  }
 ],
 "metadata": {
  "kernelspec": {
   "display_name": "R",
   "language": "R",
   "name": "ir"
  },
  "language_info": {
   "codemirror_mode": "r",
   "file_extension": ".r",
   "mimetype": "text/x-r-source",
   "name": "R",
   "pygments_lexer": "r",
   "version": "3.6.1"
  }
 },
 "nbformat": 4,
 "nbformat_minor": 5
}
