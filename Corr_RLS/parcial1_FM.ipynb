{
  "nbformat": 4,
  "nbformat_minor": 0,
  "metadata": {
    "colab": {
      "name": "parcial1_FM.ipynb",
      "provenance": [],
      "authorship_tag": "ABX9TyMhGorakm1R3BvxMKjtcylD",
      "include_colab_link": true
    },
    "kernelspec": {
      "name": "python3",
      "display_name": "Python 3"
    },
    "language_info": {
      "name": "python"
    }
  },
  "cells": [
    {
      "cell_type": "markdown",
      "metadata": {
        "id": "view-in-github",
        "colab_type": "text"
      },
      "source": [
        "<a href=\"https://colab.research.google.com/github/jofmorenore/Modelos_Lineales/blob/main/Corr_RLS/parcial1_FM.ipynb\" target=\"_parent\"><img src=\"https://colab.research.google.com/assets/colab-badge.svg\" alt=\"Open In Colab\"/></a>"
      ]
    },
    {
      "cell_type": "code",
      "execution_count": null,
      "metadata": {
        "id": "Az2w0TuuzqJY"
      },
      "outputs": [],
      "source": [
        "%load_ext rpy2.ipython"
      ]
    },
    {
      "cell_type": "code",
      "source": [
        "%%R\n",
        "libs = list(\"MASS\", \"lmtest\", \"nortest\", \"QuantPsyc\")\n",
        "lapply(libs, function(x) install.packages(x))"
      ],
      "metadata": {
        "id": "tik6DvCw0Fc1"
      },
      "execution_count": null,
      "outputs": []
    },
    {
      "cell_type": "code",
      "source": [
        "%%R\n",
        "library(MASS)\n",
        "library(lmtest)\n",
        "library(nortest)\n",
        "library(QuantPsyc)"
      ],
      "metadata": {
        "id": "YhzW37eB0G5c"
      },
      "execution_count": null,
      "outputs": []
    },
    {
      "cell_type": "markdown",
      "source": [
        "# Lectura de datos"
      ],
      "metadata": {
        "id": "5i1vFcGX0Wy2"
      }
    },
    {
      "cell_type": "markdown",
      "source": [
        "# **trees**"
      ],
      "metadata": {
        "id": "bfZh7-c44yNt"
      }
    },
    {
      "cell_type": "code",
      "source": [
        "%%R\n",
        "require(stats)\n",
        "require(graphics)\n",
        "attach(trees)\n",
        "str(trees)"
      ],
      "metadata": {
        "colab": {
          "base_uri": "https://localhost:8080/"
        },
        "id": "4ZxdB_oD0Suj",
        "outputId": "3c1e81aa-a8d5-4a67-9650-dd971b8295f8"
      },
      "execution_count": null,
      "outputs": [
        {
          "output_type": "stream",
          "name": "stderr",
          "text": [
            "WARNING:rpy2.rinterface_lib.callbacks:R[write to console]: The following objects are masked from trees (pos = 3):\n",
            "\n",
            "    Girth, Height, Volume\n",
            "\n",
            "\n"
          ]
        },
        {
          "output_type": "stream",
          "name": "stdout",
          "text": [
            "'data.frame':\t31 obs. of  3 variables:\n",
            " $ Girth : num  8.3 8.6 8.8 10.5 10.7 10.8 11 11 11.1 11.2 ...\n",
            " $ Height: num  70 65 63 72 81 83 66 75 80 75 ...\n",
            " $ Volume: num  10.3 10.3 10.2 16.4 18.8 19.7 15.6 18.2 22.6 19.9 ...\n"
          ]
        }
      ]
    },
    {
      "cell_type": "code",
      "source": [
        "%%R\n",
        "?trees"
      ],
      "metadata": {
        "colab": {
          "base_uri": "https://localhost:8080/"
        },
        "id": "KCxKARZN9DhS",
        "outputId": "d2255d73-58e1-4a0d-a2b8-c23963b8b65a"
      },
      "execution_count": null,
      "outputs": [
        {
          "output_type": "stream",
          "name": "stdout",
          "text": [
            "File: /tmp/RtmpJCS2ix/Rtxt3d5548773a\n",
            "trees                 package:datasets                 R Documentation\n",
            "\n",
            "\n",
            "\n",
            "_\bD_\bi_\ba_\bm_\be_\bt_\be_\br, _\bH_\be_\bi_\bg_\bh_\bt _\ba_\bn_\bd _\bV_\bo_\bl_\bu_\bm_\be _\bf_\bo_\br _\bB_\bl_\ba_\bc_\bk _\bC_\bh_\be_\br_\br_\by _\bT_\br_\be_\be_\bs\n",
            "\n",
            "\n",
            "\n",
            "_\bD_\be_\bs_\bc_\br_\bi_\bp_\bt_\bi_\bo_\bn:\n",
            "\n",
            "\n",
            "\n",
            "     This data set provides measurements of the diameter, height and\n",
            "\n",
            "     volume of timber in 31 felled black cherry trees.  Note that the\n",
            "\n",
            "     diameter (in inches) is erroneously labelled Girth in the data. It\n",
            "\n",
            "     is measured at 4 ft 6 in above the ground.\n",
            "\n",
            "\n",
            "\n",
            "_\bU_\bs_\ba_\bg_\be:\n",
            "\n",
            "\n",
            "\n",
            "     trees\n",
            "\n",
            "     \n",
            "\n",
            "_\bF_\bo_\br_\bm_\ba_\bt:\n",
            "\n",
            "\n",
            "\n",
            "     A data frame with 31 observations on 3 variables.\n",
            "\n",
            "\n",
            "\n",
            "       ‘[,1]’  ‘Girth’   numeric  Tree diameter (rather than girth, actually) in inches \n",
            "\n",
            "       ‘[,2]’  ‘Height’  numeric  Height in ft                                          \n",
            "\n",
            "       ‘[,3]’  ‘Volume’  numeric  Volume of timber in cubic ft                          \n",
            "\n",
            "      \n",
            "\n",
            "_\bS_\bo_\bu_\br_\bc_\be:\n",
            "\n",
            "\n",
            "\n",
            "     Ryan, T. A., Joiner, B. L. and Ryan, B. F. (1976) _The Minitab\n",
            "\n",
            "     Student Handbook_.  Duxbury Press.\n",
            "\n",
            "\n",
            "\n",
            "_\bR_\be_\bf_\be_\br_\be_\bn_\bc_\be_\bs:\n",
            "\n",
            "\n",
            "\n",
            "     Atkinson, A. C. (1985) _Plots, Transformations and Regression_.\n",
            "\n",
            "     Oxford University Press.\n",
            "\n",
            "\n",
            "\n",
            "_\bE_\bx_\ba_\bm_\bp_\bl_\be_\bs:\n",
            "\n",
            "\n",
            "\n",
            "     require(stats); require(graphics)\n",
            "\n",
            "     pairs(trees, panel = panel.smooth, main = \"trees data\")\n",
            "\n",
            "     plot(Volume ~ Girth, data = trees, log = \"xy\")\n",
            "\n",
            "     coplot(log(Volume) ~ log(Girth) | Height, data = trees,\n",
            "\n",
            "            panel = panel.smooth)\n",
            "\n",
            "     summary(fm1 <- lm(log(Volume) ~ log(Girth), data = trees))\n",
            "\n",
            "     summary(fm2 <- update(fm1, ~ . + log(Height), data = trees))\n",
            "\n",
            "     step(fm2)\n",
            "\n",
            "     ## i.e., Volume ~= c * Height * Girth^2  seems reasonable\n",
            "\n",
            "     \n",
            "\n",
            "---\n"
          ]
        }
      ]
    },
    {
      "cell_type": "code",
      "source": [
        "%%R\n",
        "plot(Girth , Height, main=\"Girth vs Height\")"
      ],
      "metadata": {
        "colab": {
          "base_uri": "https://localhost:8080/",
          "height": 497
        },
        "id": "RTi3MaQ5FmGV",
        "outputId": "ee7ce995-9ef4-4f15-aa58-a8602624aad7"
      },
      "execution_count": null,
      "outputs": [
        {
          "output_type": "display_data",
          "data": {
            "image/png": "[encoded data removed]"
          },
          "metadata": {}
        }
      ]
    },
    {
      "cell_type": "markdown",
      "source": [
        "## Test de Mardia\n",
        "+ Ho: el vector aleatorio proviene de una normal bivariada.\n",
        "+ Ha: el vector aleatorio NO proviene de una normal bivariada.\n",
        "\n",
        "valores.p: 0.95 (Skewness) y 0.32 (Kurtosis)"
      ],
      "metadata": {
        "id": "9qo8Tna8Fu8V"
      }
    },
    {
      "cell_type": "code",
      "source": [
        "%%R\n",
        "trees = trees[,-3]\n",
        "trees\n",
        "#MVN::mvn(GRANOLAS) "
      ],
      "metadata": {
        "colab": {
          "base_uri": "https://localhost:8080/"
        },
        "id": "2g-FkejLFsCj",
        "outputId": "bfea1c82-851f-4fd0-f88f-9cbd8d2b825b"
      },
      "execution_count": null,
      "outputs": [
        {
          "output_type": "stream",
          "name": "stdout",
          "text": [
            "   Girth Height\n",
            "1    8.3     70\n",
            "2    8.6     65\n",
            "3    8.8     63\n",
            "4   10.5     72\n",
            "5   10.7     81\n",
            "6   10.8     83\n",
            "7   11.0     66\n",
            "8   11.0     75\n",
            "9   11.1     80\n",
            "10  11.2     75\n",
            "11  11.3     79\n",
            "12  11.4     76\n",
            "13  11.4     76\n",
            "14  11.7     69\n",
            "15  12.0     75\n",
            "16  12.9     74\n",
            "17  12.9     85\n",
            "18  13.3     86\n",
            "19  13.7     71\n",
            "20  13.8     64\n",
            "21  14.0     78\n",
            "22  14.2     80\n",
            "23  14.5     74\n",
            "24  16.0     72\n",
            "25  16.3     77\n",
            "26  17.3     81\n",
            "27  17.5     82\n",
            "28  17.9     80\n",
            "29  18.0     80\n",
            "30  18.0     80\n",
            "31  20.6     87\n"
          ]
        }
      ]
    },
    {
      "cell_type": "code",
      "source": [
        "%%R\n",
        "mult.norm(trees)$mult.test"
      ],
      "metadata": {
        "colab": {
          "base_uri": "https://localhost:8080/"
        },
        "id": "kS6lLRmkMz1w",
        "outputId": "a2b7dcaf-fadc-469d-8b33-606cec07cd80"
      },
      "execution_count": null,
      "outputs": [
        {
          "output_type": "stream",
          "name": "stdout",
          "text": [
            "         Beta-hat     kappa     p-val\n",
            "Skewness 0.529848  2.737548 0.6026604\n",
            "Kurtosis 5.981926 -1.404520 0.1601641\n"
          ]
        }
      ]
    },
    {
      "cell_type": "code",
      "source": [
        "!pip3 install pingouin"
      ],
      "metadata": {
        "id": "UMX1hyN0LIXm"
      },
      "execution_count": null,
      "outputs": []
    },
    {
      "cell_type": "code",
      "source": [
        "%R -o trees trees <- trees\n",
        "# H0: The variables follow a multivariate normal distribution.\n",
        "# Ha: The variables do not follow a multivariate normal distribution.\n",
        "\n",
        "import pingouin as pg\n",
        "pg.multivariate_normality(trees, alpha=.05)"
      ],
      "metadata": {
        "colab": {
          "base_uri": "https://localhost:8080/"
        },
        "id": "Sk2KcWLIKmmg",
        "outputId": "f76f1492-8b38-4b8d-bd73-d9bb25394a9d"
      },
      "execution_count": null,
      "outputs": [
        {
          "output_type": "execute_result",
          "data": {
            "text/plain": [
              "HZResults(hz=0.6636802869840224, pval=0.12749059799941737, normal=True)"
            ]
          },
          "metadata": {},
          "execution_count": 31
        }
      ]
    },
    {
      "cell_type": "markdown",
      "source": [
        "## Coeficiente de correlación\n",
        "\n",
        "+ $H_0$: rho es cero. \n",
        "+ $H_a$: rho es distinto de cero. "
      ],
      "metadata": {
        "id": "S2KjezMdGLkk"
      }
    },
    {
      "cell_type": "code",
      "source": [
        "%%R\n",
        "# No rechazo H0. (ó rho puede ser cero (valor.p=0.4))\n",
        "# r = 0.35 (Interpretar significancia y signo).\n",
        "cor.test(Girth, Height, data=\"trees\") "
      ],
      "metadata": {
        "colab": {
          "base_uri": "https://localhost:8080/"
        },
        "id": "fvMSNhIOGHNX",
        "outputId": "fc616eda-f775-40c8-9506-89b406589937"
      },
      "execution_count": null,
      "outputs": [
        {
          "output_type": "stream",
          "name": "stdout",
          "text": [
            "\n",
            "\tPearson's product-moment correlation\n",
            "\n",
            "data:  Girth and Height\n",
            "t = 3.2722, df = 29, p-value = 0.002758\n",
            "alternative hypothesis: true correlation is not equal to 0\n",
            "95 percent confidence interval:\n",
            " 0.2021327 0.7378538\n",
            "sample estimates:\n",
            "      cor \n",
            "0.5192801 \n",
            "\n"
          ]
        }
      ]
    },
    {
      "cell_type": "markdown",
      "source": [
        "# **road**"
      ],
      "metadata": {
        "id": "b8jbbuRK41Jl"
      }
    },
    {
      "cell_type": "code",
      "source": [
        "%%R\n",
        "attach(road)\n",
        "str(road)"
      ],
      "metadata": {
        "colab": {
          "base_uri": "https://localhost:8080/"
        },
        "id": "QafnhyD-3Zrz",
        "outputId": "7e67edde-05c1-4c86-bed6-d5611aaf4226"
      },
      "execution_count": null,
      "outputs": [
        {
          "output_type": "stream",
          "name": "stderr",
          "text": [
            "WARNING:rpy2.rinterface_lib.callbacks:R[write to console]: The following objects are masked from road (pos = 3):\n",
            "\n",
            "    fuel, popden\n",
            "\n",
            "\n",
            "WARNING:rpy2.rinterface_lib.callbacks:R[write to console]: The following objects are masked from road (pos = 8):\n",
            "\n",
            "    deaths, drivers, fuel, popden, rural, temp\n",
            "\n",
            "\n",
            "WARNING:rpy2.rinterface_lib.callbacks:R[write to console]: The following objects are masked from package:MASS:\n",
            "\n",
            "    deaths, drivers\n",
            "\n",
            "\n"
          ]
        },
        {
          "output_type": "stream",
          "name": "stdout",
          "text": [
            "'data.frame':\t26 obs. of  6 variables:\n",
            " $ deaths : int  968 43 588 640 4743 566 325 118 115 1545 ...\n",
            " $ drivers: int  158 11 91 92 952 109 167 30 35 298 ...\n",
            " $ popden : num  64 0.4 12 34 100 ...\n",
            " $ rural  : num  66 5.9 33 73 118 73 5.1 3.4 0 57 ...\n",
            " $ temp   : int  62 30 64 51 65 42 37 41 44 67 ...\n",
            " $ fuel   : num  119 6.2 65 74 105 78 95 20 23 216 ...\n"
          ]
        }
      ]
    },
    {
      "cell_type": "code",
      "source": [
        "%%R\n",
        "?road"
      ],
      "metadata": {
        "colab": {
          "base_uri": "https://localhost:8080/"
        },
        "id": "97fXmwg9_jBp",
        "outputId": "d00c7d3a-551a-4fd3-841c-b9c00fd471dd"
      },
      "execution_count": null,
      "outputs": [
        {
          "output_type": "stream",
          "name": "stdout",
          "text": [
            "File: /tmp/RtmpJCS2ix/Rtxt3d5f370a46\n",
            "road                   package:MASS                    R Documentation\n",
            "\n",
            "\n",
            "\n",
            "_\bR_\bo_\ba_\bd _\bA_\bc_\bc_\bi_\bd_\be_\bn_\bt _\bD_\be_\ba_\bt_\bh_\bs _\bi_\bn _\bU_\bS _\bS_\bt_\ba_\bt_\be_\bs\n",
            "\n",
            "\n",
            "\n",
            "_\bD_\be_\bs_\bc_\br_\bi_\bp_\bt_\bi_\bo_\bn:\n",
            "\n",
            "\n",
            "\n",
            "     A data frame with the annual deaths in road accidents for half the\n",
            "\n",
            "     US states.\n",
            "\n",
            "\n",
            "\n",
            "_\bU_\bs_\ba_\bg_\be:\n",
            "\n",
            "\n",
            "\n",
            "     road\n",
            "\n",
            "     \n",
            "\n",
            "_\bF_\bo_\br_\bm_\ba_\bt:\n",
            "\n",
            "\n",
            "\n",
            "     Columns are:\n",
            "\n",
            "\n",
            "\n",
            "     ‘state’ name.\n",
            "\n",
            "\n",
            "\n",
            "     ‘deaths’ number of deaths.\n",
            "\n",
            "\n",
            "\n",
            "     ‘drivers’ number of drivers (in 10,000s).\n",
            "\n",
            "\n",
            "\n",
            "     ‘popden’ population density in people per square mile.\n",
            "\n",
            "\n",
            "\n",
            "     ‘rural’ length of rural roads, in 1000s of miles.\n",
            "\n",
            "\n",
            "\n",
            "     ‘temp’ average daily maximum temperature in January.\n",
            "\n",
            "\n",
            "\n",
            "     ‘fuel’ fuel consumption in 10,000,000 US gallons per year.\n",
            "\n",
            "\n",
            "\n",
            "_\bS_\bo_\bu_\br_\bc_\be:\n",
            "\n",
            "\n",
            "\n",
            "     Imperial College, London M.Sc. exercise\n",
            "\n",
            "\n",
            "\n",
            "---\n"
          ]
        }
      ]
    },
    {
      "cell_type": "code",
      "source": [
        "%%R\n",
        "plot(popden, temp, main=\"popden vs fuel\")"
      ],
      "metadata": {
        "colab": {
          "base_uri": "https://localhost:8080/",
          "height": 497
        },
        "id": "AAj4C2kk_xJX",
        "outputId": "e1c7136c-4dea-4343-cce8-87be314afff0"
      },
      "execution_count": null,
      "outputs": [
        {
          "output_type": "display_data",
          "data": {
            "image/png": "[encoded data removed]"
          },
          "metadata": {}
        }
      ]
    },
    {
      "cell_type": "code",
      "source": [
        "%%R\n",
        "road = road[, c(3,5)]\n",
        "road"
      ],
      "metadata": {
        "colab": {
          "base_uri": "https://localhost:8080/"
        },
        "id": "m7k9Vxx3__-r",
        "outputId": "622950bd-7255-4526-d0c1-f0da7c200a95"
      },
      "execution_count": null,
      "outputs": [
        {
          "output_type": "stream",
          "name": "stdout",
          "text": [
            "         popden temp\n",
            "Alabama    64.0   62\n",
            "Alaska      0.4   30\n",
            "Arizona    12.0   64\n",
            "Arkanas    34.0   51\n",
            "Calif     100.0   65\n",
            "Colo       17.0   42\n",
            "Conn      518.0   37\n",
            "Dela      226.0   41\n",
            "DC      12524.0   44\n",
            "Florida    91.0   67\n",
            "Georgia    68.0   54\n",
            "Idaho       8.1   36\n",
            "Ill       180.0   33\n",
            "Ind       129.0   37\n",
            "Iowa       49.0   30\n",
            "Kansas     27.0   42\n",
            "Kent       76.0   44\n",
            "Louis      72.0   65\n",
            "Maine      31.0   30\n",
            "Maryl     314.0   44\n",
            "Mass      655.0   37\n",
            "Mich      137.0   33\n",
            "Minn       43.0   22\n",
            "Miss       46.0   57\n",
            "Mo         63.0   40\n",
            "Mont        4.6   29\n"
          ]
        }
      ]
    },
    {
      "cell_type": "markdown",
      "source": [
        "## Test de Normalidad Multivariada"
      ],
      "metadata": {
        "id": "6QvKKWxBHI91"
      }
    },
    {
      "cell_type": "code",
      "source": [
        "%%R\n",
        "mult.norm(road)$mult.test"
      ],
      "metadata": {
        "colab": {
          "base_uri": "https://localhost:8080/"
        },
        "id": "2815eyB4NR8r",
        "outputId": "51de0091-5082-45cf-b25a-7d5488b280cb"
      },
      "execution_count": null,
      "outputs": [
        {
          "output_type": "stream",
          "name": "stdout",
          "text": [
            "         Beta-hat    kappa p-val\n",
            "Skewness 20.54004 89.00686     0\n",
            "Kurtosis 24.07378 10.24507     0\n"
          ]
        }
      ]
    },
    {
      "cell_type": "code",
      "source": [
        "%R -o road road <- road\n",
        "# H0: The variables follow a multivariate normal distribution.\n",
        "# Ha: The variables do not follow a multivariate normal distribution.\n",
        "pg.multivariate_normality(road, alpha=.05)"
      ],
      "metadata": {
        "colab": {
          "base_uri": "https://localhost:8080/"
        },
        "id": "EQNiHXKVLpYG",
        "outputId": "75119953-ac2d-4f6e-ac4c-48f609dc02fc"
      },
      "execution_count": null,
      "outputs": [
        {
          "output_type": "execute_result",
          "data": {
            "text/plain": [
              "HZResults(hz=3.381413600567459, pval=4.1734132869122214e-08, normal=False)"
            ]
          },
          "metadata": {},
          "execution_count": 48
        }
      ]
    },
    {
      "cell_type": "markdown",
      "source": [
        "## Coeficiente de correlación\n",
        "\n",
        "1) p.value= 0.002 \n",
        "\n",
        "2) sample estimates:\n",
        "\n",
        "    rho \n",
        "    0.8389097 "
      ],
      "metadata": {
        "id": "fSlAYhsEHLH1"
      }
    },
    {
      "cell_type": "code",
      "source": [
        "%%R\n",
        "cor.test(popden,  temp, data=\"road\", method=\"spearman\") "
      ],
      "metadata": {
        "colab": {
          "base_uri": "https://localhost:8080/"
        },
        "id": "U-wnlq2wGvWx",
        "outputId": "bed8cae3-ec91-411a-ed60-966530b75c45"
      },
      "execution_count": null,
      "outputs": [
        {
          "output_type": "stream",
          "name": "stdout",
          "text": [
            "\n",
            "\tSpearman's rank correlation rho\n",
            "\n",
            "data:  popden and temp\n",
            "S = 2351.5, p-value = 0.3371\n",
            "alternative hypothesis: true rho is not equal to 0\n",
            "sample estimates:\n",
            "      rho \n",
            "0.1960589 \n",
            "\n"
          ]
        }
      ]
    },
    {
      "cell_type": "markdown",
      "source": [
        "# WAGESALARY"
      ],
      "metadata": {
        "id": "v61KDPo64_Ol"
      }
    },
    {
      "cell_type": "code",
      "source": [
        "%%R\n",
        "WAGESALARY = data.frame(EMPLOYEE = c(1:7,11:19),\n",
        "                        AGE = c(35,29,37,27,52,50,26,30,26,30,41,46,26,36,38,28),\n",
        "                        EDUCATION = c(13,17,12,14,12,17,18,15,16,17,15,9,17,14,18,8),\n",
        "                        HOURS = c(2080,2080,0,2340,2080,2340,3120,3640,2100,2080,1976,0,2600,2860,1820,0),\n",
        "                        WAGESALARY = c(29957.3,46940.52,0,27121.19,37813.2,0,93881.04,16298.79,0,65195.17,36509.29,3694.73,62587.36,20862.45,0,0))"
      ],
      "metadata": {
        "id": "1r-bS4ii5Db8"
      },
      "execution_count": null,
      "outputs": []
    },
    {
      "cell_type": "code",
      "source": [
        "%%R\n",
        "WAGESALARY"
      ],
      "metadata": {
        "colab": {
          "base_uri": "https://localhost:8080/"
        },
        "id": "LntD-p6w6Cp7",
        "outputId": "c52bc48e-0dbe-42f4-f647-587c35e8cdb3"
      },
      "execution_count": null,
      "outputs": [
        {
          "output_type": "stream",
          "name": "stdout",
          "text": [
            "   EMPLOYEE AGE EDUCATION HOURS WAGESALARY\n",
            "1         1  35        13  2080   29957.30\n",
            "2         2  29        17  2080   46940.52\n",
            "3         3  37        12     0       0.00\n",
            "4         4  27        14  2340   27121.19\n",
            "5         5  52        12  2080   37813.20\n",
            "6         6  50        17  2340       0.00\n",
            "7         7  26        18  3120   93881.04\n",
            "8        11  30        15  3640   16298.79\n",
            "9        12  26        16  2100       0.00\n",
            "10       13  30        17  2080   65195.17\n",
            "11       14  41        15  1976   36509.29\n",
            "12       15  46         9     0    3694.73\n",
            "13       16  26        17  2600   62587.36\n",
            "14       17  36        14  2860   20862.45\n",
            "15       18  38        18  1820       0.00\n",
            "16       19  28         8     0       0.00\n"
          ]
        }
      ]
    },
    {
      "cell_type": "markdown",
      "source": [
        "# Ajuste del modelo lineal"
      ],
      "metadata": {
        "id": "dEDZ2yT1j4Dd"
      }
    },
    {
      "cell_type": "code",
      "source": [
        "%%R\n",
        "wage.fit11 = lm(WAGESALARY ~ HOURS, data = WAGESALARY) # 1) AJUSTAR EL MODELO \n",
        "wage.fit11     ### 2) COEFICIENTES ESTIMADOS bo y b1"
      ],
      "metadata": {
        "colab": {
          "base_uri": "https://localhost:8080/"
        },
        "id": "qgjqQYkfZp9l",
        "outputId": "1a19d758-c71b-4e55-8e26-b7fc2f0eeccd"
      },
      "execution_count": null,
      "outputs": [
        {
          "output_type": "stream",
          "name": "stdout",
          "text": [
            "\n",
            "Call:\n",
            "lm(formula = WAGESALARY ~ HOURS, data = WAGESALARY)\n",
            "\n",
            "Coefficients:\n",
            "(Intercept)        HOURS  \n",
            "    2019.33        13.13  \n",
            "\n"
          ]
        }
      ]
    },
    {
      "cell_type": "code",
      "source": [
        "%%R\n",
        "resid.hours<-residuals(wage.fit11)  ### Residuales (errores estimados)\n",
        "resid.hours"
      ],
      "metadata": {
        "colab": {
          "base_uri": "https://localhost:8080/"
        },
        "id": "vUcRmcZWaEiR",
        "outputId": "48091dc8-4939-46db-f32d-4eca3e451065"
      },
      "execution_count": null,
      "outputs": [
        {
          "output_type": "stream",
          "name": "stdout",
          "text": [
            "          1           2           3           4           5           6 \n",
            "   627.6584  17610.8784  -2019.3320  -5622.2403   8483.5584 -32743.4303 \n",
            "          7           8           9          10          11          12 \n",
            " 50896.2436 -33513.5838 -29592.2408  35865.5284   8545.1639   1675.3980 \n",
            "         13          14          15          16 \n",
            " 26430.1410 -18708.5577 -25915.8529  -2019.3320 \n"
          ]
        }
      ]
    },
    {
      "cell_type": "code",
      "source": [
        "%%R\n",
        "summary(wage.fit11)"
      ],
      "metadata": {
        "colab": {
          "base_uri": "https://localhost:8080/"
        },
        "id": "WHQBZX2NFsIo",
        "outputId": "fcec18f1-6e2d-46f6-b3db-474c1604d743"
      },
      "execution_count": null,
      "outputs": [
        {
          "output_type": "stream",
          "name": "stdout",
          "text": [
            "\n",
            "Call:\n",
            "lm(formula = WAGESALARY ~ HOURS, data = WAGESALARY)\n",
            "\n",
            "Residuals:\n",
            "   Min     1Q Median     3Q    Max \n",
            "-33514 -20510   -696  10812  50896 \n",
            "\n",
            "Coefficients:\n",
            "             Estimate Std. Error t value Pr(>|t|)  \n",
            "(Intercept)  2019.332  13568.225   0.149    0.884  \n",
            "HOURS          13.130      6.153   2.134    0.051 .\n",
            "---\n",
            "Signif. codes:  0 ‘***’ 0.001 ‘**’ 0.01 ‘*’ 0.05 ‘.’ 0.1 ‘ ’ 1\n",
            "\n",
            "Residual standard error: 25590 on 14 degrees of freedom\n",
            "Multiple R-squared:  0.2454,\tAdjusted R-squared:  0.1915 \n",
            "F-statistic: 4.554 on 1 and 14 DF,  p-value: 0.05102\n",
            "\n"
          ]
        }
      ]
    },
    {
      "cell_type": "markdown",
      "source": [
        "# Babies"
      ],
      "metadata": {
        "id": "uESeqNQGGfBO"
      }
    },
    {
      "cell_type": "markdown",
      "source": [
        "# Lectura de datos"
      ],
      "metadata": {
        "id": "QI-Qf_rUQU9_"
      }
    },
    {
      "cell_type": "code",
      "source": [
        "import pandas as pd\n",
        "# pip show pd\n",
        "print(pd.__version__)"
      ],
      "metadata": {
        "colab": {
          "base_uri": "https://localhost:8080/"
        },
        "id": "t4hZOZeYGxnl",
        "outputId": "4ed8d041-4ebe-4dd3-cb18-94fb6270c080"
      },
      "execution_count": null,
      "outputs": [
        {
          "output_type": "stream",
          "name": "stdout",
          "text": [
            "1.3.5\n"
          ]
        }
      ]
    },
    {
      "cell_type": "code",
      "source": [
        "from google.colab import drive\n",
        "\n",
        "drive.mount('/content/gdrive')"
      ],
      "metadata": {
        "colab": {
          "base_uri": "https://localhost:8080/"
        },
        "id": "wbWbyGTrQQXW",
        "outputId": "09e1bbce-301f-446e-b945-2f9fab8ed0a8"
      },
      "execution_count": null,
      "outputs": [
        {
          "output_type": "stream",
          "name": "stdout",
          "text": [
            "Mounted at /content/gdrive\n"
          ]
        }
      ]
    },
    {
      "cell_type": "code",
      "source": [
        "# convertir con el bloc de notas de ANSI a UTF-8\n",
        "babies = pd.read_csv('/content/gdrive/MyDrive/Maestría Estadística/Modelos Lineales/Tallas.babies.csv', sep = ';', decimal=\",\")"
      ],
      "metadata": {
        "id": "Bw2kDXf5Q9so"
      },
      "execution_count": null,
      "outputs": []
    },
    {
      "cell_type": "code",
      "source": [
        "babies.dtypes"
      ],
      "metadata": {
        "colab": {
          "base_uri": "https://localhost:8080/"
        },
        "id": "ar9B6dOhb9m0",
        "outputId": "d47c6974-197f-4732-fa4e-e3d454d4765a"
      },
      "execution_count": null,
      "outputs": [
        {
          "output_type": "execute_result",
          "data": {
            "text/plain": [
              "Talla.hoy      float64\n",
              "Edad.días        int64\n",
              "Talla_nacer    float64\n",
              "Peso_nacer     float64\n",
              "Tórax_nacer    float64\n",
              "dtype: object"
            ]
          },
          "metadata": {},
          "execution_count": 64
        }
      ]
    },
    {
      "cell_type": "code",
      "source": [
        "%R -i babies"
      ],
      "metadata": {
        "id": "595w5SEpfUua"
      },
      "execution_count": null,
      "outputs": []
    },
    {
      "cell_type": "code",
      "source": [
        "%%R\n",
        "str(babies)"
      ],
      "metadata": {
        "colab": {
          "base_uri": "https://localhost:8080/"
        },
        "id": "wv4Rs9r_W5O4",
        "outputId": "4dd8e18f-8c66-4fca-ed0a-8c4762637813"
      },
      "execution_count": null,
      "outputs": [
        {
          "output_type": "stream",
          "name": "stdout",
          "text": [
            "'data.frame':\t7 obs. of  5 variables:\n",
            " $ Talla.hoy  : num  57.5 52.8 61.3 67 53.5 62.7 56.2\n",
            " $ Edad.días  : int  78 69 77 88 67 80 74\n",
            " $ Talla_nacer: num  48.2 45.5 46.3 49 43 48 48\n",
            " $ Peso_nacer : num  2.75 2.15 4.41 5.52 3.21 4.32 2.31\n",
            " $ Tórax_nacer: num  29.5 26.3 32.2 36.5 27.2 27.7 28.3\n"
          ]
        }
      ]
    },
    {
      "cell_type": "code",
      "source": [
        "%%R\n",
        "fx = list(attach, head, summary, dim)\n",
        "lapply(fx, function(f) f(babies))"
      ],
      "metadata": {
        "colab": {
          "base_uri": "https://localhost:8080/"
        },
        "id": "DKfs8Ao-XXm-",
        "outputId": "34b6fa34-0f94-46b9-dcfa-283cdf91e216"
      },
      "execution_count": null,
      "outputs": [
        {
          "output_type": "stream",
          "name": "stdout",
          "text": [
            "[[1]]\n",
            "<environment: 0xc307738>\n",
            "attr(,\"name\")\n",
            "[1] \"babies\"\n",
            "\n",
            "[[2]]\n",
            "  Talla.hoy Edad.días Talla_nacer Peso_nacer Tórax_nacer\n",
            "0      57.5        78        48.2       2.75        29.5\n",
            "1      52.8        69        45.5       2.15        26.3\n",
            "2      61.3        77        46.3       4.41        32.2\n",
            "3      67.0        88        49.0       5.52        36.5\n",
            "4      53.5        67        43.0       3.21        27.2\n",
            "5      62.7        80        48.0       4.32        27.7\n",
            "\n",
            "[[3]]\n",
            "   Talla.hoy       Edad.días      Talla_nacer      Peso_nacer   \n",
            " Min.   :52.80   Min.   :67.00   Min.   :43.00   Min.   :2.150  \n",
            " 1st Qu.:54.85   1st Qu.:71.50   1st Qu.:45.90   1st Qu.:2.530  \n",
            " Median :57.50   Median :77.00   Median :48.00   Median :3.210  \n",
            " Mean   :58.71   Mean   :76.14   Mean   :46.86   Mean   :3.524  \n",
            " 3rd Qu.:62.00   3rd Qu.:79.00   3rd Qu.:48.10   3rd Qu.:4.365  \n",
            " Max.   :67.00   Max.   :88.00   Max.   :49.00   Max.   :5.520  \n",
            "  Tórax_nacer   \n",
            " Min.   :26.30  \n",
            " 1st Qu.:27.45  \n",
            " Median :28.30  \n",
            " Mean   :29.67  \n",
            " 3rd Qu.:30.85  \n",
            " Max.   :36.50  \n",
            "\n",
            "[[4]]\n",
            "[1] 7 5\n",
            "\n"
          ]
        }
      ]
    },
    {
      "cell_type": "code",
      "source": [
        "%%R\n",
        "libs = list(\"MASS\", \"lmtest\", \"nortest\")\n",
        "lapply(libs, function(x) install.packages(x))"
      ],
      "metadata": {
        "id": "1BzFSyedYfrU"
      },
      "execution_count": null,
      "outputs": []
    },
    {
      "cell_type": "code",
      "source": [
        "%%R\n",
        "library(MASS)\n",
        "library(lmtest)\n",
        "library(nortest)"
      ],
      "metadata": {
        "id": "w5fpnUizZJ0r"
      },
      "execution_count": null,
      "outputs": []
    },
    {
      "cell_type": "markdown",
      "source": [
        "# Ajuste modelo lineal"
      ],
      "metadata": {
        "id": "bKwzzbH_HXHB"
      }
    },
    {
      "cell_type": "code",
      "source": [
        "%%R\n",
        "baby.fit12<-lm(Talla.hoy~Peso_nacer, data = babies) # 1) AJUSTAR EL MODELO \n",
        "baby.fit12   "
      ],
      "metadata": {
        "colab": {
          "base_uri": "https://localhost:8080/"
        },
        "id": "j8SIwJXTHWlq",
        "outputId": "0250f6f0-9618-435f-91d7-76e60f8e5552"
      },
      "execution_count": null,
      "outputs": [
        {
          "output_type": "stream",
          "name": "stdout",
          "text": [
            "\n",
            "Call:\n",
            "lm(formula = Talla.hoy ~ Peso_nacer, data = babies)\n",
            "\n",
            "Coefficients:\n",
            "(Intercept)   Peso_nacer  \n",
            "     45.396        3.779  \n",
            "\n"
          ]
        }
      ]
    },
    {
      "cell_type": "markdown",
      "source": [
        "# Validación de supuestos\n",
        "Cumple los tres supuestos!!!"
      ],
      "metadata": {
        "id": "Ytx_lGmR7VrM"
      }
    },
    {
      "cell_type": "markdown",
      "source": [
        "+ **Normalidad**"
      ],
      "metadata": {
        "id": "IxYkYM5H7VrM"
      }
    },
    {
      "cell_type": "code",
      "source": [
        "%%R \n",
        "# https://rpubs.com/MSiguenas/122473\n",
        "# H0: La muestra proviene de una distribución normal.\n",
        "# H1: La muestra no proviene de una distribución normal.\n",
        "test_normal = c(shapiro.test, lillie.test) # ad.test, cvm.test, pearson.test, sf.test\n",
        "# ?ad.test # x: a numeric vector of data values, the number of which must be greater than 7.\n",
        "lapply(test_normal, function(f) f(residuals(baby.fit12)))"
      ],
      "metadata": {
        "colab": {
          "base_uri": "https://localhost:8080/"
        },
        "outputId": "0c5064eb-d902-46bc-c738-e45c5a7de9bb",
        "id": "N1K1-GaF7VrN"
      },
      "execution_count": null,
      "outputs": [
        {
          "output_type": "stream",
          "name": "stdout",
          "text": [
            "[[1]]\n",
            "\n",
            "\tShapiro-Wilk normality test\n",
            "\n",
            "data:  residuals(baby.fit12)\n",
            "W = 0.88086, p-value = 0.2303\n",
            "\n",
            "\n",
            "[[2]]\n",
            "\n",
            "\tLilliefors (Kolmogorov-Smirnov) normality test\n",
            "\n",
            "data:  residuals(baby.fit12)\n",
            "D = 0.21455, p-value = 0.426\n",
            "\n",
            "\n"
          ]
        }
      ]
    },
    {
      "cell_type": "markdown",
      "source": [
        "+ **Homocedasticidad**"
      ],
      "metadata": {
        "id": "qW2MHAIu7VrN"
      }
    },
    {
      "cell_type": "code",
      "source": [
        "%%R\n",
        "# H0: existe homocedasticidad \n",
        "# H1: no existe homocedasticidad (existe heterocedasticidad)\n",
        "test_hmcd = c(bptest, gqtest) \n",
        "# ?ad.test # x: a numeric vector of data values, the number of which must be greater than 7.\n",
        "#lapply(test_hmcd, function(f) f(lm(Talla.hoy~ Tórax_nacer)))\n",
        "lapply(test_hmcd, function(f) f(lm(Talla.hoy~ Peso_nacer)))"
      ],
      "metadata": {
        "colab": {
          "base_uri": "https://localhost:8080/"
        },
        "outputId": "d3d512cb-721b-48c3-b153-9385bb5ab00b",
        "id": "6CRy_zbm7VrN"
      },
      "execution_count": null,
      "outputs": [
        {
          "output_type": "stream",
          "name": "stdout",
          "text": [
            "[[1]]\n",
            "\n",
            "\tstudentized Breusch-Pagan test\n",
            "\n",
            "data:  lm(Talla.hoy ~ Peso_nacer)\n",
            "BP = 0.45326, df = 1, p-value = 0.5008\n",
            "\n",
            "\n",
            "[[2]]\n",
            "\n",
            "\tGoldfeld-Quandt test\n",
            "\n",
            "data:  lm(Talla.hoy ~ Peso_nacer)\n",
            "GQ = 2.9412, df1 = 2, df2 = 1, p-value = 0.3812\n",
            "alternative hypothesis: variance increases from segment 1 to 2\n",
            "\n",
            "\n"
          ]
        }
      ]
    },
    {
      "cell_type": "markdown",
      "source": [
        "+ **Independencia**"
      ],
      "metadata": {
        "id": "rSkKXOv17VrO"
      }
    },
    {
      "cell_type": "code",
      "source": [
        "%%R\n",
        "# H0: Residuals from the regression are not autocorrelated (autocorrelation coefficient, ρ = 0)\n",
        "# Ha: Residuals from the regression are autocorrelated (autocorrelation coefficient, ρ > 0)\n",
        "dwtest(Talla.hoy ~ residuals(baby.fit12)) # Durbin Watson independencia"
      ],
      "metadata": {
        "colab": {
          "base_uri": "https://localhost:8080/"
        },
        "outputId": "e151007b-1ca1-409a-80cb-1bf23431e626",
        "id": "krVQFW9e7VrO"
      },
      "execution_count": null,
      "outputs": [
        {
          "output_type": "stream",
          "name": "stdout",
          "text": [
            "\n",
            "\tDurbin-Watson test\n",
            "\n",
            "data:  Talla.hoy ~ residuals(baby.fit12)\n",
            "DW = 1.8292, p-value = 0.4162\n",
            "alternative hypothesis: true autocorrelation is greater than 0\n",
            "\n"
          ]
        }
      ]
    },
    {
      "cell_type": "code",
      "source": [
        "%%R\n",
        "anova(baby.fit12) ### SÍ SE PUEDE INTERPRETAR LA PENDIENTE."
      ],
      "metadata": {
        "colab": {
          "base_uri": "https://localhost:8080/"
        },
        "id": "AU2Y64amKRxZ",
        "outputId": "c2575fe9-12e3-48ae-b72d-e2d491707151"
      },
      "execution_count": null,
      "outputs": [
        {
          "output_type": "stream",
          "name": "stdout",
          "text": [
            "Analysis of Variance Table\n",
            "\n",
            "Response: Talla.hoy\n",
            "           Df  Sum Sq Mean Sq F value   Pr(>F)   \n",
            "Peso_nacer  1 135.131 135.131  25.929 0.003796 **\n",
            "Residuals   5  26.058   5.212                    \n",
            "---\n",
            "Signif. codes:  0 ‘***’ 0.001 ‘**’ 0.01 ‘*’ 0.05 ‘.’ 0.1 ‘ ’ 1\n"
          ]
        }
      ]
    },
    {
      "cell_type": "code",
      "source": [
        ""
      ],
      "metadata": {
        "id": "td-3gzk_KlXo"
      },
      "execution_count": null,
      "outputs": []
    }
  ]
}