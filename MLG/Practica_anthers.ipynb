{
  "nbformat": 4,
  "nbformat_minor": 0,
  "metadata": {
    "colab": {
      "provenance": [],
      "authorship_tag": "ABX9TyMiqCltCkvfRLNNBjkh/C2Q",
      "include_colab_link": true
    },
    "kernelspec": {
      "name": "python3",
      "display_name": "Python 3"
    },
    "language_info": {
      "name": "python"
    }
  },
  "cells": [
    {
      "cell_type": "markdown",
      "metadata": {
        "id": "view-in-github",
        "colab_type": "text"
      },
      "source": [
        "<a href=\"https://colab.research.google.com/github/jofmorenore/Modelos_Lineales/blob/main/MLG/Practica_anthers.ipynb\" target=\"_parent\"><img src=\"https://colab.research.google.com/assets/colab-badge.svg\" alt=\"Open In Colab\"/></a>"
      ]
    },
    {
      "cell_type": "code",
      "execution_count": 1,
      "metadata": {
        "id": "cvKDLPpARnMK"
      },
      "outputs": [],
      "source": [
        "%load_ext rpy2.ipython"
      ]
    },
    {
      "cell_type": "code",
      "source": [
        "%%R \n",
        "install.packages(\"dobson\")"
      ],
      "metadata": {
        "id": "PiaxXWg4R5Hi"
      },
      "execution_count": null,
      "outputs": []
    },
    {
      "cell_type": "code",
      "source": [
        "%%R\n",
        "library(dobson)\n",
        "attach(anthers)\n",
        "head(anthers)"
      ],
      "metadata": {
        "colab": {
          "base_uri": "https://localhost:8080/"
        },
        "id": "5wtn5cwxt9_3",
        "outputId": "3ffdd5df-c501-460d-b40f-b83b406a697f"
      },
      "execution_count": 3,
      "outputs": [
        {
          "output_type": "stream",
          "name": "stdout",
          "text": [
            "   y   n storage centrifuge\n",
            "1 55 102       1         40\n",
            "2 52  99       1        150\n",
            "3 57 108       1        350\n",
            "4 55  76       2         40\n",
            "5 50  81       2        150\n",
            "6 50  90       2        350\n"
          ]
        }
      ]
    },
    {
      "cell_type": "code",
      "source": [
        "%%R\n",
        "fit = glm(y/n ~ storage + centrifuge, weights = n, family = binomial, data = anthers)\n",
        "summary(fit)"
      ],
      "metadata": {
        "colab": {
          "base_uri": "https://localhost:8080/"
        },
        "id": "70cGeWofvnem",
        "outputId": "43d4f202-66ef-4777-c5ae-6f2acc31b8bb"
      },
      "execution_count": 4,
      "outputs": [
        {
          "output_type": "stream",
          "name": "stdout",
          "text": [
            "\n",
            "Call:\n",
            "glm(formula = y/n ~ storage + centrifuge, family = binomial, \n",
            "    data = anthers, weights = n)\n",
            "\n",
            "Deviance Residuals: \n",
            "      1        2        3        4        5        6  \n",
            "-0.5507  -0.2781   0.7973   1.1558  -0.3688  -0.6584  \n",
            "\n",
            "Coefficients:\n",
            "             Estimate Std. Error z value Pr(>|z|)  \n",
            "(Intercept) -0.098911   0.288520  -0.343   0.7317  \n",
            "storage      0.405554   0.174560   2.323   0.0202 *\n",
            "centrifuge  -0.000997   0.000665  -1.499   0.1338  \n",
            "---\n",
            "Signif. codes:  0 ‘***’ 0.001 ‘**’ 0.01 ‘*’ 0.05 ‘.’ 0.1 ‘ ’ 1\n",
            "\n",
            "(Dispersion parameter for binomial family taken to be 1)\n",
            "\n",
            "    Null deviance: 10.4520  on 5  degrees of freedom\n",
            "Residual deviance:  2.9218  on 3  degrees of freedom\n",
            "AIC: 38.49\n",
            "\n",
            "Number of Fisher Scoring iterations: 3\n",
            "\n"
          ]
        }
      ]
    },
    {
      "cell_type": "markdown",
      "source": [
        "+ **Test de Wald**\n",
        "\n",
        "$ ξ_w = ( \\hat{\\beta}_1 − \\beta_1^{\\circ})^⊤ [\\hat{Var}( \\hat{\\beta}_1 )]^{−1} ( \\hat{\\beta}_1 − \\beta_1^{\\circ})$ "
      ],
      "metadata": {
        "id": "dwgxFFwQ50m0"
      }
    },
    {
      "cell_type": "code",
      "source": [
        "%%R\n",
        "(fit$coefficients[2]-0) * (1/vcov(fit)[2,2]) * (fit$coefficients[2]-0)"
      ],
      "metadata": {
        "colab": {
          "base_uri": "https://localhost:8080/"
        },
        "id": "3A6Yne1H3iUy",
        "outputId": "f6abcb36-f088-4ea2-a42a-bc4c90102692"
      },
      "execution_count": 5,
      "outputs": [
        {
          "output_type": "stream",
          "name": "stdout",
          "text": [
            " storage \n",
            "5.397687 \n"
          ]
        }
      ]
    },
    {
      "cell_type": "code",
      "source": [
        "%%R\n",
        "ifelse(((fit$coefficients[2]-0) * (1/vcov(fit)[2,2]) * (fit$coefficients[2]-0)) > qchisq(0.95,1),\n",
        "    print(\"Rechazo H_0: B_2 = 0, osea B_2 es significativo\"), \n",
        "    print(\"No rechazo H_0: B_2 = 0\"))"
      ],
      "metadata": {
        "colab": {
          "base_uri": "https://localhost:8080/"
        },
        "id": "YEfn2p5P719a",
        "outputId": "e0d01792-47da-4710-83dc-bac30c1fef6d"
      },
      "execution_count": 6,
      "outputs": [
        {
          "output_type": "stream",
          "name": "stdout",
          "text": [
            "[1] \"Rechazo H_0: B_2 = 0, osea B_2 es significativo\"\n",
            "                                          storage \n",
            "\"Rechazo H_0: B_2 = 0, osea B_2 es significativo\" \n"
          ]
        }
      ]
    },
    {
      "cell_type": "code",
      "source": [
        "%%R\n",
        "(fit$coefficients[3]-0) * (1/vcov(fit)[3,3]) * (fit$coefficients[3]-0)"
      ],
      "metadata": {
        "colab": {
          "base_uri": "https://localhost:8080/"
        },
        "id": "7hgx8Uez7lrF",
        "outputId": "e3ae887b-021d-46af-ee5f-1d5fb3ecfdae"
      },
      "execution_count": 7,
      "outputs": [
        {
          "output_type": "stream",
          "name": "stdout",
          "text": [
            "centrifuge \n",
            "  2.247539 \n"
          ]
        }
      ]
    },
    {
      "cell_type": "code",
      "source": [
        "%%R\n",
        "ifelse(((fit$coefficients[3]-0) * (1/vcov(fit)[2,2]) * (fit$coefficients[3]-0)) > qchisq(0.95,1),\n",
        "    print(\"Rechazo H_0: B_3 = 0, osea B_3 es significativo\"), \n",
        "    print(\"No rechazo H_0: B_3 = 0\"))"
      ],
      "metadata": {
        "colab": {
          "base_uri": "https://localhost:8080/"
        },
        "id": "sHJcNHC_9Shf",
        "outputId": "b16bc13f-a123-42d1-a07a-1d1e93ef0655"
      },
      "execution_count": 8,
      "outputs": [
        {
          "output_type": "stream",
          "name": "stdout",
          "text": [
            "[1] \"No rechazo H_0: B_3 = 0\"\n",
            "               centrifuge \n",
            "\"No rechazo H_0: B_3 = 0\" \n"
          ]
        }
      ]
    },
    {
      "cell_type": "markdown",
      "source": [
        "+ **$ AIC = -2 l(\\hat{\\beta}) + 2p $**\n",
        "\n",
        "$$l(\\hat{\\beta}) = -\\frac{(AIC-2p)}{2}$$"
      ],
      "metadata": {
        "id": "LYtJDksQzphh"
      }
    },
    {
      "cell_type": "code",
      "source": [
        "%%R\n",
        "fit$aic"
      ],
      "metadata": {
        "colab": {
          "base_uri": "https://localhost:8080/"
        },
        "id": "TuOXmv3Byhvi",
        "outputId": "66763056-8c51-4571-d6a1-60c45566e47b"
      },
      "execution_count": 9,
      "outputs": [
        {
          "output_type": "stream",
          "name": "stdout",
          "text": [
            "[1] 38.4901\n"
          ]
        }
      ]
    },
    {
      "cell_type": "code",
      "source": [
        "%%R\n",
        "p = 3\n",
        "-(fit$aic - 2*p)/2"
      ],
      "metadata": {
        "colab": {
          "base_uri": "https://localhost:8080/"
        },
        "id": "DfwCEGmoy39P",
        "outputId": "046a6c00-6094-4e33-bde0-3ea5a76d6884"
      },
      "execution_count": 10,
      "outputs": [
        {
          "output_type": "stream",
          "name": "stdout",
          "text": [
            "[1] -16.24505\n"
          ]
        }
      ]
    },
    {
      "cell_type": "markdown",
      "source": [
        "+ **$BIC = -2 l(\\hat{\\beta}) + log(n)p $**\n",
        "\n",
        "$$ BIC = (AIC-2p) + log(n)p$$"
      ],
      "metadata": {
        "id": "g0uPRkWx1BnV"
      }
    },
    {
      "cell_type": "code",
      "source": [
        "%%R \n",
        "(fit$aic -2*p) + log(nrow(anthers))*p"
      ],
      "metadata": {
        "colab": {
          "base_uri": "https://localhost:8080/"
        },
        "id": "dRTSd3wZ0-z4",
        "outputId": "55f423b1-0ea9-4d10-d094-a97de6d24869"
      },
      "execution_count": 11,
      "outputs": [
        {
          "output_type": "stream",
          "name": "stdout",
          "text": [
            "[1] 37.86538\n"
          ]
        }
      ]
    },
    {
      "cell_type": "markdown",
      "source": [
        "+ **$R²_D$**\n",
        "\n",
        "$$R²_D = 1 - \\frac{D(y, \\hat{\\mu})/(n-p)}{D(y, \\hat{\\mu}')/(n-1)}$$"
      ],
      "metadata": {
        "id": "HrAGixfeyIfN"
      }
    },
    {
      "cell_type": "code",
      "source": [
        "%%R\n",
        "1 - ((fit$deviance /fit$df.residual)/(fit$null.deviance/fit$df.null))"
      ],
      "metadata": {
        "colab": {
          "base_uri": "https://localhost:8080/"
        },
        "id": "23344P6hwfWC",
        "outputId": "d3321f33-54e3-4c15-82d2-5908fc15a987"
      },
      "execution_count": 12,
      "outputs": [
        {
          "output_type": "stream",
          "name": "stdout",
          "text": [
            "[1] 0.5340904\n"
          ]
        }
      ]
    }
  ]
}