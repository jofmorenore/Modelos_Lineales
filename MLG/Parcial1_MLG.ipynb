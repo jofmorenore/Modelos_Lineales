{
 "cells": [
  {
   "cell_type": "markdown",
   "id": "91c28eb5",
   "metadata": {},
   "source": [
    "# Parcial 1 - MLG"
   ]
  },
  {
   "cell_type": "code",
   "execution_count": 1,
   "id": "5bd69422",
   "metadata": {},
   "outputs": [
    {
     "name": "stderr",
     "output_type": "stream",
     "text": [
      "Loading required package: Rcpp\n",
      "Loading required package: RcppZiggurat\n"
     ]
    }
   ],
   "source": [
    "library(Rfast)\n",
    "library(Formula)\n",
    "library(glmtoolbox)"
   ]
  },
  {
   "cell_type": "markdown",
   "id": "75df2151",
   "metadata": {},
   "source": [
    "# Punto 1\n",
    "Este conjunto de datos consta de las ventas de un producto en 200 mercados diferentes, junto con los presupuestos de publicidad del producto en cada uno de esos mercados para dos medios diferentes: televisión y radio. El objetivo del análisis consiste en explicar las diferencias entre los mercados con respecto a las ventas usando las diferencias entre los mismos en relación a sus presupuestos de publicidad en TV y radio."
   ]
  },
  {
   "cell_type": "code",
   "execution_count": 2,
   "id": "c6915dfa",
   "metadata": {},
   "outputs": [],
   "source": [
    "# df = read.csv('https://www.statlearning.com/s/Advertising.csv')\n",
    "data(advertising)\n",
    "attach(advertising)"
   ]
  },
  {
   "cell_type": "code",
   "execution_count": 3,
   "id": "436cf2d1",
   "metadata": {},
   "outputs": [
    {
     "data": {
      "text/plain": [
       "\n",
       "Call:\n",
       "glm(formula = sales ~ log(TV) + radio + log(TV) * radio, family = gaussian(log), \n",
       "    data = advertising)\n",
       "\n",
       "Deviance Residuals: \n",
       "     Min        1Q    Median        3Q       Max  \n",
       "-1.29278  -0.35848   0.01735   0.33568   1.42959  \n",
       "\n",
       "Coefficients:\n",
       "                Estimate Std. Error t value Pr(>|t|)    \n",
       "(Intercept)    1.0302249  0.0467959  22.015   <2e-16 ***\n",
       "log(TV)        0.2646359  0.0092146  28.719   <2e-16 ***\n",
       "radio         -0.0043242  0.0014929  -2.896   0.0042 ** \n",
       "log(TV):radio  0.0036644  0.0002909  12.598   <2e-16 ***\n",
       "---\n",
       "Signif. codes:  0 ‘***’ 0.001 ‘**’ 0.01 ‘*’ 0.05 ‘.’ 0.1 ‘ ’ 1\n",
       "\n",
       "(Dispersion parameter for gaussian family taken to be 0.2668851)\n",
       "\n",
       "    Null deviance: 5417.149  on 199  degrees of freedom\n",
       "Residual deviance:   52.309  on 196  degrees of freedom\n",
       "AIC: 309.35\n",
       "\n",
       "Number of Fisher Scoring iterations: 5\n"
      ]
     },
     "metadata": {},
     "output_type": "display_data"
    }
   ],
   "source": [
    "fit1 <- glm(sales ~ log(TV) + radio + log(TV)*radio, family=gaussian(log), data = advertising)\n",
    "summary(fit1) # phi = 0.2282484"
   ]
  },
  {
   "cell_type": "markdown",
   "id": "296f9ec9",
   "metadata": {},
   "source": [
    "En la Normal tenemos que: $m_k = 1$ y $V(\\mu_k) = 1$, luego el parámetro de dispersión es:\n",
    "$$ \\hat{\\phi} = \\frac{1}{n-p}\\sum_{k = 1}^n (y_k -\\hat{\\mu}_k)^2$$"
   ]
  },
  {
   "cell_type": "code",
   "execution_count": 4,
   "id": "e8fa67a1",
   "metadata": {},
   "outputs": [
    {
     "data": {
      "text/html": [
       "0.266885029335919"
      ],
      "text/latex": [
       "0.266885029335919"
      ],
      "text/markdown": [
       "0.266885029335919"
      ],
      "text/plain": [
       "[1] 0.266885"
      ]
     },
     "metadata": {},
     "output_type": "display_data"
    }
   ],
   "source": [
    "sum(residuals(fit1)^2)/(196) #phi"
   ]
  },
  {
   "cell_type": "code",
   "execution_count": 5,
   "id": "743c7447",
   "metadata": {},
   "outputs": [
    {
     "data": {
      "text/plain": [
       "\n",
       "Call:\n",
       "glm(formula = sales ~ log(TV) + radio + log(TV) * radio, family = gaussian(log), \n",
       "    data = advertising[-c(3, 90, 6, 127, 76), ])\n",
       "\n",
       "Deviance Residuals: \n",
       "    Min       1Q   Median       3Q      Max  \n",
       "-1.2287  -0.3522  -0.0036   0.3285   1.2600  \n",
       "\n",
       "Coefficients:\n",
       "                Estimate Std. Error t value Pr(>|t|)    \n",
       "(Intercept)    1.0677403  0.0440050  24.264  < 2e-16 ***\n",
       "log(TV)        0.2573868  0.0086527  29.747  < 2e-16 ***\n",
       "radio         -0.0069010  0.0014951  -4.616 7.17e-06 ***\n",
       "log(TV):radio  0.0041580  0.0002896  14.355  < 2e-16 ***\n",
       "---\n",
       "Signif. codes:  0 ‘***’ 0.001 ‘**’ 0.01 ‘*’ 0.05 ‘.’ 0.1 ‘ ’ 1\n",
       "\n",
       "(Dispersion parameter for gaussian family taken to be 0.2282484)\n",
       "\n",
       "    Null deviance: 5255.313  on 194  degrees of freedom\n",
       "Residual deviance:   43.595  on 191  degrees of freedom\n",
       "AIC: 271.27\n",
       "\n",
       "Number of Fisher Scoring iterations: 4\n"
      ]
     },
     "metadata": {},
     "output_type": "display_data"
    }
   ],
   "source": [
    "fit2 <- glm(sales ~ log(TV) + radio + log(TV)*radio, family=gaussian(log), data = advertising[-c(3,90,6,127,76),])\n",
    "summary(fit2) # phi = 0.2282484"
   ]
  },
  {
   "cell_type": "markdown",
   "id": "23864eed",
   "metadata": {},
   "source": [
    "**B.** las ventas *medianas* dejando fija la inversión en publicidad en radio"
   ]
  },
  {
   "cell_type": "code",
   "execution_count": 6,
   "id": "09ecb98e",
   "metadata": {},
   "outputs": [
    {
     "data": {
      "text/html": [
       "'6 %'"
      ],
      "text/latex": [
       "'6 \\%'"
      ],
      "text/markdown": [
       "'6 %'"
      ],
      "text/plain": [
       "[1] \"6 %\""
      ]
     },
     "metadata": {},
     "output_type": "display_data"
    }
   ],
   "source": [
    "phi = 0.2282484 \n",
    "Q2_b1 = exp(fit2$coefficients[2]*log(1.2)+fit2$coefficients[4]*log(1.2)*15) + qnorm(0.5, mean = 0, sd = sqrt(phi))\n",
    "paste(round((Q2_b1-1)*100,0), \"%\")"
   ]
  },
  {
   "cell_type": "code",
   "execution_count": 7,
   "id": "2c8de120",
   "metadata": {},
   "outputs": [
    {
     "data": {
      "text/html": [
       "'7.6 %'"
      ],
      "text/latex": [
       "'7.6 \\%'"
      ],
      "text/markdown": [
       "'7.6 %'"
      ],
      "text/plain": [
       "[1] \"7.6 %\""
      ]
     },
     "metadata": {},
     "output_type": "display_data"
    }
   ],
   "source": [
    "Q2_b2 = exp(fit2$coefficients[2]*log(1.2)+fit2$coefficients[4]*log(1.2)*35) + qnorm(0.5, mean = 0, sd = sqrt(phi))\n",
    "paste(round((Q2_b2-1)*100,1), \"%\")"
   ]
  },
  {
   "cell_type": "markdown",
   "id": "406a3ca9",
   "metadata": {},
   "source": [
    "**C.** las ventas *medianas* dejando fija la inversión en publicidad en TV"
   ]
  },
  {
   "cell_type": "code",
   "execution_count": 8,
   "id": "203635dd",
   "metadata": {},
   "outputs": [
    {
     "data": {
      "text/html": [
       "'5.8 %'"
      ],
      "text/latex": [
       "'5.8 \\%'"
      ],
      "text/markdown": [
       "'5.8 %'"
      ],
      "text/plain": [
       "[1] \"5.8 %\""
      ]
     },
     "metadata": {},
     "output_type": "display_data"
    }
   ],
   "source": [
    "Q2_c1 = exp(fit2$coefficients[3]*5+fit2$coefficients[4]*log(80)*5) + qnorm(0.5, mean = 0, sd = sqrt(phi))\n",
    "paste(round((Q2_c1-1)*100,1), \"%\")"
   ]
  },
  {
   "cell_type": "code",
   "execution_count": 9,
   "id": "ec24f318",
   "metadata": {},
   "outputs": [
    {
     "data": {
      "text/html": [
       "'8.36 %'"
      ],
      "text/latex": [
       "'8.36 \\%'"
      ],
      "text/markdown": [
       "'8.36 %'"
      ],
      "text/plain": [
       "[1] \"8.36 %\""
      ]
     },
     "metadata": {},
     "output_type": "display_data"
    }
   ],
   "source": [
    "Q2_c2 = exp(fit2$coefficients[3]*5+fit2$coefficients[4]*log(250)*5) + qnorm(0.5, mean = 0, sd = sqrt(phi))\n",
    "paste(round((Q2_c2-1)*100,2), \"%\")"
   ]
  },
  {
   "cell_type": "markdown",
   "id": "6d3cd547",
   "metadata": {},
   "source": [
    "**D.** La media y la desviación estándar cuando la inversión en TV y en radio es 150 y 25 están dadas por:"
   ]
  },
  {
   "cell_type": "markdown",
   "id": "ec28e607",
   "metadata": {},
   "source": [
    "$$ \\mu_k = g^{-1}(log(\\mu_k)) = e^{\\beta_0 + \\beta_1 x_{1k}+ \\beta_2 x_{2k} + \\beta_3 x_{1k}x_{2k} }$$\n",
    "$$ \\sqrt{V(y_k)} = \\sqrt{\\frac{\\hat{\\phi}}{m_k} V(\\mu_k)} =  \\sqrt{\\hat{\\phi}} $$"
   ]
  },
  {
   "cell_type": "code",
   "execution_count": 10,
   "id": "d96375d2",
   "metadata": {},
   "outputs": [
    {
     "data": {
      "text/html": [
       "<table>\n",
       "<tbody>\n",
       "\t<tr><td>14.96538</td></tr>\n",
       "</tbody>\n",
       "</table>\n"
      ],
      "text/latex": [
       "\\begin{tabular}{l}\n",
       "\t 14.96538\\\\\n",
       "\\end{tabular}\n"
      ],
      "text/markdown": [
       "\n",
       "| 14.96538 |\n",
       "\n"
      ],
      "text/plain": [
       "     [,1]    \n",
       "[1,] 14.96538"
      ]
     },
     "metadata": {},
     "output_type": "display_data"
    }
   ],
   "source": [
    "#fit2$family$linkinv(fit2$coefficients %*% c(1, log(150),25, log(150)*25))\n",
    "exp(fit2$coefficients %*% c(1, log(150),25, log(150)*25))"
   ]
  },
  {
   "cell_type": "code",
   "execution_count": 11,
   "id": "198c3585",
   "metadata": {},
   "outputs": [
    {
     "data": {
      "text/html": [
       "0.477753492922867"
      ],
      "text/latex": [
       "0.477753492922867"
      ],
      "text/markdown": [
       "0.477753492922867"
      ],
      "text/plain": [
       "[1] 0.4777535"
      ]
     },
     "metadata": {},
     "output_type": "display_data"
    }
   ],
   "source": [
    "sqrt(phi) #sqrt(fit2$deviance/fit2$df.residual)"
   ]
  },
  {
   "cell_type": "markdown",
   "id": "a7cddcb4",
   "metadata": {},
   "source": [
    "**E.** $H_0:$ el parámetro de dispersión es constante."
   ]
  },
  {
   "cell_type": "code",
   "execution_count": 12,
   "id": "94b1756f",
   "metadata": {},
   "outputs": [
    {
     "name": "stdout",
     "output_type": "stream",
     "text": [
      "\n",
      "             Score test for varying dispersion parameter\n",
      "\n",
      "          Statistic =  5.75675 \n",
      " degrees of freedom =  3 \n",
      "            p-value =  0.12406 \n",
      "\n"
     ]
    }
   ],
   "source": [
    "vdtest(fit2)"
   ]
  },
  {
   "cell_type": "markdown",
   "id": "873926a6",
   "metadata": {},
   "source": [
    "Como $p-value > 0.05$, entonces no hay evidencia estadísticamente significativa en contra de $H_0$"
   ]
  },
  {
   "cell_type": "markdown",
   "id": "86dd85d1",
   "metadata": {},
   "source": [
    "**F.** $D(y, \\hat{\\mu}) = (n-p)\\hat{\\phi}$"
   ]
  },
  {
   "cell_type": "code",
   "execution_count": 13,
   "id": "a24a8af9",
   "metadata": {},
   "outputs": [
    {
     "data": {
      "text/html": [
       "43.5954444"
      ],
      "text/latex": [
       "43.5954444"
      ],
      "text/markdown": [
       "43.5954444"
      ],
      "text/plain": [
       "[1] 43.59544"
      ]
     },
     "metadata": {},
     "output_type": "display_data"
    }
   ],
   "source": [
    "191*phi #deviance(fit2)"
   ]
  },
  {
   "cell_type": "markdown",
   "id": "59299a0f",
   "metadata": {},
   "source": [
    "# Punto 2\n",
    "Estos datos corresponden a hospitalizaciones relacionadas con quemaduras que ocurrieron entre 1973 y 2007. El objetivo del análisis consiste en explicar las diferencias entre los pacientes en relación a su estado al momento del alta hospitalaria (en que $\\texttt{alive}=1$ indica que el(la) paciente estaba vivo(a) al momento del alta hospitalaria y $\\texttt{alive}=0$ indica lo contrario) a partir de diferencias entre los mismos con respecto a su edad en el momento de la admisión ($\\texttt{age}$), en años, el área de la superficie quemada ($\\texttt{tbsa}$), en porcentaje, y un indicador de la presencia de lesiones por inhalación ($\\texttt{inh}\\_\\texttt{inj}$: “No” y “Yes”). Se ajusta a los datos un MLG usando R y la información resultante es la siguiente"
   ]
  },
  {
   "cell_type": "code",
   "execution_count": 14,
   "id": "62fbaf47",
   "metadata": {},
   "outputs": [],
   "source": [
    "burn1000 = aplore3::burn1000\n",
    "attach(burn1000)"
   ]
  },
  {
   "cell_type": "code",
   "execution_count": 15,
   "id": "52fae1e9",
   "metadata": {},
   "outputs": [],
   "source": [
    "burn1000$alive = ifelse(burn1000$death == \"Alive\", 1, 0)"
   ]
  },
  {
   "cell_type": "code",
   "execution_count": 16,
   "id": "d9a5ebda",
   "metadata": {},
   "outputs": [
    {
     "data": {
      "text/plain": [
       "\n",
       "Call:\n",
       "glm(formula = alive ~ age * inh_inj + tbsa * inh_inj, family = binomial(logit), \n",
       "    data = burn1000)\n",
       "\n",
       "Deviance Residuals: \n",
       "     Min        1Q    Median        3Q       Max  \n",
       "-2.64652   0.01159   0.04206   0.18489   2.86103  \n",
       "\n",
       "Coefficients:\n",
       "                Estimate Std. Error z value Pr(>|z|)    \n",
       "(Intercept)     10.31738    1.03278   9.990  < 2e-16 ***\n",
       "age             -0.11561    0.01352  -8.553  < 2e-16 ***\n",
       "inh_injYes      -7.10938    1.25863  -5.649 1.62e-08 ***\n",
       "tbsa            -0.11221    0.01439  -7.797 6.36e-15 ***\n",
       "age:inh_injYes   0.08004    0.01709   4.683 2.82e-06 ***\n",
       "inh_injYes:tbsa  0.05538    0.01799   3.079  0.00207 ** \n",
       "---\n",
       "Signif. codes:  0 ‘***’ 0.001 ‘**’ 0.01 ‘*’ 0.05 ‘.’ 0.1 ‘ ’ 1\n",
       "\n",
       "(Dispersion parameter for binomial family taken to be 1)\n",
       "\n",
       "    Null deviance: 845.42  on 999  degrees of freedom\n",
       "Residual deviance: 320.42  on 994  degrees of freedom\n",
       "AIC: 332.42\n",
       "\n",
       "Number of Fisher Scoring iterations: 8\n"
      ]
     },
     "metadata": {},
     "output_type": "display_data"
    }
   ],
   "source": [
    "fit3 <- glm(alive ~ age*inh_inj + tbsa*inh_inj, family=binomial(logit), data = burn1000)\n",
    "summary(fit3) #Residual deviance: 299.98"
   ]
  },
  {
   "cell_type": "code",
   "execution_count": 17,
   "id": "5c759ea2",
   "metadata": {},
   "outputs": [
    {
     "data": {
      "text/plain": [
       "\n",
       "Call:\n",
       "glm(formula = alive ~ age * inh_inj + tbsa * inh_inj, family = binomial(logit), \n",
       "    data = burn1000[-c(357, 697, 913), ])\n",
       "\n",
       "Deviance Residuals: \n",
       "     Min        1Q    Median        3Q       Max  \n",
       "-2.70579   0.00756   0.03097   0.15572   2.35405  \n",
       "\n",
       "Coefficients:\n",
       "                Estimate Std. Error z value Pr(>|z|)    \n",
       "(Intercept)     11.27847    1.18961   9.481  < 2e-16 ***\n",
       "age             -0.12507    0.01521  -8.224  < 2e-16 ***\n",
       "inh_injYes      -8.07047    1.39021  -5.805 6.43e-09 ***\n",
       "tbsa            -0.13580    0.01757  -7.729 1.08e-14 ***\n",
       "age:inh_injYes   0.08949    0.01846   4.849 1.24e-06 ***\n",
       "inh_injYes:tbsa  0.07898    0.02062   3.831 0.000128 ***\n",
       "---\n",
       "Signif. codes:  0 ‘***’ 0.001 ‘**’ 0.01 ‘*’ 0.05 ‘.’ 0.1 ‘ ’ 1\n",
       "\n",
       "(Dispersion parameter for binomial family taken to be 1)\n",
       "\n",
       "    Null deviance: 840.97  on 996  degrees of freedom\n",
       "Residual deviance: 299.98  on 991  degrees of freedom\n",
       "AIC: 311.98\n",
       "\n",
       "Number of Fisher Scoring iterations: 8\n"
      ]
     },
     "metadata": {},
     "output_type": "display_data"
    }
   ],
   "source": [
    "fit4 <- glm(alive ~ age*inh_inj + tbsa*inh_inj, family=binomial(logit), data = burn1000[-c(357,697,913),])\n",
    "summary(fit4) #Residual deviance: 299.98"
   ]
  },
  {
   "cell_type": "code",
   "execution_count": 18,
   "id": "eef5e0fc",
   "metadata": {},
   "outputs": [
    {
     "data": {
      "text/html": [
       "<ol class=list-inline>\n",
       "\t<li>-0.81699548859759</li>\n",
       "\t<li>0.567213913436026</li>\n",
       "</ol>\n"
      ],
      "text/latex": [
       "\\begin{enumerate*}\n",
       "\\item -0.81699548859759\n",
       "\\item 0.567213913436026\n",
       "\\end{enumerate*}\n"
      ],
      "text/markdown": [
       "1. -0.81699548859759\n",
       "2. 0.567213913436026\n",
       "\n",
       "\n"
      ],
      "text/plain": [
       "[1] -0.8169955  0.5672139"
      ]
     },
     "metadata": {},
     "output_type": "display_data"
    }
   ],
   "source": [
    "set.seed(1234) # cuál es la semilla de los residuales ???\n",
    "resis <- residuals2(fit4,type=\"quantile\", plot.it = F)\n",
    "resis[c(382,111)]"
   ]
  },
  {
   "cell_type": "markdown",
   "id": "4b7856ea",
   "metadata": {},
   "source": [
    "**A.** como la función de enlace es la canónica (logit), entonces $J(\\beta)$ y $K(\\beta)$ coinciden, lo cual, a su vez, implica que los algoritmos Newton-Raphson y scoring de Fisher también coinciden"
   ]
  },
  {
   "cell_type": "code",
   "execution_count": 19,
   "id": "20373002",
   "metadata": {},
   "outputs": [
    {
     "data": {
      "text/plain": [
       "'log Lik.' 299.9782 (df=6)"
      ]
     },
     "metadata": {},
     "output_type": "display_data"
    }
   ],
   "source": [
    "-2*logLik(fit4) #fit4$deviance"
   ]
  },
  {
   "cell_type": "markdown",
   "id": "dd2186b5",
   "metadata": {},
   "source": [
    "**B.** El chance de estar vivo dejando fijo el área de la superficie quemada"
   ]
  },
  {
   "cell_type": "code",
   "execution_count": 20,
   "id": "e2cbbd42",
   "metadata": {},
   "outputs": [
    {
     "data": {
      "text/html": [
       "'-11.757 %'"
      ],
      "text/latex": [
       "'-11.757 \\%'"
      ],
      "text/markdown": [
       "'-11.757 %'"
      ],
      "text/plain": [
       "[1] \"-11.757 %\""
      ]
     },
     "metadata": {},
     "output_type": "display_data"
    }
   ],
   "source": [
    "paste(round((exp(fit4$coefficients[2])-1)*100,3), \"%\")"
   ]
  },
  {
   "cell_type": "code",
   "execution_count": 21,
   "id": "ff75cb9f",
   "metadata": {},
   "outputs": [
    {
     "data": {
      "text/html": [
       "'-19.31 %'"
      ],
      "text/latex": [
       "'-19.31 \\%'"
      ],
      "text/markdown": [
       "'-19.31 %'"
      ],
      "text/plain": [
       "[1] \"-19.31 %\""
      ]
     },
     "metadata": {},
     "output_type": "display_data"
    }
   ],
   "source": [
    "# exp(fit4$coefficients[2]+fit4$coefficients[5]) # la estimación de B_5 y B_6 cambiaron de signo (???)\n",
    "paste(round((exp(fit4$coefficients[2]-fit4$coefficients[5])-1)*100,2), \"%\")"
   ]
  },
  {
   "cell_type": "markdown",
   "id": "7278192b",
   "metadata": {},
   "source": [
    "**C.** El chance de estar vivo dejando fija la edad"
   ]
  },
  {
   "cell_type": "code",
   "execution_count": 22,
   "id": "690bb382",
   "metadata": {},
   "outputs": [
    {
     "data": {
      "text/html": [
       "'-12.698 %'"
      ],
      "text/latex": [
       "'-12.698 \\%'"
      ],
      "text/markdown": [
       "'-12.698 %'"
      ],
      "text/plain": [
       "[1] \"-12.698 %\""
      ]
     },
     "metadata": {},
     "output_type": "display_data"
    }
   ],
   "source": [
    "paste(round((exp(fit4$coefficients[4])-1)*100,3), \"%\")"
   ]
  },
  {
   "cell_type": "code",
   "execution_count": 23,
   "id": "54071763",
   "metadata": {},
   "outputs": [
    {
     "data": {
      "text/html": [
       "'-19.328 %'"
      ],
      "text/latex": [
       "'-19.328 \\%'"
      ],
      "text/markdown": [
       "'-19.328 %'"
      ],
      "text/plain": [
       "[1] \"-19.328 %\""
      ]
     },
     "metadata": {},
     "output_type": "display_data"
    }
   ],
   "source": [
    "# exp(fit4$coefficients[4]+fit4$coefficients[5])\n",
    "paste(round((exp(fit4$coefficients[4]-fit4$coefficients[6])-1)*100,3), \"%\")"
   ]
  },
  {
   "cell_type": "markdown",
   "id": "7f48bb20",
   "metadata": {},
   "source": [
    "**D.** El chance de estar vivo en pacientes con lesiones por inhalación ceteris paribus"
   ]
  },
  {
   "cell_type": "code",
   "execution_count": 24,
   "id": "c3dab295",
   "metadata": {},
   "outputs": [
    {
     "data": {
      "text/html": [
       "<strong>inh_injYes:</strong> 0.00880188567921919"
      ],
      "text/latex": [
       "\\textbf{inh\\textbackslash{}\\_injYes:} 0.00880188567921919"
      ],
      "text/markdown": [
       "**inh_injYes:** 0.00880188567921919"
      ],
      "text/plain": [
       " inh_injYes \n",
       "0.008801886 "
      ]
     },
     "metadata": {},
     "output_type": "display_data"
    }
   ],
   "source": [
    "# c(1,32,1,6,32,6): paciente de 32 años, con lesiones por inhalación y 6% de área de la superficie quemada\n",
    "exp(fit4$coefficients[3]+fit4$coefficients[5]*32+fit4$coefficients[6]*6)\n",
    "#exp(fit4$coefficients %*% c(1,32,1,6,32,6))/exp(fit4$coefficients %*% c(1,32,0,6,0,0))"
   ]
  },
  {
   "cell_type": "markdown",
   "id": "63e302f6",
   "metadata": {},
   "source": [
    "como la razón de chances es menor que 1, indica que el chance de estar vivo en pacientes con lesiones por inhalación es menor que en pacientes sin este tipo de lesiones."
   ]
  },
  {
   "cell_type": "code",
   "execution_count": 25,
   "id": "2003905b",
   "metadata": {},
   "outputs": [
    {
     "data": {
      "text/html": [
       "<dl class=dl-horizontal>\n",
       "\t<dt>efecto.inh_injYes</dt>\n",
       "\t\t<dd>0.00880188567921919</dd>\n",
       "\t<dt>o_tbsa.inh_injYes</dt>\n",
       "\t\t<dd>0.0141375510674529</dd>\n",
       "\t<dt>o_age.inh_injYes</dt>\n",
       "\t\t<dd>0.154282115273087</dd>\n",
       "\t<dt>y_tbsa_age.inh_injYes</dt>\n",
       "\t\t<dd>0.247807272550422</dd>\n",
       "</dl>\n"
      ],
      "text/latex": [
       "\\begin{description*}\n",
       "\\item[efecto.inh\\textbackslash{}\\_injYes] 0.00880188567921919\n",
       "\\item[o\\textbackslash{}\\_tbsa.inh\\textbackslash{}\\_injYes] 0.0141375510674529\n",
       "\\item[o\\textbackslash{}\\_age.inh\\textbackslash{}\\_injYes] 0.154282115273087\n",
       "\\item[y\\textbackslash{}\\_tbsa\\textbackslash{}\\_age.inh\\textbackslash{}\\_injYes] 0.247807272550422\n",
       "\\end{description*}\n"
      ],
      "text/markdown": [
       "efecto.inh_injYes\n",
       ":   0.00880188567921919o_tbsa.inh_injYes\n",
       ":   0.0141375510674529o_age.inh_injYes\n",
       ":   0.154282115273087y_tbsa_age.inh_injYes\n",
       ":   0.247807272550422\n",
       "\n"
      ],
      "text/plain": [
       "    efecto.inh_injYes     o_tbsa.inh_injYes      o_age.inh_injYes \n",
       "          0.008801886           0.014137551           0.154282115 \n",
       "y_tbsa_age.inh_injYes \n",
       "          0.247807273 "
      ]
     },
     "metadata": {},
     "output_type": "display_data"
    }
   ],
   "source": [
    "c(\"efecto\"=exp(fit4$coefficients[3]+fit4$coefficients[5]*32+fit4$coefficients[6]*6),\n",
    "  \"o_tbsa\"=exp(fit4$coefficients[3]+fit4$coefficients[5]*32+fit4$coefficients[6]*(6*2)),\n",
    "  \"o_age\"=exp(fit4$coefficients[3]+fit4$coefficients[5]*(32*2)+fit4$coefficients[6]*6),\n",
    "  \"y_tbsa_age\"=exp(fit4$coefficients[3]+fit4$coefficients[5]*(32*2)+fit4$coefficients[6]*(6*2))\n",
    " )"
   ]
  },
  {
   "cell_type": "markdown",
   "id": "cb9a5d6e",
   "metadata": {},
   "source": [
    "Como $\\hat{\\beta}_4$ y $\\hat{\\beta}_5$ son coeficientes positivos, entonces el aumento de la edad y/o el área de superficie quemada contrarresta el efecto de las lesiones por inhalación sobre el chance de estar vivo. Caso contrario cuando los coeficientes son negativos (como en la salida del parcial) el efecto de las lesiones por inhalación sobre el chance de estar vivo se acentua con el aumento en edad y/o área de superficie quemada."
   ]
  },
  {
   "cell_type": "markdown",
   "id": "3f7c3213",
   "metadata": {},
   "source": [
    "**E.** La probabilidad de estar vivo"
   ]
  },
  {
   "cell_type": "markdown",
   "id": "3875c1c5",
   "metadata": {},
   "source": [
    "$$\n",
    "logit(\\mu_k) = ln\\left(\\frac{\\mu_k}{1-\\mu_k}\\right) = \\boldsymbol{X_{k_{1 \\times p+1}}} \\boldsymbol{\\beta_{(p+1) \\times 1}}\n",
    "$$\n",
    "\n",
    "$$\n",
    "\\frac{\\mu_k}{1-\\mu_k} = \\exp{\\left(ln\\left(\\frac{\\mu_k}{1-\\mu_k}\\right) \\right)} = \\boldsymbol{X_k}\\boldsymbol{\\beta} \n",
    "$$\n",
    "\n",
    "$$\n",
    "\\frac{1}{\\mu_k} - 1 = \\left(\\frac{\\mu_k}{1-\\mu_k}\\right)^{-1} = \\exp{(- \\boldsymbol{X_k}\\boldsymbol{\\beta})}\n",
    "$$\n",
    "\n",
    "$$\n",
    "\\mu_k = \\left(\\frac{1}{\\mu_k}\\right)^{-1} = \\frac{1}{\\exp{(- \\boldsymbol{X_k}\\boldsymbol{\\beta})} + 1} = \\frac{\\exp{(\\boldsymbol{X_k}\\boldsymbol{\\beta})}}{\\exp{( \\boldsymbol{X_k}\\boldsymbol{\\beta})} + 1}\n",
    "$$"
   ]
  },
  {
   "cell_type": "code",
   "execution_count": 26,
   "id": "438743cd",
   "metadata": {},
   "outputs": [
    {
     "data": {
      "text/html": [
       "<table>\n",
       "<tbody>\n",
       "\t<tr><td>0.3995779</td></tr>\n",
       "</tbody>\n",
       "</table>\n"
      ],
      "text/latex": [
       "\\begin{tabular}{l}\n",
       "\t 0.3995779\\\\\n",
       "\\end{tabular}\n"
      ],
      "text/markdown": [
       "\n",
       "| 0.3995779 |\n",
       "\n"
      ],
      "text/plain": [
       "     [,1]     \n",
       "[1,] 0.3995779"
      ]
     },
     "metadata": {},
     "output_type": "display_data"
    }
   ],
   "source": [
    "# c(1,50,0,40,0,0): paciente de 50 años, sin lesiones por inhalación y 40% de área de la superficie quemada\n",
    "#exp(fit4$coefficients%*%c(1,50,0,40,0,0)) # razón de chances (puede dar mayor a 1)\n",
    "exp(fit4$coefficients%*%c(1,50,0,40,0,0))/(exp(fit4$coefficients%*%c(1,50,0,40,0,0))+1) #0.3995779"
   ]
  },
  {
   "cell_type": "markdown",
   "id": "dac0ae40",
   "metadata": {},
   "source": [
    "# Punto 3\n",
    "\n",
    "Estos datos permiten calcular la incidencia (esto es, $10^r\\times\\texttt{cases}/\\texttt{population}$ para algún $r$ entero y positivo) de cáncer de piel por rangos de edad ($\\texttt{age}:$ “15-24”, “25-34”, “35-44”, “45-54”, “55-64”, “65-74”, “75-84” y “85+”) en las mujeres de las ciudades de Saint Paul ($\\texttt{city}=$“St.Paul”) en Minnesota y Fort Worth ($\\texttt{city}=$“Ft.Worth”) en Texas . Se espera que la incidencia de este tipo de cáncer sea mayor en Texas que en Minnesota ya que la exposición al sol es mayor en Texas. Se ajusta a los datos un MLG usando R y la información resultante es la siguiente"
   ]
  },
  {
   "cell_type": "code",
   "execution_count": 27,
   "id": "9c2359e1",
   "metadata": {},
   "outputs": [
    {
     "data": {
      "text/plain": [
       "\n",
       "Call:\n",
       "glm(formula = cases ~ offset(log(population)) + city + age, family = poisson, \n",
       "    data = skincancer)\n",
       "\n",
       "Deviance Residuals: \n",
       "     Min        1Q    Median        3Q       Max  \n",
       "-1.50598  -0.48566   0.01639   0.36926   1.24763  \n",
       "\n",
       "Coefficients:\n",
       "             Estimate Std. Error z value Pr(>|z|)    \n",
       "(Intercept)  -11.6576     0.4487 -25.980  < 2e-16 ***\n",
       "cityFt.Worth   0.8039     0.0522  15.399  < 2e-16 ***\n",
       "age25-34       2.6302     0.4675   5.627 1.84e-08 ***\n",
       "age35-44       3.8474     0.4547   8.462  < 2e-16 ***\n",
       "age45-54       4.5952     0.4510  10.188  < 2e-16 ***\n",
       "age55-64       5.0873     0.4503  11.298  < 2e-16 ***\n",
       "age65-74       5.6454     0.4497  12.552  < 2e-16 ***\n",
       "age75-84       6.0585     0.4503  13.454  < 2e-16 ***\n",
       "age85+         6.1742     0.4577  13.488  < 2e-16 ***\n",
       "---\n",
       "Signif. codes:  0 ‘***’ 0.001 ‘**’ 0.01 ‘*’ 0.05 ‘.’ 0.1 ‘ ’ 1\n",
       "\n",
       "(Dispersion parameter for poisson family taken to be 1)\n",
       "\n",
       "    Null deviance: 2789.6810  on 15  degrees of freedom\n",
       "Residual deviance:    8.2585  on  7  degrees of freedom\n",
       "AIC: 120.5\n",
       "\n",
       "Number of Fisher Scoring iterations: 4\n"
      ]
     },
     "metadata": {},
     "output_type": "display_data"
    }
   ],
   "source": [
    "data(skincancer)\n",
    "fit4 <- glm(cases ~ offset(log(population)) + city + age, family=poisson, data=skincancer)\n",
    "summary(fit4)"
   ]
  },
  {
   "cell_type": "markdown",
   "id": "269f9e29",
   "metadata": {},
   "source": [
    "**A** En la distribución poisson tenemos que $\\phi = 1$ y $m_k = 1$ con lo cual $Var(Y_k) = \\mu$, entonces un aumento/disminución en le número esperado de casos de cáncer esta acompañada de un aumento/disminución en la varianza del número de casos de cáncer."
   ]
  },
  {
   "cell_type": "markdown",
   "id": "25007b49",
   "metadata": {},
   "source": [
    "**B** La incidencia esperada de cáncer de piel en las mujeres de la ciudad de Forth Worth con edades en un rango especificado está dada por: $e^{\\beta_2}$"
   ]
  },
  {
   "cell_type": "code",
   "execution_count": 28,
   "id": "ee182006",
   "metadata": {},
   "outputs": [
    {
     "data": {
      "text/html": [
       "<strong>cityFt.Worth:</strong> 2.23423372349385"
      ],
      "text/latex": [
       "\\textbf{cityFt.Worth:} 2.23423372349385"
      ],
      "text/markdown": [
       "**cityFt.Worth:** 2.23423372349385"
      ],
      "text/plain": [
       "cityFt.Worth \n",
       "    2.234234 "
      ]
     },
     "metadata": {},
     "output_type": "display_data"
    }
   ],
   "source": [
    "exp(fit4$coefficients[2])"
   ]
  },
  {
   "cell_type": "markdown",
   "id": "d91c158f",
   "metadata": {},
   "source": [
    "**C** La incidencia esperada de cáncer de piel en las mujeres de 25-35 años en la ciudad especificada respecto a las mujeres en la misma ciudad con edades en el rango de 15-24 años está dada por: $e^{\\beta_3}$"
   ]
  },
  {
   "cell_type": "code",
   "execution_count": 29,
   "id": "168ddb01",
   "metadata": {},
   "outputs": [
    {
     "data": {
      "text/html": [
       "<strong>age25-34:</strong> 13.8765648190247"
      ],
      "text/latex": [
       "\\textbf{age25-34:} 13.8765648190247"
      ],
      "text/markdown": [
       "**age25-34:** 13.8765648190247"
      ],
      "text/plain": [
       "age25-34 \n",
       "13.87656 "
      ]
     },
     "metadata": {},
     "output_type": "display_data"
    }
   ],
   "source": [
    "exp(fit4$coefficients[3])"
   ]
  },
  {
   "cell_type": "markdown",
   "id": "ea3fad20",
   "metadata": {},
   "source": [
    "**D** en este caso el modelo puede ser escrito: $log(\\mu) = \\boldsymbol{X_{k_{1 \\times p+1}}} \\boldsymbol{\\beta_{(p+1) \\times 1}} + log(n_{FW})$ de donde tenemos que:\n",
    "$$\\mu = \\exp(\\boldsymbol{X} \\boldsymbol{\\beta} + log(n_{FW}))$$"
   ]
  },
  {
   "cell_type": "code",
   "execution_count": 30,
   "id": "6f21db10",
   "metadata": {},
   "outputs": [
    {
     "data": {
      "text/html": [
       "<strong>(Intercept):</strong> 53.6543253855405"
      ],
      "text/latex": [
       "\\textbf{(Intercept):} 53.6543253855405"
      ],
      "text/markdown": [
       "**(Intercept):** 53.6543253855405"
      ],
      "text/plain": [
       "(Intercept) \n",
       "   53.65433 "
      ]
     },
     "metadata": {},
     "output_type": "display_data"
    }
   ],
   "source": [
    "n_FW_25a34 = 200000\n",
    "exp(fit4$coefficients[1]+fit4$coefficients[2]+fit4$coefficients[3] + log(n_FW_25a34))"
   ]
  },
  {
   "cell_type": "markdown",
   "id": "88a9b569",
   "metadata": {},
   "source": [
    "**E** En este caso tenemos que $\\phi = 1 $, mientras que:\n",
    "$$AIC = -2 \\ell(\\hat{\\boldsymbol{\\beta}}) + 2p \\quad\\text{con lo cual} -2 \\ell(\\hat{\\boldsymbol{\\beta}}) = AIC -2p$$\n",
    "$$ BIC =  -2 \\ell(\\hat{\\boldsymbol{\\beta}}) + log(n)p = (AIC -2p) + log(n)p$$"
   ]
  },
  {
   "cell_type": "code",
   "execution_count": 31,
   "id": "84f8616e",
   "metadata": {},
   "outputs": [
    {
     "data": {
      "text/html": [
       "102.5"
      ],
      "text/latex": [
       "102.5"
      ],
      "text/markdown": [
       "102.5"
      ],
      "text/plain": [
       "[1] 102.5"
      ]
     },
     "metadata": {},
     "output_type": "display_data"
    },
    {
     "data": {
      "text/html": [
       "127.457"
      ],
      "text/latex": [
       "127.457"
      ],
      "text/markdown": [
       "127.457"
      ],
      "text/plain": [
       "[1] 127.457"
      ]
     },
     "metadata": {},
     "output_type": "display_data"
    }
   ],
   "source": [
    "p = ncol(model.matrix(fit4))\n",
    "n = nrow(model.matrix(fit4))\n",
    "\n",
    "round(fit4$aic - 2*p, 1) # -2*logLik(fit4)\n",
    "round(fit4$aic - 2*p + log(n)*p,3)"
   ]
  },
  {
   "cell_type": "markdown",
   "id": "4d9b81c6",
   "metadata": {},
   "source": [
    "**F** A partir de la salida del test de razón de verosimilitudes se concluye que dejando fijo el rango de edad, la incidencia esperada del cáncer de piel depende de la ciudad. Análogamente se llega a la misma conclusión al realizar el test de Wald, por último a partir del estadístico del test de razón de verosilmilitudes podemos despejar la devianza del modelo $\\texttt{fit42}$"
   ]
  },
  {
   "cell_type": "code",
   "execution_count": 32,
   "id": "e0667845",
   "metadata": {},
   "outputs": [
    {
     "data": {
      "text/html": [
       "<strong>cityFt.Worth:</strong> 237.127646993478"
      ],
      "text/latex": [
       "\\textbf{cityFt.Worth:} 237.127646993478"
      ],
      "text/markdown": [
       "**cityFt.Worth:** 237.127646993478"
      ],
      "text/plain": [
       "cityFt.Worth \n",
       "    237.1276 "
      ]
     },
     "metadata": {},
     "output_type": "display_data"
    },
    {
     "data": {
      "text/html": [
       "<strong>cityFt.Worth:</strong> 1.66349732486763e-53"
      ],
      "text/latex": [
       "\\textbf{cityFt.Worth:} 1.66349732486763e-53"
      ],
      "text/markdown": [
       "**cityFt.Worth:** 1.66349732486763e-53"
      ],
      "text/plain": [
       "cityFt.Worth \n",
       "1.663497e-53 "
      ]
     },
     "metadata": {},
     "output_type": "display_data"
    }
   ],
   "source": [
    "# estadístico de Wald\n",
    "fit4$coefficients[2]^2/vcov(fit4)[2,2] \n",
    "pchisq(fit4$coefficients[2]^2/vcov(fit4)[2,2], df = 1, lower.tail = F)"
   ]
  },
  {
   "cell_type": "code",
   "execution_count": 33,
   "id": "063cf624",
   "metadata": {},
   "outputs": [
    {
     "name": "stdout",
     "output_type": "stream",
     "text": [
      "\n",
      "  Likelihood-ratio test \n",
      "\n",
      "Model 1 :  cases ~ age \n",
      "Model 2 :  cases ~ offset(log(population)) + city + age \n",
      "\n",
      "        Chi    df  Pr(Chisq>)    \n",
      "1 vs 2 258.48   1   < 2.2e-16 ***\n",
      "---\n",
      "Signif. codes:  0 ‘***’ 0.001 ‘**’ 0.01 ‘*’ 0.05 ‘.’ 0.1 ‘ ’ 1\n"
     ]
    }
   ],
   "source": [
    "fit42 <- glm(cases ~ age, offset=log(population), family=poisson(log), data=skincancer)\n",
    "anova2(fit42,fit4,test=\"lr\")"
   ]
  },
  {
   "cell_type": "code",
   "execution_count": 34,
   "id": "93b99e11",
   "metadata": {},
   "outputs": [
    {
     "data": {
      "text/html": [
       "266.7385"
      ],
      "text/latex": [
       "266.7385"
      ],
      "text/markdown": [
       "266.7385"
      ],
      "text/plain": [
       "[1] 266.7385"
      ]
     },
     "metadata": {},
     "output_type": "display_data"
    }
   ],
   "source": [
    "round(258.48+fit4$deviance,4)"
   ]
  },
  {
   "cell_type": "markdown",
   "id": "46587d44",
   "metadata": {},
   "source": [
    "# Punto 4\n",
    "\n",
    "Estos datos describen las características principales de 392 automóviles. El objetivo del análisis consiste en explicar las diferencias entre los automóviles con respecto a su rendimiento ($\\texttt{mpg}$), en millas por galón, usando la potencia de su motor, en número de caballos de fuerza ($\\texttt{horsepower}$), y su peso ($\\texttt{weight}$), en miles de libras. Se ajusta a los datos un MLG usando R y la información resultante es la siguiente:"
   ]
  },
  {
   "cell_type": "code",
   "execution_count": 35,
   "id": "915abca5",
   "metadata": {},
   "outputs": [],
   "source": [
    "Auto <- ISLR::Auto\n",
    "Auto$weight = Auto$weight/1000"
   ]
  },
  {
   "cell_type": "code",
   "execution_count": 36,
   "id": "cec1bae2",
   "metadata": {},
   "outputs": [
    {
     "data": {
      "text/plain": [
       "\n",
       "Call:\n",
       "glm(formula = mpg ~ horsepower + weight + horsepower * weight, \n",
       "    family = Gamma(log), data = Auto)\n",
       "\n",
       "Deviance Residuals: \n",
       "     Min        1Q    Median        3Q       Max  \n",
       "-0.42249  -0.10530  -0.01538   0.09485   0.54643  \n",
       "\n",
       "Coefficients:\n",
       "                    Estimate Std. Error t value Pr(>|t|)    \n",
       "(Intercept)        4.5317628  0.0929819  48.738  < 2e-16 ***\n",
       "horsepower        -0.0072027  0.0010826  -6.653 9.79e-11 ***\n",
       "weight            -0.3620461  0.0307093 -11.789  < 2e-16 ***\n",
       "horsepower:weight  0.0012047  0.0002639   4.565 6.70e-06 ***\n",
       "---\n",
       "Signif. codes:  0 ‘***’ 0.001 ‘**’ 0.01 ‘*’ 0.05 ‘.’ 0.1 ‘ ’ 1\n",
       "\n",
       "(Dispersion parameter for Gamma family taken to be 0.02432275)\n",
       "\n",
       "    Null deviance: 44.2046  on 391  degrees of freedom\n",
       "Residual deviance:  9.1561  on 388  degrees of freedom\n",
       "AIC: 2080.4\n",
       "\n",
       "Number of Fisher Scoring iterations: 4\n"
      ]
     },
     "metadata": {},
     "output_type": "display_data"
    }
   ],
   "source": [
    "fit5 <- glm(mpg ~ horsepower + weight + horsepower*weight, family=Gamma(log), data=Auto)\n",
    "summary(fit5)"
   ]
  },
  {
   "cell_type": "markdown",
   "id": "03038639",
   "metadata": {},
   "source": [
    "**A** En la distribución $gamma(\\nu, \\lambda)$ tenemos que $\\phi = 1/\\nu$ y $m_k = 1$ con lo cual $Var(Y_k) = \\phi \\mu^2$, entonces un aumento/disminución en el rendimiento está acompañado de un aumento/disminución en la desviación estándar del rendimiento."
   ]
  },
  {
   "cell_type": "markdown",
   "id": "d46252ce",
   "metadata": {},
   "source": [
    "**B** Al realizar el test de Wald se concluye que el efecto del número de caballos de fuerza sobre el rendimiento esperado del vehículo depende de su peso:"
   ]
  },
  {
   "cell_type": "code",
   "execution_count": 37,
   "id": "1075e4c6",
   "metadata": {},
   "outputs": [
    {
     "data": {
      "text/html": [
       "<strong>horsepower:weight:</strong> 4.56543730529867"
      ],
      "text/latex": [
       "\\textbf{horsepower:weight:} 4.56543730529867"
      ],
      "text/markdown": [
       "**horsepower:weight:** 4.56543730529867"
      ],
      "text/plain": [
       "horsepower:weight \n",
       "         4.565437 "
      ]
     },
     "metadata": {},
     "output_type": "display_data"
    },
    {
     "data": {
      "text/html": [
       "<strong>horsepower:weight:</strong> 0.0686376832994411"
      ],
      "text/latex": [
       "\\textbf{horsepower:weight:} 0.0686376832994411"
      ],
      "text/markdown": [
       "**horsepower:weight:** 0.0686376832994411"
      ],
      "text/plain": [
       "horsepower:weight \n",
       "       0.06863768 "
      ]
     },
     "metadata": {},
     "output_type": "display_data"
    }
   ],
   "source": [
    "# estadístico de Wald\n",
    "sqrt(fit5$coefficients[4]^2/vcov(fit5)[4,4])\n",
    "pt(sqrt(fit5$coefficients[4]^2/vcov(fit5)[4,4]), df= 1, lower.tail = F)"
   ]
  },
  {
   "cell_type": "markdown",
   "id": "6552b8ed",
   "metadata": {},
   "source": [
    "**C** el rendimiento *mediano* dejando fijo el número de caballos de fuerza se reduce a medida que su peso aumenta"
   ]
  },
  {
   "cell_type": "code",
   "execution_count": 38,
   "id": "df22ff03",
   "metadata": {},
   "outputs": [
    {
     "data": {
      "text/html": [
       "'-26.05 %'"
      ],
      "text/latex": [
       "'-26.05 \\%'"
      ],
      "text/markdown": [
       "'-26.05 %'"
      ],
      "text/plain": [
       "[1] \"-26.05 %\""
      ]
     },
     "metadata": {},
     "output_type": "display_data"
    }
   ],
   "source": [
    "paste(round((exp(fit5$coefficients[3]*1+fit5$coefficients[4]*50*1)-1)*100,2), \"%\")"
   ]
  },
  {
   "cell_type": "code",
   "execution_count": 39,
   "id": "b0de7171",
   "metadata": {},
   "outputs": [
    {
     "data": {
      "text/html": [
       "'-11.41 %'"
      ],
      "text/latex": [
       "'-11.41 \\%'"
      ],
      "text/markdown": [
       "'-11.41 %'"
      ],
      "text/plain": [
       "[1] \"-11.41 %\""
      ]
     },
     "metadata": {},
     "output_type": "display_data"
    }
   ],
   "source": [
    "paste(round((exp(fit5$coefficients[3]*1+fit5$coefficients[4]*200*1)-1)*100,2), \"%\")"
   ]
  },
  {
   "cell_type": "markdown",
   "id": "b3a5af2f",
   "metadata": {},
   "source": [
    "**D** el rendimiento *mediano* dejando fijo el peso se reduce a medida que la fuerza de su motor aumenta"
   ]
  },
  {
   "cell_type": "code",
   "execution_count": 40,
   "id": "ef9ce863",
   "metadata": {},
   "outputs": [
    {
     "data": {
      "text/html": [
       "'-9.14 %'"
      ],
      "text/latex": [
       "'-9.14 \\%'"
      ],
      "text/markdown": [
       "'-9.14 %'"
      ],
      "text/plain": [
       "[1] \"-9.14 %\""
      ]
     },
     "metadata": {},
     "output_type": "display_data"
    }
   ],
   "source": [
    "paste(round((exp(fit5$coefficients[2]*20+fit5$coefficients[4]*20*2)-1)*100,2), \"%\")"
   ]
  },
  {
   "cell_type": "code",
   "execution_count": 41,
   "id": "86aa8791",
   "metadata": {},
   "outputs": [
    {
     "data": {
      "text/html": [
       "'-4.66 %'"
      ],
      "text/latex": [
       "'-4.66 \\%'"
      ],
      "text/markdown": [
       "'-4.66 %'"
      ],
      "text/plain": [
       "[1] \"-4.66 %\""
      ]
     },
     "metadata": {},
     "output_type": "display_data"
    }
   ],
   "source": [
    "paste(round((exp(fit5$coefficients[2]*20+fit5$coefficients[4]*20*4)-1)*100,2), \"%\")"
   ]
  },
  {
   "cell_type": "markdown",
   "id": "39e638d6",
   "metadata": {},
   "source": [
    "**E** La media y la desviación estándar del rendimiento de un vehículo con 100 caballos de fuerza y 3000 libras de peso están dadas por:"
   ]
  },
  {
   "cell_type": "code",
   "execution_count": 42,
   "id": "64b32796",
   "metadata": {},
   "outputs": [
    {
     "data": {
      "text/html": [
       "<strong>(Intercept):</strong> 21.906"
      ],
      "text/latex": [
       "\\textbf{(Intercept):} 21.906"
      ],
      "text/markdown": [
       "**(Intercept):** 21.906"
      ],
      "text/plain": [
       "(Intercept) \n",
       "     21.906 "
      ]
     },
     "metadata": {},
     "output_type": "display_data"
    }
   ],
   "source": [
    "# media\n",
    "round(exp(fit5$coefficients[1]+fit5$coefficients[2]*100+fit5$coefficients[3]*3+fit5$coefficients[4]*100*3),3)"
   ]
  },
  {
   "cell_type": "code",
   "execution_count": 43,
   "id": "0d4e4610",
   "metadata": {},
   "outputs": [
    {
     "data": {
      "text/html": [
       "<strong>(Intercept):</strong> 3.416"
      ],
      "text/latex": [
       "\\textbf{(Intercept):} 3.416"
      ],
      "text/markdown": [
       "**(Intercept):** 3.416"
      ],
      "text/plain": [
       "(Intercept) \n",
       "      3.416 "
      ]
     },
     "metadata": {},
     "output_type": "display_data"
    }
   ],
   "source": [
    "# desviación estándar\n",
    "phi = summary(fit5)$dispersion\n",
    "round(sqrt(phi*exp(fit5$coefficients[1]+fit5$coefficients[2]*100+fit5$coefficients[3]*3+fit5$coefficients[4]*100*3)^2),3)"
   ]
  },
  {
   "cell_type": "markdown",
   "id": "e745511f",
   "metadata": {},
   "source": [
    "**F** A partir de la salida de R tenemos los valores de $\\phi$ y $D(\\boldsymbol{\\hat{\\beta}})$, mientras que el $R^2$ y $R^2 \\quad\\text{ajustado}$ están dados por:\n",
    "\n",
    "$$\n",
    "R^2_{ajustado} = 1 − \\frac{D(y, \\hat{\\mu})}{D(y, \\hat{\\mu}^0)}\n",
    "$$\n",
    "\n",
    "$$\n",
    "R^2_{ajustado} = 1 − \\frac{D(y, \\hat{\\mu})/(n-p)}{D(y, \\hat{\\mu}^0)/(n-1)}\n",
    "$$"
   ]
  },
  {
   "cell_type": "code",
   "execution_count": 44,
   "id": "95b66f43",
   "metadata": {},
   "outputs": [
    {
     "data": {
      "text/html": [
       "0.0243227470361316"
      ],
      "text/latex": [
       "0.0243227470361316"
      ],
      "text/markdown": [
       "0.0243227470361316"
      ],
      "text/plain": [
       "[1] 0.02432275"
      ]
     },
     "metadata": {},
     "output_type": "display_data"
    },
    {
     "data": {
      "text/html": [
       "9.1560766657406"
      ],
      "text/latex": [
       "9.1560766657406"
      ],
      "text/markdown": [
       "9.1560766657406"
      ],
      "text/plain": [
       "[1] 9.156077"
      ]
     },
     "metadata": {},
     "output_type": "display_data"
    }
   ],
   "source": [
    "phi\n",
    "fit5$deviance"
   ]
  },
  {
   "cell_type": "code",
   "execution_count": 45,
   "id": "943f9a7c",
   "metadata": {},
   "outputs": [
    {
     "data": {
      "text/html": [
       "0.79287"
      ],
      "text/latex": [
       "0.79287"
      ],
      "text/markdown": [
       "0.79287"
      ],
      "text/plain": [
       "[1] 0.79287"
      ]
     },
     "metadata": {},
     "output_type": "display_data"
    },
    {
     "data": {
      "text/html": [
       "0.79127"
      ],
      "text/latex": [
       "0.79127"
      ],
      "text/markdown": [
       "0.79127"
      ],
      "text/plain": [
       "[1] 0.79127"
      ]
     },
     "metadata": {},
     "output_type": "display_data"
    }
   ],
   "source": [
    "round(1-(fit5$deviance/fit5$null.deviance),5) # R^2\n",
    "round(1-((fit5$deviance/fit5$df.residual)/(fit5$null.deviance/fit5$df.null)),5) # R^2 ajustado"
   ]
  },
  {
   "cell_type": "code",
   "execution_count": 46,
   "id": "2c250dc4",
   "metadata": {},
   "outputs": [
    {
     "data": {
      "text/plain": [
       "R version 3.6.1 (2019-07-05)\n",
       "Platform: x86_64-conda_cos6-linux-gnu (64-bit)\n",
       "Running under: Ubuntu 20.04.5 LTS\n",
       "\n",
       "Matrix products: default\n",
       "BLAS/LAPACK: /home/fm/anaconda3/envs/R/lib/R/lib/libRblas.so\n",
       "\n",
       "locale:\n",
       " [1] LC_CTYPE=en_US.UTF-8       LC_NUMERIC=C              \n",
       " [3] LC_TIME=es_CO.UTF-8        LC_COLLATE=en_US.UTF-8    \n",
       " [5] LC_MONETARY=es_CO.UTF-8    LC_MESSAGES=en_US.UTF-8   \n",
       " [7] LC_PAPER=es_CO.UTF-8       LC_NAME=C                 \n",
       " [9] LC_ADDRESS=C               LC_TELEPHONE=C            \n",
       "[11] LC_MEASUREMENT=es_CO.UTF-8 LC_IDENTIFICATION=C       \n",
       "\n",
       "attached base packages:\n",
       "[1] stats     graphics  grDevices utils     datasets  methods   base     \n",
       "\n",
       "other attached packages:\n",
       "[1] glmtoolbox_0.1.4   Formula_1.2-4      Rfast_2.0.6        RcppZiggurat_0.1.6\n",
       "[5] Rcpp_1.0.1        \n",
       "\n",
       "loaded via a namespace (and not attached):\n",
       " [1] digest_0.6.18     crayon_1.3.4      IRdisplay_0.7.0   repr_0.19.2      \n",
       " [5] jsonlite_1.6      evaluate_0.13     uuid_0.1-2        ISLR_1.4         \n",
       " [9] IRkernel_0.8.15   splines_3.6.1     tools_3.6.1       numDeriv_2016.8-1\n",
       "[13] parallel_3.6.1    compiler_3.6.1    base64enc_0.1-3   aplore3_0.9      \n",
       "[17] htmltools_0.3.6   pbdZMQ_0.3-3     "
      ]
     },
     "metadata": {},
     "output_type": "display_data"
    }
   ],
   "source": [
    "sessionInfo()"
   ]
  }
 ],
 "metadata": {
  "kernelspec": {
   "display_name": "R",
   "language": "R",
   "name": "ir"
  },
  "language_info": {
   "codemirror_mode": "r",
   "file_extension": ".r",
   "mimetype": "text/x-r-source",
   "name": "R",
   "pygments_lexer": "r",
   "version": "3.6.1"
  }
 },
 "nbformat": 4,
 "nbformat_minor": 5
}
