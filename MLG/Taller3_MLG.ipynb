{
 "cells": [
  {
   "cell_type": "code",
   "execution_count": 1,
   "id": "f4bbe863",
   "metadata": {},
   "outputs": [
    {
     "name": "stderr",
     "output_type": "stream",
     "text": [
      "Loading required package: Rcpp\n",
      "Loading required package: RcppZiggurat\n",
      "\n",
      "Attaching package: ‘dplyr’\n",
      "\n",
      "The following object is masked from ‘package:Rfast’:\n",
      "\n",
      "    nth\n",
      "\n",
      "The following objects are masked from ‘package:stats’:\n",
      "\n",
      "    filter, lag\n",
      "\n",
      "The following objects are masked from ‘package:base’:\n",
      "\n",
      "    intersect, setdiff, setequal, union\n",
      "\n",
      "Registered S3 methods overwritten by 'ggplot2':\n",
      "  method         from \n",
      "  [.quosures     rlang\n",
      "  c.quosures     rlang\n",
      "  print.quosures rlang\n",
      "\n",
      "Attaching package: ‘gridExtra’\n",
      "\n",
      "The following object is masked from ‘package:dplyr’:\n",
      "\n",
      "    combine\n",
      "\n",
      "Loading required package: plotrix\n",
      "\n",
      "Attaching package: ‘MASS’\n",
      "\n",
      "The following object is masked from ‘package:dplyr’:\n",
      "\n",
      "    select\n",
      "\n"
     ]
    }
   ],
   "source": [
    "library(Rfast)\n",
    "library(Formula)\n",
    "library(glmtoolbox)\n",
    "library(dplyr)\n",
    "library(ggplot2)\n",
    "library(gridExtra)\n",
    "library(simplexreg)\n",
    "library(betareg)\n",
    "library(GLMsData)\n",
    "library(knitr)\n",
    "library(MASS)\n",
    "#library(ssym)"
   ]
  },
  {
   "cell_type": "markdown",
   "id": "bfdb3008",
   "metadata": {},
   "source": [
    "# Punto 6\n",
    "El trasplante de células madre de sangre periférica es un procedimiento no quirúrgico para recolectar células formadoras de sangre para trasplantes de médula ósea. Estos datos, disponibles en el objeto $\\texttt{sdac}$ del paquete $\\texttt{simplexreg}$ de $\\texttt{R}$, corresponden a un estudio con 242 pacientes que accedieron al trasplante de células madre de sangre periférica después de dosis mieloablativas de quimioterapia entre los años 2003 y 2008 en el Laboratorio de Células Madre Hematopoyéticas de Edmonton en Cross Cancer Institute - Servicios de Salud de Alberta, Canadá. La variable respuesta es la tasa de recuperación de células CD34+ viables ($\\texttt{rcd}$), y las variables explicativas son la edad ($\\texttt{age}$) y el género ($\\texttt{gender}$) del paciente, ası́ como el tipo de protocolo de quimioterapia que este(a) recibió: 1 dia ($\\texttt{chemo=0}$) o 3 dias ($\\texttt{chemo=1}$)."
   ]
  },
  {
   "cell_type": "markdown",
   "id": "d6ddde31",
   "metadata": {},
   "source": [
    "**(A)** Haga un análisis descriptivo de los datos. Comente."
   ]
  },
  {
   "cell_type": "code",
   "execution_count": 2,
   "id": "6d91a507",
   "metadata": {},
   "outputs": [
    {
     "name": "stdout",
     "output_type": "stream",
     "text": [
      "'data.frame':\t239 obs. of  5 variables:\n",
      " $ age   : int  62 39 43 58 43 51 64 64 48 51 ...\n",
      " $ gender: Factor w/ 2 levels \"F\",\"M\": 2 2 2 2 2 2 1 2 2 2 ...\n",
      " $ rcd   : num  0.75 0.83 0.94 0.86 0.54 0.7 0.59 0.82 0.67 0.57 ...\n",
      " $ ageadj: num  22 0 3 18 3 11 24 24 8 11 ...\n",
      " $ chemo : num  0 1 1 0 0 1 0 0 1 0 ...\n"
     ]
    }
   ],
   "source": [
    "data(sdac, package=\"simplexreg\")\n",
    "str(sdac)"
   ]
  },
  {
   "cell_type": "code",
   "execution_count": 3,
   "id": "59a9aaf1",
   "metadata": {},
   "outputs": [
    {
     "data": {
      "text/plain": [
       "      age        gender       rcd             chemo       \n",
       " Min.   :18.00   F: 71   Min.   :0.4000   Min.   :0.0000  \n",
       " 1st Qu.:44.00   M:168   1st Qu.:0.7250   1st Qu.:0.0000  \n",
       " Median :56.00           Median :0.8000   Median :0.0000  \n",
       " Mean   :51.64           Mean   :0.7907   Mean   :0.4561  \n",
       " 3rd Qu.:62.00           3rd Qu.:0.8700   3rd Qu.:1.0000  \n",
       " Max.   :71.00           Max.   :0.9900   Max.   :1.0000  "
      ]
     },
     "metadata": {},
     "output_type": "display_data"
    }
   ],
   "source": [
    "summary(sdac[,-4])"
   ]
  },
  {
   "cell_type": "code",
   "execution_count": 4,
   "id": "3bdce0dd",
   "metadata": {},
   "outputs": [],
   "source": [
    "sdac$chemo = as.factor(sdac$chemo)"
   ]
  },
  {
   "cell_type": "code",
   "execution_count": 5,
   "id": "6e1bae02",
   "metadata": {},
   "outputs": [
    {
     "data": {
      "image/png": "[encoded data removed]",
      "text/plain": [
       "plot without title"
      ]
     },
     "metadata": {},
     "output_type": "display_data"
    }
   ],
   "source": [
    "reorder_size <- function(x) {\n",
    "  factor(x, levels = names(sort(table(x), decreasing = TRUE)))\n",
    "}\n",
    "\n",
    "plt = list()\n",
    "plt[[\"gender\"]] = ggplot(sdac, aes(x = reorder_size(gender))) + \n",
    "        geom_bar(fill=\"steelblue\") + \n",
    "        theme_minimal() + \n",
    "        theme(axis.text.x = element_text(angle = 45, hjust = 1))+\n",
    "        labs(x = \"género\", y = \"Freq\")\n",
    "\n",
    "plt[[\"chemo\"]] = ggplot(sdac, aes(x = reorder_size(chemo))) + \n",
    "        geom_bar(fill=\"steelblue\") + \n",
    "        theme_minimal() + \n",
    "        theme(axis.text.x = element_text(angle = 45, hjust = 1))+\n",
    "        labs(x = \"chemotherapy\", y = \"Freq\")\n",
    "\n",
    "grid.arrange(grobs = c(plt), ncol = 2, as.table = FALSE)"
   ]
  },
  {
   "cell_type": "code",
   "execution_count": 6,
   "id": "9a7088ef",
   "metadata": {},
   "outputs": [
    {
     "data": {
      "image/png": "[encoded data removed]",
      "text/plain": [
       "plot without title"
      ]
     },
     "metadata": {},
     "output_type": "display_data"
    }
   ],
   "source": [
    "ggplot(sdac) +\n",
    "       geom_point(aes(x=age,y=rcd,col=chemo),size=2.75) +\n",
    "\t   labs(x=\"Edad\",y=\"recovery rates for viable CD34+ cells\",col=\"chemotherapy\")"
   ]
  },
  {
   "cell_type": "markdown",
   "id": "aedf0997",
   "metadata": {},
   "source": [
    "**(B)** Ajuste a los datos un modelo de respuesta cuasi binomial con función de enlace $\\texttt{logit}$ y el predictor lineal dado por $1 + \\texttt{age*gender*chemo}$. Use los criterios R 2 ajustado y p-valor (basado en la estadı́stica de razón de (cuasi) verosimilitudes) para comparar y seleccionar el “mejor” modelo."
   ]
  },
  {
   "cell_type": "code",
   "execution_count": 7,
   "id": "7dd45965",
   "metadata": {},
   "outputs": [
    {
     "name": "stdout",
     "output_type": "stream",
     "text": [
      "     Variance:  proportional to mu(1-mu) \n",
      "Link function:  logit \n",
      "\n",
      "Initial model:\n",
      "~ 1 \n",
      "\n",
      "\n",
      "Step 0 :\n",
      "                    df   QICu adj.R-squared P(Chisq>)(*)\n",
      "+ age                1 3185.9        0.0170       0.0211\n",
      "<none>                 3121.6        0.0000             \n",
      "+ gender             1 3122.1       -0.0009       0.3648\n",
      "+ chemo              1 3126.8       -0.0015       0.4170\n",
      "\n",
      "Step 1 : + age \n",
      "\n",
      "                    df   QICu adj.R-squared P(Chisq>)(*)\n",
      "+ chemo              1 3286.8        0.0361      0.01537\n",
      "<none>                 3185.9        0.0170             \n",
      "+ gender             1 3184.1        0.0160      0.37730\n",
      "\n",
      "Step 2 : + chemo \n",
      "\n",
      "                    df   QICu adj.R-squared P(Chisq>)(*)\n",
      "+ age:chemo          1 3282.7        0.0418     0.115407\n",
      "<none>                 3286.8        0.0361             \n",
      "+ gender             1 3283.1        0.0346     0.414157\n",
      "- age                1 3126.8       -0.0015     0.001054\n",
      "\n",
      "Step 3 : + age:chemo \n",
      "\n",
      "                    df   QICu adj.R-squared P(Chisq>)(*)\n",
      "<none>                 3282.7        0.0418             \n",
      "+ gender             1 3282.9        0.0411        0.347\n",
      "\n",
      "Final model:\n",
      "~ age + chemo + age:chemo \n",
      "\n",
      "****************************************************************************\n",
      "(*) p-values of the Wald test\n"
     ]
    }
   ],
   "source": [
    "fit1 <- glm(rcd ~ age*gender*chemo, data=sdac, family=quasibinomial(logit))\n",
    "glmtoolbox::stepCriterion(fit1, criterion=\"adjr2\")"
   ]
  },
  {
   "cell_type": "code",
   "execution_count": 8,
   "id": "ed196f20",
   "metadata": {},
   "outputs": [
    {
     "name": "stdout",
     "output_type": "stream",
     "text": [
      "     Variance:  proportional to mu(1-mu) \n",
      "Link function:  logit \n",
      "\n",
      "Initial model:\n",
      "~ 1 \n",
      "\n",
      "\n",
      "Step 0 :\n",
      "                    df   QICu adj.R-squared P(Chisq>)(*)\n",
      "+ age                1 3185.9        0.0170       0.0211\n",
      "+ gender             1 3122.1       -0.0009       0.3648\n",
      "+ chemo              1 3126.8       -0.0015       0.4170\n",
      "<none>                 3121.6        0.0000             \n",
      "\n",
      "Step 1 : + age \n",
      "\n",
      "                    df   QICu adj.R-squared P(Chisq>)(*)\n",
      "+ chemo              1 3286.8        0.0361      0.01537\n",
      "+ gender             1 3184.1        0.0160      0.37730\n",
      "<none>                 3185.9        0.0170             \n",
      "\n",
      "Step 2 : + chemo \n",
      "\n",
      "                    df   QICu adj.R-squared P(Chisq>)(*)\n",
      "+ age:chemo          1 3282.7        0.0418       0.1154\n",
      "+ gender             1 3283.1        0.0346       0.4142\n",
      "<none>                 3286.8        0.0361             \n",
      "\n",
      "Final model:\n",
      "~ age + chemo \n",
      "\n",
      "****************************************************************************\n",
      "(*) p-values of the Wald test\n",
      " Effects are included when their p-values are lower than 0.05\n",
      " Effects are dropped when their p-values are higher than 0.05\n"
     ]
    }
   ],
   "source": [
    "glmtoolbox::stepCriterion(fit1, criterion=\"p-value\")"
   ]
  },
  {
   "cell_type": "markdown",
   "id": "cd022a7f",
   "metadata": {},
   "source": [
    "**(C)** Realice el análisis de diagnóstico al modelo ajustado. Comente."
   ]
  },
  {
   "cell_type": "code",
   "execution_count": 9,
   "id": "757dbc1b",
   "metadata": {},
   "outputs": [
    {
     "data": {
      "text/plain": [
       "\n",
       "Call:\n",
       "glm(formula = rcd ~ age + chemo + age:chemo, family = quasibinomial(logit), \n",
       "    data = sdac)\n",
       "\n",
       "Deviance Residuals: \n",
       "     Min        1Q    Median        3Q       Max  \n",
       "-0.84625  -0.14284   0.02424   0.20525   0.65143  \n",
       "\n",
       "Coefficients:\n",
       "             Estimate Std. Error t value Pr(>|t|)   \n",
       "(Intercept)  0.094016   0.378298   0.249   0.8039   \n",
       "age          0.020881   0.006538   3.194   0.0016 **\n",
       "chemo1       0.915614   0.432897   2.115   0.0355 * \n",
       "age:chemo1  -0.012627   0.008020  -1.574   0.1168   \n",
       "---\n",
       "Signif. codes:  0 ‘***’ 0.001 ‘**’ 0.01 ‘*’ 0.05 ‘.’ 0.1 ‘ ’ 1\n",
       "\n",
       "(Dispersion parameter for quasibinomial family taken to be 0.07456819)\n",
       "\n",
       "    Null deviance: 19.132  on 238  degrees of freedom\n",
       "Residual deviance: 18.102  on 235  degrees of freedom\n",
       "AIC: NA\n",
       "\n",
       "Number of Fisher Scoring iterations: 4\n"
      ]
     },
     "metadata": {},
     "output_type": "display_data"
    }
   ],
   "source": [
    "fit2 <- update(fit1,formula=rcd ~ age*chemo)\n",
    "summary(fit2)"
   ]
  },
  {
   "cell_type": "code",
   "execution_count": 10,
   "id": "adb280f0",
   "metadata": {},
   "outputs": [
    {
     "data": {
      "image/png": "[encoded data removed]",
      "text/plain": [
       "plot without title"
      ]
     },
     "metadata": {},
     "output_type": "display_data"
    }
   ],
   "source": [
    "cd <- cooks.distance(fit2)\n",
    "p4<-ggplot(fit2, aes(seq_along(.cooksd), .cooksd))+geom_bar(stat=\"identity\", position=\"identity\")\n",
    "p4<-p4+xlab(\"Obs. Number\")+ylab(\"Cook's distance\")\n",
    "p4<-p4+ggtitle(\"Cook's distance\")+theme_bw()\n",
    "p4<-p4+geom_hline(yintercept = 3*mean(cd))\n",
    "p4"
   ]
  },
  {
   "cell_type": "code",
   "execution_count": 11,
   "id": "68aaa128",
   "metadata": {},
   "outputs": [
    {
     "data": {
      "text/plain": [
       "\n",
       "Call:\n",
       "glm(formula = rcd ~ age + chemo + age:chemo, family = quasibinomial(logit), \n",
       "    data = sdac, subset = -which(cd > 0.03))\n",
       "\n",
       "Deviance Residuals: \n",
       "     Min        1Q    Median        3Q       Max  \n",
       "-0.86104  -0.15709   0.02364   0.18874   0.63139  \n",
       "\n",
       "Coefficients:\n",
       "             Estimate Std. Error t value Pr(>|t|)    \n",
       "(Intercept)  0.088617   0.360882   0.246 0.806244    \n",
       "age          0.021517   0.006241   3.448 0.000672 ***\n",
       "chemo1       1.173809   0.417427   2.812 0.005347 ** \n",
       "age:chemo1  -0.018135   0.007719  -2.349 0.019657 *  \n",
       "---\n",
       "Signif. codes:  0 ‘***’ 0.001 ‘**’ 0.01 ‘*’ 0.05 ‘.’ 0.1 ‘ ’ 1\n",
       "\n",
       "(Dispersion parameter for quasibinomial family taken to be 0.06549849)\n",
       "\n",
       "    Null deviance: 16.759  on 234  degrees of freedom\n",
       "Residual deviance: 15.896  on 231  degrees of freedom\n",
       "AIC: NA\n",
       "\n",
       "Number of Fisher Scoring iterations: 4\n"
      ]
     },
     "metadata": {},
     "output_type": "display_data"
    }
   ],
   "source": [
    "fit2a <- update(fit2,subset=-which(cd>0.03))\n",
    "summary(fit2a)"
   ]
  },
  {
   "cell_type": "code",
   "execution_count": 12,
   "id": "529ed21a",
   "metadata": {},
   "outputs": [
    {
     "data": {
      "text/html": [
       "<table>\n",
       "<thead><tr><th></th><th scope=col>coef</th><th scope=col>Std.Error</th><th scope=col>Pr(&gt;|t|)</th><th scope=col>coef*</th><th scope=col>Std.Error*</th><th scope=col>Pr(&gt;|t|)*</th><th scope=col>Cambio coef(%)</th><th scope=col>Cambio Std.Error(%)</th></tr></thead>\n",
       "<tbody>\n",
       "\t<tr><th scope=row>(Intercept)</th><td> 0.09402 </td><td>0.37830  </td><td>0.80395  </td><td> 0.08862 </td><td>0.36088  </td><td>0.80624  </td><td> -5.74321</td><td>-4.60376 </td></tr>\n",
       "\t<tr><th scope=row>age</th><td> 0.02088 </td><td>0.00654  </td><td>0.00160  </td><td> 0.02152 </td><td>0.00624  </td><td>0.00067  </td><td>  3.04655</td><td>-4.54478 </td></tr>\n",
       "\t<tr><th scope=row>chemo1</th><td> 0.91561 </td><td>0.43290  </td><td>0.03548  </td><td> 1.17381 </td><td>0.41743  </td><td>0.00535  </td><td> 28.19913</td><td>-3.57339 </td></tr>\n",
       "\t<tr><th scope=row>age:chemo1</th><td>-0.01263 </td><td>0.00802  </td><td>0.11675  </td><td>-0.01813 </td><td>0.00772  </td><td>0.01966  </td><td>-43.62337</td><td>-3.74959 </td></tr>\n",
       "</tbody>\n",
       "</table>\n"
      ],
      "text/latex": [
       "\\begin{tabular}{r|llllllll}\n",
       "  & coef & Std.Error & Pr(>\\textbar{}t\\textbar{}) & coef* & Std.Error* & Pr(>\\textbar{}t\\textbar{})* & Cambio coef(\\%) & Cambio Std.Error(\\%)\\\\\n",
       "\\hline\n",
       "\t(Intercept) &  0.09402  & 0.37830   & 0.80395   &  0.08862  & 0.36088   & 0.80624   &  -5.74321 & -4.60376 \\\\\n",
       "\tage &  0.02088  & 0.00654   & 0.00160   &  0.02152  & 0.00624   & 0.00067   &   3.04655 & -4.54478 \\\\\n",
       "\tchemo1 &  0.91561  & 0.43290   & 0.03548   &  1.17381  & 0.41743   & 0.00535   &  28.19913 & -3.57339 \\\\\n",
       "\tage:chemo1 & -0.01263  & 0.00802   & 0.11675   & -0.01813  & 0.00772   & 0.01966   & -43.62337 & -3.74959 \\\\\n",
       "\\end{tabular}\n"
      ],
      "text/markdown": [
       "\n",
       "| <!--/--> | coef | Std.Error | Pr(>|t|) | coef* | Std.Error* | Pr(>|t|)* | Cambio coef(%) | Cambio Std.Error(%) |\n",
       "|---|---|---|---|---|---|---|---|---|\n",
       "| (Intercept) |  0.09402  | 0.37830   | 0.80395   |  0.08862  | 0.36088   | 0.80624   |  -5.74321 | -4.60376  |\n",
       "| age |  0.02088  | 0.00654   | 0.00160   |  0.02152  | 0.00624   | 0.00067   |   3.04655 | -4.54478  |\n",
       "| chemo1 |  0.91561  | 0.43290   | 0.03548   |  1.17381  | 0.41743   | 0.00535   |  28.19913 | -3.57339  |\n",
       "| age:chemo1 | -0.01263  | 0.00802   | 0.11675   | -0.01813  | 0.00772   | 0.01966   | -43.62337 | -3.74959  |\n",
       "\n"
      ],
      "text/plain": [
       "            coef     Std.Error Pr(>|t|) coef*    Std.Error* Pr(>|t|)*\n",
       "(Intercept)  0.09402 0.37830   0.80395   0.08862 0.36088    0.80624  \n",
       "age          0.02088 0.00654   0.00160   0.02152 0.00624    0.00067  \n",
       "chemo1       0.91561 0.43290   0.03548   1.17381 0.41743    0.00535  \n",
       "age:chemo1  -0.01263 0.00802   0.11675  -0.01813 0.00772    0.01966  \n",
       "            Cambio coef(%) Cambio Std.Error(%)\n",
       "(Intercept)  -5.74321      -4.60376           \n",
       "age           3.04655      -4.54478           \n",
       "chemo1       28.19913      -3.57339           \n",
       "age:chemo1  -43.62337      -3.74959           "
      ]
     },
     "metadata": {},
     "output_type": "display_data"
    }
   ],
   "source": [
    "cbind(\"coef\"=fit2$coefficients, \n",
    "      \"Std.Error\" = sqrt(diag(vcov(fit2))),\n",
    "      \"Pr(>|t|)\" = 2*pt(-abs(coef(fit2)/(sqrt(diag(vcov(fit2))))), nrow(model.matrix(fit2))-ncol(model.matrix(fit2))),\n",
    "      \"coef*\" = fit2a$coefficients,\n",
    "      \"Std.Error*\" = sqrt(diag(vcov(fit2a))),\n",
    "      \"Pr(>|t|)*\" = 2*pt(-abs(coef(fit2a)/(sqrt(diag(vcov(fit2a))))), nrow(model.matrix(fit2a))-ncol(model.matrix(fit2a))),\n",
    "      \"Cambio coef(%)\" = 100*(fit2a$coefficients-fit2$coefficients)/abs(fit2$coefficients),\n",
    "      \"Cambio Std.Error(%)\" = 100*(sqrt(diag(vcov(fit2a)))-sqrt(diag(vcov(fit2))))/abs(sqrt(diag(vcov(fit2))))\n",
    "     ) %>% round(.,5)"
   ]
  },
  {
   "cell_type": "markdown",
   "id": "5301641a",
   "metadata": {},
   "source": [
    "Al remover del conjunto de datos las observaciones con distancia de Cook alta, no se determinan cambios en los signos las estimaciones, pero sí ocurren cambios en la significancia de los parámetros, como en el coeficiente asociado a la interacción $age:chemo1$, por lo tanto se concluye que corresponden a observaciones influyentes."
   ]
  },
  {
   "cell_type": "code",
   "execution_count": 13,
   "id": "ac29fd88",
   "metadata": {},
   "outputs": [
    {
     "data": {
      "image/png": "[encoded data removed]",
      "text/plain": [
       "plot without title"
      ]
     },
     "metadata": {},
     "output_type": "display_data"
    }
   ],
   "source": [
    "set.seed(24102022)\n",
    "res_fit2 = glmtoolbox::residuals2(fit2)"
   ]
  },
  {
   "cell_type": "markdown",
   "id": "858bab3f",
   "metadata": {},
   "source": [
    "**(D)** Use la función $\\texttt{betareg()}$ del paquete $\\texttt{betareg}$ de $\\texttt{R}$ para ajustar a los datos un modelo de respuesta beta con función de enlace logit y el mismo predictor lineal seleccionado en **(B)**. Compare las estimaciones de los parámetros y los errores estándar asociados a ellas con las obtenidas en **(B)**. Comente."
   ]
  },
  {
   "cell_type": "code",
   "execution_count": 14,
   "id": "1106dde4",
   "metadata": {},
   "outputs": [
    {
     "data": {
      "text/plain": [
       "\n",
       "Call:\n",
       "betareg::betareg(formula = rcd ~ age + chemo + age:chemo, data = sdac, \n",
       "    link = c(\"logit\"))\n",
       "\n",
       "Standardized weighted residuals 2:\n",
       "    Min      1Q  Median      3Q     Max \n",
       "-2.3972 -0.6514 -0.1267  0.4798  4.0912 \n",
       "\n",
       "Coefficients (mean model with logit link):\n",
       "             Estimate Std. Error z value Pr(>|z|)   \n",
       "(Intercept)  0.153051   0.380814   0.402  0.68775   \n",
       "age          0.019908   0.006560   3.035  0.00241 **\n",
       "chemo1       1.010111   0.435266   2.321  0.02030 * \n",
       "age:chemo1  -0.015107   0.008005  -1.887  0.05914 . \n",
       "\n",
       "Phi coefficients (precision model with identity link):\n",
       "      Estimate Std. Error z value Pr(>|z|)    \n",
       "(phi)   11.438      1.026   11.14   <2e-16 ***\n",
       "---\n",
       "Signif. codes:  0 '***' 0.001 '**' 0.01 '*' 0.05 '.' 0.1 ' ' 1 \n",
       "\n",
       "Type of estimator: ML (maximum likelihood)\n",
       "Log-likelihood: 196.8 on 5 Df\n",
       "Pseudo R-squared: 0.03506\n",
       "Number of iterations: 12 (BFGS) + 3 (Fisher scoring) "
      ]
     },
     "metadata": {},
     "output_type": "display_data"
    }
   ],
   "source": [
    "fit3 = betareg::betareg(formula = rcd ~ age + chemo + age:chemo, data = sdac, link = c(\"logit\"))\n",
    "summary(fit3)                 "
   ]
  },
  {
   "cell_type": "code",
   "execution_count": 15,
   "id": "91e44f3e",
   "metadata": {},
   "outputs": [
    {
     "data": {
      "text/html": [
       "<table>\n",
       "<thead><tr><th></th><th scope=col>Coef_Quasi</th><th scope=col>Std.Error_Quasi</th><th scope=col>Estimate</th><th scope=col>Std. Error</th><th scope=col>Cambio coef(%)</th><th scope=col>Cambio Std.Error(%)</th></tr></thead>\n",
       "<tbody>\n",
       "\t<tr><th scope=row>(Intercept)</th><td> 0.094 </td><td>0.378  </td><td> 0.153 </td><td>0.381  </td><td> 62.792</td><td> 0.665 </td></tr>\n",
       "\t<tr><th scope=row>age</th><td> 0.021 </td><td>0.007  </td><td> 0.020 </td><td>0.007  </td><td> -4.660</td><td> 0.334 </td></tr>\n",
       "\t<tr><th scope=row>chemo1</th><td> 0.916 </td><td>0.433  </td><td> 1.010 </td><td>0.435  </td><td> 10.321</td><td> 0.547 </td></tr>\n",
       "\t<tr><th scope=row>age:chemo1</th><td>-0.013 </td><td>0.008  </td><td>-0.015 </td><td>0.008  </td><td>-19.647</td><td>-0.184 </td></tr>\n",
       "</tbody>\n",
       "</table>\n"
      ],
      "text/latex": [
       "\\begin{tabular}{r|llllll}\n",
       "  & Coef\\_Quasi & Std.Error\\_Quasi & Estimate & Std. Error & Cambio coef(\\%) & Cambio Std.Error(\\%)\\\\\n",
       "\\hline\n",
       "\t(Intercept) &  0.094  & 0.378   &  0.153  & 0.381   &  62.792 &  0.665 \\\\\n",
       "\tage &  0.021  & 0.007   &  0.020  & 0.007   &  -4.660 &  0.334 \\\\\n",
       "\tchemo1 &  0.916  & 0.433   &  1.010  & 0.435   &  10.321 &  0.547 \\\\\n",
       "\tage:chemo1 & -0.013  & 0.008   & -0.015  & 0.008   & -19.647 & -0.184 \\\\\n",
       "\\end{tabular}\n"
      ],
      "text/markdown": [
       "\n",
       "| <!--/--> | Coef_Quasi | Std.Error_Quasi | Estimate | Std. Error | Cambio coef(%) | Cambio Std.Error(%) |\n",
       "|---|---|---|---|---|---|---|\n",
       "| (Intercept) |  0.094  | 0.378   |  0.153  | 0.381   |  62.792 |  0.665  |\n",
       "| age |  0.021  | 0.007   |  0.020  | 0.007   |  -4.660 |  0.334  |\n",
       "| chemo1 |  0.916  | 0.433   |  1.010  | 0.435   |  10.321 |  0.547  |\n",
       "| age:chemo1 | -0.013  | 0.008   | -0.015  | 0.008   | -19.647 | -0.184  |\n",
       "\n"
      ],
      "text/plain": [
       "            Coef_Quasi Std.Error_Quasi Estimate Std. Error Cambio coef(%)\n",
       "(Intercept)  0.094     0.378            0.153   0.381       62.792       \n",
       "age          0.021     0.007            0.020   0.007       -4.660       \n",
       "chemo1       0.916     0.433            1.010   0.435       10.321       \n",
       "age:chemo1  -0.013     0.008           -0.015   0.008      -19.647       \n",
       "            Cambio Std.Error(%)\n",
       "(Intercept)  0.665             \n",
       "age          0.334             \n",
       "chemo1       0.547             \n",
       "age:chemo1  -0.184             "
      ]
     },
     "metadata": {},
     "output_type": "display_data"
    }
   ],
   "source": [
    "tbl = summary(fit2)$coefficients[,1:2]  %>% as.data.frame() %>% \n",
    "    rename(c(\"Coef_Quasi\"=Estimate, \"Std.Error_Quasi\"=`Std. Error`)) %>% \n",
    "    bind_cols(summary(fit3)$coefficients$mean[,1:2]) %>% \n",
    "    mutate(\"Cambio coef(%)\" = 100*((Estimate-Coef_Quasi)/abs(Coef_Quasi)),\n",
    "           \"Cambio Std.Error(%)\" = 100*((`Std. Error`-Std.Error_Quasi)/abs(Std.Error_Quasi)))  %>% round(.,3)\n",
    "tbl\n",
    "#kable(tbl,format = 'latex')"
   ]
  },
  {
   "cell_type": "markdown",
   "id": "f55632ad",
   "metadata": {},
   "source": [
    "Al ajustar el modelo betareg, la principal diferencia es que el coeficiente asociado a la interacción deja de ser significativo, a pesar que su error estándar cambia muy poco (<1%). Por otra parte los coeficientes no cambian de signo por lo que mantienen las mismas conclusiones del modelo quasi-binomial."
   ]
  },
  {
   "cell_type": "markdown",
   "id": "b33f30aa",
   "metadata": {},
   "source": [
    "# Punto 7\n",
    "\n",
    "Estos datos, disponibles en el objeto $\\texttt{pock}$ del paquete $\\texttt{GLMsData}$ de $\\texttt{R}$, surgen de un experimento desarrollado para evaluar la actividad viral, en el que la variable respuesta es el número de marcas de viruela ($\\texttt{Count}$) y la variable explicativa es la dilución del medio viral ($\\texttt{Dilution}$)."
   ]
  },
  {
   "cell_type": "markdown",
   "id": "e5566e1d",
   "metadata": {},
   "source": [
    "**(A)** Calcule $\\texttt{var(Count)/mean(Count)}$ para cada valor de $\\texttt{Dilution}$. Los resultados permiten suponer que, dado un valor especı́fico de $\\texttt{Dilution}$, los valores de $\\texttt{Count}$ asociados a él son realizaciones de variables aleatorias independientes con distribución de Poisson? Justifique su respuesta."
   ]
  },
  {
   "cell_type": "code",
   "execution_count": 16,
   "id": "21d37f3f",
   "metadata": {},
   "outputs": [
    {
     "name": "stdout",
     "output_type": "stream",
     "text": [
      "'data.frame':\t48 obs. of  2 variables:\n",
      " $ Count   : int  116 151 171 194 196 198 208 259 71 74 ...\n",
      " $ Dilution: int  1 1 1 1 1 1 1 1 2 2 ...\n"
     ]
    }
   ],
   "source": [
    "data(pock, package=\"GLMsData\")\n",
    "str(pock)"
   ]
  },
  {
   "cell_type": "code",
   "execution_count": 17,
   "id": "5d7a581f",
   "metadata": {},
   "outputs": [
    {
     "data": {
      "text/html": [
       "<table>\n",
       "<thead><tr><th scope=col>Dilution</th><th scope=col>var(Count)/mean(Count)</th></tr></thead>\n",
       "<tbody>\n",
       "\t<tr><td>1       </td><td>9.543871</td></tr>\n",
       "\t<tr><td>2       </td><td>6.373872</td></tr>\n",
       "\t<tr><td>4       </td><td>7.094488</td></tr>\n",
       "\t<tr><td>8       </td><td>7.195162</td></tr>\n",
       "\t<tr><td>16      </td><td>1.940171</td></tr>\n",
       "</tbody>\n",
       "</table>\n"
      ],
      "text/latex": [
       "\\begin{tabular}{r|ll}\n",
       " Dilution & var(Count)/mean(Count)\\\\\n",
       "\\hline\n",
       "\t 1        & 9.543871\\\\\n",
       "\t 2        & 6.373872\\\\\n",
       "\t 4        & 7.094488\\\\\n",
       "\t 8        & 7.195162\\\\\n",
       "\t 16       & 1.940171\\\\\n",
       "\\end{tabular}\n"
      ],
      "text/markdown": [
       "\n",
       "| Dilution | var(Count)/mean(Count) |\n",
       "|---|---|\n",
       "| 1        | 9.543871 |\n",
       "| 2        | 6.373872 |\n",
       "| 4        | 7.094488 |\n",
       "| 8        | 7.195162 |\n",
       "| 16       | 1.940171 |\n",
       "\n"
      ],
      "text/plain": [
       "  Dilution var(Count)/mean(Count)\n",
       "1 1        9.543871              \n",
       "2 2        6.373872              \n",
       "3 4        7.094488              \n",
       "4 8        7.195162              \n",
       "5 16       1.940171              "
      ]
     },
     "metadata": {},
     "output_type": "display_data"
    }
   ],
   "source": [
    "mutate(pock, Dilution = as.factor(Dilution)) %>% \n",
    "    group_by(Dilution) %>% \n",
    "    summarise(var(Count)/mean(Count))"
   ]
  },
  {
   "cell_type": "markdown",
   "id": "fd53fd0a",
   "metadata": {},
   "source": [
    "De acuerdo a los resultados, los valores de Count asociados a cualquier valor fijo de Dilution parecen no provenir de variables aleatorias con distribucción Poisson porque la variabilidad de los datos es mayor."
   ]
  },
  {
   "cell_type": "markdown",
   "id": "13d39bef",
   "metadata": {},
   "source": [
    "**(B)** Ajuste a los datos un modelo de respuesta Poisson con función de enlace $\\texttt{log}$ y el predictor lineal dado por $1 + \\texttt{log(Dilution)}$. Evalue si hay indı́cios de sobredispersión."
   ]
  },
  {
   "cell_type": "code",
   "execution_count": 18,
   "id": "b11f7f16",
   "metadata": {},
   "outputs": [
    {
     "data": {
      "text/html": [
       "<dl class=dl-horizontal>\n",
       "\t<dt>Deviance/df</dt>\n",
       "\t\t<dd>6.3138847501572</dd>\n",
       "\t<dt>Pearson/df</dt>\n",
       "\t\t<dd>6.33894622801031</dd>\n",
       "</dl>\n"
      ],
      "text/latex": [
       "\\begin{description*}\n",
       "\\item[Deviance/df] 6.3138847501572\n",
       "\\item[Pearson/df] 6.33894622801031\n",
       "\\end{description*}\n"
      ],
      "text/markdown": [
       "Deviance/df\n",
       ":   6.3138847501572Pearson/df\n",
       ":   6.33894622801031\n",
       "\n"
      ],
      "text/plain": [
       "Deviance/df  Pearson/df \n",
       "   6.313885    6.338946 "
      ]
     },
     "metadata": {},
     "output_type": "display_data"
    }
   ],
   "source": [
    "fit <- glm(Count ~ log(Dilution) , family=poisson(log), data=pock)\n",
    "\n",
    "c(\"Deviance/df\"=deviance(fit)/fit$df.residual,\n",
    "  \"Pearson/df\"=sum(resid(fit,type=\"pearson\")^2)/fit$df.residual)"
   ]
  },
  {
   "cell_type": "code",
   "execution_count": 19,
   "id": "a3fc9f62",
   "metadata": {},
   "outputs": [
    {
     "name": "stdout",
     "output_type": "stream",
     "text": [
      "  |+++++++++++++++++++++++++| 100%\n"
     ]
    },
    {
     "data": {
      "image/png": "[encoded data removed]",
      "text/plain": [
       "Plot with title “Normal QQ plot with simulated envelope\n",
       " of quantile-type residuals”"
      ]
     },
     "metadata": {},
     "output_type": "display_data"
    }
   ],
   "source": [
    "set.seed(24102022)\n",
    "glmtoolbox::envelope(fit)"
   ]
  },
  {
   "cell_type": "markdown",
   "id": "baf47a37",
   "metadata": {},
   "source": [
    "**(C)** Ajuste a los datos modelos de respuestas NB1, NB2 y NBF con función de enlace log y el predictor lineal dado por $1 + \\texttt{log(Dilution)}$. Use los criterios AIC y BIC para comparar y seleccionar el “mejor” modelo."
   ]
  },
  {
   "cell_type": "code",
   "execution_count": 20,
   "id": "716f5bf8",
   "metadata": {},
   "outputs": [],
   "source": [
    "fit1 <- glmtoolbox::overglm(Count ~ log(Dilution), family=\"nb1(log)\", data=pock)\n",
    "fit2 <- update(fit1, family=\"nb2(log)\")\n",
    "fit3 <- update(fit1, family=\"nbf(log)\")"
   ]
  },
  {
   "cell_type": "code",
   "execution_count": 21,
   "id": "60b0a61d",
   "metadata": {},
   "outputs": [
    {
     "data": {
      "text/html": [
       "<table>\n",
       "<thead><tr><th></th><th scope=col>df</th><th scope=col>AIC</th></tr></thead>\n",
       "<tbody>\n",
       "\t<tr><th scope=row>fit1</th><td>3       </td><td>410.0057</td></tr>\n",
       "\t<tr><th scope=row>fit2</th><td>3       </td><td>406.9991</td></tr>\n",
       "\t<tr><th scope=row>fit3</th><td>4       </td><td>407.3870</td></tr>\n",
       "</tbody>\n",
       "</table>\n"
      ],
      "text/latex": [
       "\\begin{tabular}{r|ll}\n",
       "  & df & AIC\\\\\n",
       "\\hline\n",
       "\tfit1 & 3        & 410.0057\\\\\n",
       "\tfit2 & 3        & 406.9991\\\\\n",
       "\tfit3 & 4        & 407.3870\\\\\n",
       "\\end{tabular}\n"
      ],
      "text/markdown": [
       "\n",
       "| <!--/--> | df | AIC |\n",
       "|---|---|---|\n",
       "| fit1 | 3        | 410.0057 |\n",
       "| fit2 | 3        | 406.9991 |\n",
       "| fit3 | 4        | 407.3870 |\n",
       "\n"
      ],
      "text/plain": [
       "     df AIC     \n",
       "fit1 3  410.0057\n",
       "fit2 3  406.9991\n",
       "fit3 4  407.3870"
      ]
     },
     "metadata": {},
     "output_type": "display_data"
    },
    {
     "data": {
      "text/html": [
       "<table>\n",
       "<thead><tr><th></th><th scope=col>df</th><th scope=col>BIC</th></tr></thead>\n",
       "<tbody>\n",
       "\t<tr><th scope=row>fit1</th><td>3       </td><td>415.6193</td></tr>\n",
       "\t<tr><th scope=row>fit2</th><td>3       </td><td>412.6127</td></tr>\n",
       "\t<tr><th scope=row>fit3</th><td>4       </td><td>414.8718</td></tr>\n",
       "</tbody>\n",
       "</table>\n"
      ],
      "text/latex": [
       "\\begin{tabular}{r|ll}\n",
       "  & df & BIC\\\\\n",
       "\\hline\n",
       "\tfit1 & 3        & 415.6193\\\\\n",
       "\tfit2 & 3        & 412.6127\\\\\n",
       "\tfit3 & 4        & 414.8718\\\\\n",
       "\\end{tabular}\n"
      ],
      "text/markdown": [
       "\n",
       "| <!--/--> | df | BIC |\n",
       "|---|---|---|\n",
       "| fit1 | 3        | 415.6193 |\n",
       "| fit2 | 3        | 412.6127 |\n",
       "| fit3 | 4        | 414.8718 |\n",
       "\n"
      ],
      "text/plain": [
       "     df BIC     \n",
       "fit1 3  415.6193\n",
       "fit2 3  412.6127\n",
       "fit3 4  414.8718"
      ]
     },
     "metadata": {},
     "output_type": "display_data"
    }
   ],
   "source": [
    "AIC(fit1, fit2, fit3)\n",
    "BIC(fit1, fit2, fit3)"
   ]
  },
  {
   "cell_type": "code",
   "execution_count": 22,
   "id": "1bd14fd0",
   "metadata": {},
   "outputs": [
    {
     "name": "stdout",
     "output_type": "stream",
     "text": [
      "\n",
      "Sample size: 48 \n",
      "     Family: Negative Binomial type II with log link\n",
      "*************************************************************\n",
      "               Estimate Std.Error   z-value   Pr(>|z|)\n",
      "(Intercept)     5.25908   0.05516  95.33397 < 2.22e-16\n",
      "log(Dilution)  -0.96904   0.05258 -18.42949 < 2.22e-16\n",
      "                                                      \n",
      "phi             5.18882   1.28520                     \n",
      "*************************************************************\n",
      "                 -2*log-likelihood:  400.999 \n",
      "                               AIC:  406.999 \n",
      "                               BIC:  412.613 \n"
     ]
    }
   ],
   "source": [
    "summary(fit2)"
   ]
  },
  {
   "cell_type": "markdown",
   "id": "b3286a0d",
   "metadata": {},
   "source": [
    "**(D)** Haga lo siguiente con el modelo seleccionado en **(C)**: (i) interprete sus parámetros; (ii) compare las estimaciones de sus parámetros y los errores estándar asociados a ellas con las obtenidas en **(B)**; y (iii) realice el análisis de diagnóstico."
   ]
  },
  {
   "cell_type": "markdown",
   "id": "e9e19bdb",
   "metadata": {},
   "source": [
    "(i) $\\beta_1 :$ -0.96904, al aumentar una unidad en $\\texttt{log(Dilution)}$ el número de marcas de viruela disminuye.\n",
    "\n",
    "$\\phi :$ es la estimación del parámetro de dispersión, la cual es significativamente mayor que cero, por lo tanto es más razonable ajustar un modelo NB2 que un modelo Poisson."
   ]
  },
  {
   "cell_type": "code",
   "execution_count": 23,
   "id": "af4b64fc",
   "metadata": {},
   "outputs": [
    {
     "data": {
      "text/html": [
       "<table>\n",
       "<thead><tr><th></th><th scope=col>Coef_Poisson</th><th scope=col>Std.Error_Poisson</th><th scope=col>Coef_NB2</th><th scope=col>Std.Error_NB2</th><th scope=col>Cambio coef(%)</th><th scope=col>Cambio Std.Error(%)</th></tr></thead>\n",
       "<tbody>\n",
       "\t<tr><th scope=row>(Intercept)</th><td> 5.268 </td><td>0.023  </td><td> 5.259 </td><td>0.055  </td><td>-0.168 </td><td>144.617</td></tr>\n",
       "\t<tr><th scope=row>log(Dilution)</th><td>-0.982 </td><td>0.022  </td><td>-0.969 </td><td>0.053  </td><td> 1.360 </td><td>135.997</td></tr>\n",
       "</tbody>\n",
       "</table>\n"
      ],
      "text/latex": [
       "\\begin{tabular}{r|llllll}\n",
       "  & Coef\\_Poisson & Std.Error\\_Poisson & Coef\\_NB2 & Std.Error\\_NB2 & Cambio coef(\\%) & Cambio Std.Error(\\%)\\\\\n",
       "\\hline\n",
       "\t(Intercept) &  5.268  & 0.023   &  5.259  & 0.055   & -0.168  & 144.617\\\\\n",
       "\tlog(Dilution) & -0.982  & 0.022   & -0.969  & 0.053   &  1.360  & 135.997\\\\\n",
       "\\end{tabular}\n"
      ],
      "text/markdown": [
       "\n",
       "| <!--/--> | Coef_Poisson | Std.Error_Poisson | Coef_NB2 | Std.Error_NB2 | Cambio coef(%) | Cambio Std.Error(%) |\n",
       "|---|---|---|---|---|---|---|\n",
       "| (Intercept) |  5.268  | 0.023   |  5.259  | 0.055   | -0.168  | 144.617 |\n",
       "| log(Dilution) | -0.982  | 0.022   | -0.969  | 0.053   |  1.360  | 135.997 |\n",
       "\n"
      ],
      "text/plain": [
       "              Coef_Poisson Std.Error_Poisson Coef_NB2 Std.Error_NB2\n",
       "(Intercept)    5.268       0.023              5.259   0.055        \n",
       "log(Dilution) -0.982       0.022             -0.969   0.053        \n",
       "              Cambio coef(%) Cambio Std.Error(%)\n",
       "(Intercept)   -0.168         144.617            \n",
       "log(Dilution)  1.360         135.997            "
      ]
     },
     "metadata": {},
     "output_type": "display_data"
    }
   ],
   "source": [
    "tbl2 = summary(fit)$coefficients[,1:2]  %>% as.data.frame() %>% \n",
    "    rename(c(\"Coef_Poisson\"=Estimate, \"Std.Error_Poisson\"=`Std. Error`)) %>% \n",
    "    mutate(\"Coef_NB2\"=coefficients(fit2), \n",
    "           \"Std.Error_NB2\" = sqrt(diag(vcov(fit2))),\n",
    "           \"Cambio coef(%)\" = 100*((Coef_NB2-Coef_Poisson)/abs(Coef_Poisson)),\n",
    "           \"Cambio Std.Error(%)\" = 100*((Std.Error_NB2-Std.Error_Poisson)/abs(Std.Error_Poisson))) %>% round(.,3)\n",
    "tbl2\n",
    "#kable(tbl2,format = 'latex')"
   ]
  },
  {
   "cell_type": "code",
   "execution_count": 24,
   "id": "56ece660",
   "metadata": {},
   "outputs": [
    {
     "name": "stdout",
     "output_type": "stream",
     "text": [
      "  |+++++++++++++++++++++++++| 100%\n"
     ]
    },
    {
     "data": {
      "image/png": "[encoded data removed]",
      "text/plain": [
       "Plot with title “Normal QQ plot with simulated envelope\n",
       " of quantile-type residuals”"
      ]
     },
     "metadata": {},
     "output_type": "display_data"
    }
   ],
   "source": [
    "set.seed(24102022)\n",
    "glmtoolbox::envelope(fit2)"
   ]
  },
  {
   "cell_type": "markdown",
   "id": "38248dd7",
   "metadata": {},
   "source": [
    "# Punto 8\n",
    "\n",
    "Estos datos, disponibles en el objeto $\\texttt{quine}$ del paquete $\\texttt{MASS}$ de $\\texttt{R}$, se refieren al número de dı́as de ausencia ($\\texttt{Days}$) durante el año escolar para un grupo de 146 niños de Walgett, Nueva Gales del Sur, Australia. Se pretenden explicar las diferencias entre el número de dı́as de ausencia durante el año escolar usando caracterı́sticas de los niños como lo son su origen étnico ($\\texttt{Eth}$: ‘‘A’’ y ‘‘N’’ para aborigen y no aborigen, respectivamente), su género ($\\texttt{Sex}$: ‘‘F’’ y ‘‘M’’ para femenino y masculino, respectivamente), grupo etario ($\\texttt{Age}$: ‘‘F0’’, ‘‘F1’’, ‘‘F2’’ y ‘‘F3’’), y su estado de aprendizaje ($\\texttt{Lrn}$: ‘‘AL’’ y ‘‘SL’’ para alumno(a) promedio y alumno(a) lento, respectivamente)."
   ]
  },
  {
   "cell_type": "markdown",
   "id": "ccc945df",
   "metadata": {},
   "source": [
    "**(A)** Haga un análisis descriptivo de los datos. Comente."
   ]
  },
  {
   "cell_type": "code",
   "execution_count": 25,
   "id": "5137151f",
   "metadata": {},
   "outputs": [
    {
     "name": "stdout",
     "output_type": "stream",
     "text": [
      "'data.frame':\t146 obs. of  5 variables:\n",
      " $ Eth : Factor w/ 2 levels \"A\",\"N\": 1 1 1 1 1 1 1 1 1 1 ...\n",
      " $ Sex : Factor w/ 2 levels \"F\",\"M\": 2 2 2 2 2 2 2 2 2 2 ...\n",
      " $ Age : Factor w/ 4 levels \"F0\",\"F1\",\"F2\",..: 1 1 1 1 1 1 1 1 2 2 ...\n",
      " $ Lrn : Factor w/ 2 levels \"AL\",\"SL\": 2 2 2 1 1 1 1 1 2 2 ...\n",
      " $ Days: int  2 11 14 5 5 13 20 22 6 6 ...\n"
     ]
    }
   ],
   "source": [
    "data(quine, package=\"MASS\")\n",
    "str(quine)"
   ]
  },
  {
   "cell_type": "code",
   "execution_count": 26,
   "id": "452c44db",
   "metadata": {},
   "outputs": [
    {
     "data": {
      "text/plain": [
       " Eth    Sex    Age     Lrn          Days      \n",
       " A:69   F:80   F0:27   AL:83   Min.   : 0.00  \n",
       " N:77   M:66   F1:46   SL:63   1st Qu.: 5.00  \n",
       "               F2:40           Median :11.00  \n",
       "               F3:33           Mean   :16.46  \n",
       "                               3rd Qu.:22.75  \n",
       "                               Max.   :81.00  "
      ]
     },
     "metadata": {},
     "output_type": "display_data"
    }
   ],
   "source": [
    "summary(quine)"
   ]
  },
  {
   "cell_type": "code",
   "execution_count": 27,
   "id": "985692f9",
   "metadata": {},
   "outputs": [
    {
     "data": {
      "image/png": "[encoded data removed]",
      "text/plain": [
       "plot without title"
      ]
     },
     "metadata": {},
     "output_type": "display_data"
    }
   ],
   "source": [
    "reorder_size <- function(x) {\n",
    "  factor(x, levels = names(sort(table(x), decreasing = TRUE)))\n",
    "}\n",
    "\n",
    "gg_list1 <- lapply(quine[,-c(5)],function(y) ggplot(quine[,-c(5)], aes(x = reorder_size(y))) + geom_bar(fill=\"steelblue\") + theme_minimal() + theme(axis.text.x = element_text(angle = 45, hjust = 1)) )\n",
    "\n",
    "for(i in 1:length(gg_list1)){\n",
    "  gg_list1[[i]]$labels[1] = names(quine[,-c(5)])[i]\n",
    "  gg_list1[[i]]$labels[2] = \"\"\n",
    "}\n",
    "\n",
    "grid.arrange(grobs = c(gg_list1), ncol = 2, as.table = FALSE)"
   ]
  },
  {
   "cell_type": "markdown",
   "id": "14371b56",
   "metadata": {},
   "source": [
    "**(B)** Ajuste a los datos un modelo de respuesta Poisson con función de enlace log y el predictor lineal dado por $1 + \\texttt{Eth*Age} + \\texttt{Sex} + \\texttt{Lrn}$. Evalue si hay indicios de sobredispersión."
   ]
  },
  {
   "cell_type": "code",
   "execution_count": 28,
   "id": "e737e406",
   "metadata": {},
   "outputs": [
    {
     "data": {
      "text/html": [
       "<dl class=dl-horizontal>\n",
       "\t<dt>Deviance/df</dt>\n",
       "\t\t<dd>11.3443862549195</dd>\n",
       "\t<dt>Pearson/df</dt>\n",
       "\t\t<dd>11.7342308242433</dd>\n",
       "</dl>\n"
      ],
      "text/latex": [
       "\\begin{description*}\n",
       "\\item[Deviance/df] 11.3443862549195\n",
       "\\item[Pearson/df] 11.7342308242433\n",
       "\\end{description*}\n"
      ],
      "text/markdown": [
       "Deviance/df\n",
       ":   11.3443862549195Pearson/df\n",
       ":   11.7342308242433\n",
       "\n"
      ],
      "text/plain": [
       "Deviance/df  Pearson/df \n",
       "   11.34439    11.73423 "
      ]
     },
     "metadata": {},
     "output_type": "display_data"
    }
   ],
   "source": [
    "fit <- glm(Days ~ Eth*Age+Sex+Lrn , family=poisson(log), data=quine)\n",
    "\n",
    "c(\"Deviance/df\"=deviance(fit)/fit$df.residual,\n",
    "  \"Pearson/df\"=sum(resid(fit,type=\"pearson\")^2)/fit$df.residual)"
   ]
  },
  {
   "cell_type": "code",
   "execution_count": 29,
   "id": "c134aea0",
   "metadata": {},
   "outputs": [
    {
     "name": "stdout",
     "output_type": "stream",
     "text": [
      "  |+++++++++++++++++++++++++| 100%\n"
     ]
    },
    {
     "data": {
      "image/png": "[encoded data removed]",
      "text/plain": [
       "Plot with title “Normal QQ plot with simulated envelope\n",
       " of quantile-type residuals”"
      ]
     },
     "metadata": {},
     "output_type": "display_data"
    }
   ],
   "source": [
    "set.seed(24102022)\n",
    "glmtoolbox::envelope(fit)"
   ]
  },
  {
   "cell_type": "markdown",
   "id": "6ce026c0",
   "metadata": {},
   "source": [
    "**(C)** Ajuste a los datos modelos de respuestas NB1, NB2 y NBF con función de enlace $\\texttt{log}$ y el predictor lineal dado por $1 + \\texttt{Eth*Age} + \\texttt{Sex} + \\texttt{Lrn}$. Use el criterio del p-valor basado en la estadı́stica de la razón de verosimilitudes para comparar y seleccionar el “mejor” modelo."
   ]
  },
  {
   "cell_type": "code",
   "execution_count": 30,
   "id": "42a370ac",
   "metadata": {},
   "outputs": [],
   "source": [
    "fit1 <- glmtoolbox::overglm(Days ~ Eth*Age+Sex+Lrn, family=\"nb1(log)\", data=quine)\n",
    "fit2 <- update(fit1, family=\"nb2(log)\")\n",
    "fit3 <- update(fit1, family=\"nbf(log)\")"
   ]
  },
  {
   "cell_type": "code",
   "execution_count": 31,
   "id": "df7f6428",
   "metadata": {},
   "outputs": [
    {
     "name": "stdout",
     "output_type": "stream",
     "text": [
      "\n",
      "       Family:  Negative Binomial I \n",
      "Link function:  log \n",
      "\n",
      "Initial model:\n",
      "~ Eth * Age + Sex + Lrn \n",
      "\n",
      "\n",
      "Step 0 :\n",
      "           df    AIC    BIC P(Chisq>)(*)\n",
      "- Sex       1 1103.2 1133.0      0.47884\n",
      "- Lrn       1 1104.2 1134.1      0.21453\n",
      "- Age:Eth   3 1109.2 1133.0      0.01501\n",
      "<none>        1104.7 1137.5             \n",
      "\n",
      "Step 1 : - Sex \n",
      "\n",
      "           df    AIC    BIC P(Chisq>)(*)\n",
      "- Lrn       1 1102.6 1129.5      0.22883\n",
      "- Age:Eth   3 1107.4 1128.3      0.01685\n",
      "<none>        1103.2 1133.0             \n",
      "\n",
      "Step 2 : - Lrn \n",
      "\n",
      "           df    AIC    BIC P(Chisq>)(*)\n",
      "- Age:Eth   3 1107.8 1125.7      0.01087\n",
      "<none>        1102.6 1129.5             \n",
      "\n",
      "\n",
      "Final model:\n",
      "~ Eth + Age + Eth:Age \n",
      "\n",
      "****************************************************************************\n",
      "(*) p-values of the likelihood-ratio test\n",
      " Effects are included when their p-values are lower than 0.05\n",
      " Effects are dropped when their p-values are higher than 0.05\n"
     ]
    }
   ],
   "source": [
    "glmtoolbox::stepCriterion(fit1, criterion=\"p-value\", \"lr\", \"backward\")"
   ]
  },
  {
   "cell_type": "code",
   "execution_count": 32,
   "id": "b366d3b5",
   "metadata": {},
   "outputs": [
    {
     "name": "stdout",
     "output_type": "stream",
     "text": [
      "\n",
      "       Family:  Negative Binomial II \n",
      "Link function:  log \n",
      "\n",
      "Initial model:\n",
      "~ Eth * Age + Sex + Lrn \n",
      "\n",
      "\n",
      "Step 0 :\n",
      "           df    AIC    BIC P(Chisq>)(*)\n",
      "- Sex       1 1107.7 1137.5       0.3657\n",
      "- Lrn       1 1108.5 1138.4       0.1997\n",
      "- Age:Eth   3 1111.9 1135.8       0.0289\n",
      "<none>        1108.9 1141.7             \n",
      "\n",
      "Step 1 : - Sex \n",
      "\n",
      "           df    AIC    BIC P(Chisq>)(*)\n",
      "- Lrn       1 1107.0 1133.8      0.26250\n",
      "- Age:Eth   3 1111.0 1131.9      0.02569\n",
      "<none>        1107.7 1137.5             \n",
      "\n",
      "Step 2 : - Lrn \n",
      "\n",
      "           df    AIC    BIC P(Chisq>)(*)\n",
      "- Age:Eth   3 1109.7 1127.6      0.03294\n",
      "<none>        1107.0 1133.8             \n",
      "\n",
      "\n",
      "Final model:\n",
      "~ Eth + Age + Eth:Age \n",
      "\n",
      "****************************************************************************\n",
      "(*) p-values of the likelihood-ratio test\n",
      " Effects are included when their p-values are lower than 0.05\n",
      " Effects are dropped when their p-values are higher than 0.05\n"
     ]
    }
   ],
   "source": [
    "glmtoolbox::stepCriterion(fit2, criterion=\"p-value\", \"lr\", \"backward\")"
   ]
  },
  {
   "cell_type": "code",
   "execution_count": 33,
   "id": "a501649f",
   "metadata": {},
   "outputs": [
    {
     "name": "stdout",
     "output_type": "stream",
     "text": [
      "\n",
      "Sample size: 146 \n",
      "     Family: Negative Binomial type I with log link\n",
      "*************************************************************\n",
      "            Estimate Std.Error  z-value   Pr(>|z|)\n",
      "(Intercept)  2.62801   0.24945 10.53516 < 2.22e-16\n",
      "EthN         0.13110   0.34550  0.37944  0.7043597\n",
      "AgeF1        0.17838   0.31950  0.55829  0.5766463\n",
      "AgeF2        0.82673   0.31724  2.60601  0.0091604\n",
      "AgeF3        0.37084   0.33375  1.11115  0.2665031\n",
      "EthN:AgeF1  -0.99157   0.43939 -2.25673  0.0240252\n",
      "EthN:AgeF2  -1.23924   0.44655 -2.77512  0.0055181\n",
      "EthN:AgeF3  -0.17626   0.46361 -0.38020  0.7037984\n",
      "                                                  \n",
      "phi          0.73671   0.09447                    \n",
      "*************************************************************\n",
      "                 -2*log-likelihood:  1084.638 \n",
      "                               AIC:  1102.638 \n",
      "                               BIC:  1129.49 \n"
     ]
    }
   ],
   "source": [
    "fit4 <- glmtoolbox::overglm(Days ~ Eth + Age + Eth:Age , family=\"nb1(log)\", data=quine)\n",
    "summary(fit4)"
   ]
  },
  {
   "cell_type": "markdown",
   "id": "c2857e07",
   "metadata": {},
   "source": [
    "**(D)** Realice el análisis de diagnóstico al modelo seleccionado en **(C)**. Comente."
   ]
  },
  {
   "cell_type": "code",
   "execution_count": 34,
   "id": "8f255bc7",
   "metadata": {},
   "outputs": [
    {
     "name": "stdout",
     "output_type": "stream",
     "text": [
      "  |+++++++++++++++++++++++++| 100%\n"
     ]
    },
    {
     "data": {
      "image/png": "[encoded data removed]",
      "text/plain": [
       "Plot with title “Normal QQ plot with simulated envelope\n",
       " of quantile-type residuals”"
      ]
     },
     "metadata": {},
     "output_type": "display_data"
    }
   ],
   "source": [
    "set.seed(24102022)\n",
    "glmtoolbox::envelope(fit4)"
   ]
  },
  {
   "cell_type": "markdown",
   "id": "e481156c",
   "metadata": {},
   "source": [
    "**(E)** Ajuste a los datos un modelo de respuesta Poisson con función de enlace $\\texttt{log}$ y el mismo predictor lineal que el del modelo seleccionado en **(C)**. Compare las estimaciones de sus parámetros y los errores estándar asociados a ellas con las obtenidas en **(C)**. Comente."
   ]
  },
  {
   "cell_type": "code",
   "execution_count": 35,
   "id": "8ce68e4f",
   "metadata": {},
   "outputs": [
    {
     "data": {
      "text/plain": [
       "\n",
       "Call:\n",
       "glm(formula = Days ~ Eth + Age + Eth:Age, family = poisson(log), \n",
       "    data = quine)\n",
       "\n",
       "Deviance Residuals: \n",
       "   Min      1Q  Median      3Q     Max  \n",
       "-6.947  -2.987  -0.797   1.651   9.554  \n",
       "\n",
       "Coefficients:\n",
       "            Estimate Std. Error z value Pr(>|z|)    \n",
       "(Intercept)  2.62801    0.07454  35.258  < 2e-16 ***\n",
       "EthN         0.13110    0.10040   1.306   0.1916    \n",
       "AgeF1        0.17838    0.09261   1.926   0.0541 .  \n",
       "AgeF2        0.82673    0.08447   9.787  < 2e-16 ***\n",
       "AgeF3        0.37084    0.09312   3.983 6.82e-05 ***\n",
       "EthN:AgeF1  -0.99157    0.13637  -7.271 3.56e-13 ***\n",
       "EthN:AgeF2  -1.23923    0.12824  -9.664  < 2e-16 ***\n",
       "EthN:AgeF3  -0.17627    0.12753  -1.382   0.1669    \n",
       "---\n",
       "Signif. codes:  0 ‘***’ 0.001 ‘**’ 0.01 ‘*’ 0.05 ‘.’ 0.1 ‘ ’ 1\n",
       "\n",
       "(Dispersion parameter for poisson family taken to be 1)\n",
       "\n",
       "    Null deviance: 2073.5  on 145  degrees of freedom\n",
       "Residual deviance: 1597.1  on 138  degrees of freedom\n",
       "AIC: 2201.6\n",
       "\n",
       "Number of Fisher Scoring iterations: 5\n"
      ]
     },
     "metadata": {},
     "output_type": "display_data"
    }
   ],
   "source": [
    "fit5 <- glm(Days ~ Eth + Age + Eth:Age , family=poisson(log), data=quine)\n",
    "summary(fit5)"
   ]
  },
  {
   "cell_type": "code",
   "execution_count": 36,
   "id": "16e49f66",
   "metadata": {},
   "outputs": [
    {
     "data": {
      "text/html": [
       "<table>\n",
       "<thead><tr><th></th><th scope=col>Coef_Poi</th><th scope=col>SE_Poi</th><th scope=col>Coef_NB1</th><th scope=col>SE_NB1</th><th scope=col>Delta coef(%)</th><th scope=col>Delta SE(%)</th></tr></thead>\n",
       "<tbody>\n",
       "\t<tr><th scope=row>(Intercept)</th><td> 2.628 </td><td>0.075  </td><td> 2.628 </td><td>0.249  </td><td> 0.000 </td><td>234.674</td></tr>\n",
       "\t<tr><th scope=row>EthN</th><td> 0.131 </td><td>0.100  </td><td> 0.131 </td><td>0.346  </td><td> 0.001 </td><td>244.124</td></tr>\n",
       "\t<tr><th scope=row>AgeF1</th><td> 0.178 </td><td>0.093  </td><td> 0.178 </td><td>0.320  </td><td>-0.002 </td><td>244.998</td></tr>\n",
       "\t<tr><th scope=row>AgeF2</th><td> 0.827 </td><td>0.084  </td><td> 0.827 </td><td>0.317  </td><td> 0.000 </td><td>275.562</td></tr>\n",
       "\t<tr><th scope=row>AgeF3</th><td> 0.371 </td><td>0.093  </td><td> 0.371 </td><td>0.334  </td><td>-0.001 </td><td>258.414</td></tr>\n",
       "\t<tr><th scope=row>EthN:AgeF1</th><td>-0.992 </td><td>0.136  </td><td>-0.992 </td><td>0.439  </td><td> 0.000 </td><td>222.208</td></tr>\n",
       "\t<tr><th scope=row>EthN:AgeF2</th><td>-1.239 </td><td>0.128  </td><td>-1.239 </td><td>0.447  </td><td> 0.000 </td><td>248.224</td></tr>\n",
       "\t<tr><th scope=row>EthN:AgeF3</th><td>-0.176 </td><td>0.128  </td><td>-0.176 </td><td>0.464  </td><td> 0.001 </td><td>263.541</td></tr>\n",
       "</tbody>\n",
       "</table>\n"
      ],
      "text/latex": [
       "\\begin{tabular}{r|llllll}\n",
       "  & Coef\\_Poi & SE\\_Poi & Coef\\_NB1 & SE\\_NB1 & Delta coef(\\%) & Delta SE(\\%)\\\\\n",
       "\\hline\n",
       "\t(Intercept) &  2.628  & 0.075   &  2.628  & 0.249   &  0.000  & 234.674\\\\\n",
       "\tEthN &  0.131  & 0.100   &  0.131  & 0.346   &  0.001  & 244.124\\\\\n",
       "\tAgeF1 &  0.178  & 0.093   &  0.178  & 0.320   & -0.002  & 244.998\\\\\n",
       "\tAgeF2 &  0.827  & 0.084   &  0.827  & 0.317   &  0.000  & 275.562\\\\\n",
       "\tAgeF3 &  0.371  & 0.093   &  0.371  & 0.334   & -0.001  & 258.414\\\\\n",
       "\tEthN:AgeF1 & -0.992  & 0.136   & -0.992  & 0.439   &  0.000  & 222.208\\\\\n",
       "\tEthN:AgeF2 & -1.239  & 0.128   & -1.239  & 0.447   &  0.000  & 248.224\\\\\n",
       "\tEthN:AgeF3 & -0.176  & 0.128   & -0.176  & 0.464   &  0.001  & 263.541\\\\\n",
       "\\end{tabular}\n"
      ],
      "text/markdown": [
       "\n",
       "| <!--/--> | Coef_Poi | SE_Poi | Coef_NB1 | SE_NB1 | Delta coef(%) | Delta SE(%) |\n",
       "|---|---|---|---|---|---|---|\n",
       "| (Intercept) |  2.628  | 0.075   |  2.628  | 0.249   |  0.000  | 234.674 |\n",
       "| EthN |  0.131  | 0.100   |  0.131  | 0.346   |  0.001  | 244.124 |\n",
       "| AgeF1 |  0.178  | 0.093   |  0.178  | 0.320   | -0.002  | 244.998 |\n",
       "| AgeF2 |  0.827  | 0.084   |  0.827  | 0.317   |  0.000  | 275.562 |\n",
       "| AgeF3 |  0.371  | 0.093   |  0.371  | 0.334   | -0.001  | 258.414 |\n",
       "| EthN:AgeF1 | -0.992  | 0.136   | -0.992  | 0.439   |  0.000  | 222.208 |\n",
       "| EthN:AgeF2 | -1.239  | 0.128   | -1.239  | 0.447   |  0.000  | 248.224 |\n",
       "| EthN:AgeF3 | -0.176  | 0.128   | -0.176  | 0.464   |  0.001  | 263.541 |\n",
       "\n"
      ],
      "text/plain": [
       "            Coef_Poi SE_Poi Coef_NB1 SE_NB1 Delta coef(%) Delta SE(%)\n",
       "(Intercept)  2.628   0.075   2.628   0.249   0.000        234.674    \n",
       "EthN         0.131   0.100   0.131   0.346   0.001        244.124    \n",
       "AgeF1        0.178   0.093   0.178   0.320  -0.002        244.998    \n",
       "AgeF2        0.827   0.084   0.827   0.317   0.000        275.562    \n",
       "AgeF3        0.371   0.093   0.371   0.334  -0.001        258.414    \n",
       "EthN:AgeF1  -0.992   0.136  -0.992   0.439   0.000        222.208    \n",
       "EthN:AgeF2  -1.239   0.128  -1.239   0.447   0.000        248.224    \n",
       "EthN:AgeF3  -0.176   0.128  -0.176   0.464   0.001        263.541    "
      ]
     },
     "metadata": {},
     "output_type": "display_data"
    }
   ],
   "source": [
    "tbl3 = summary(fit5)$coefficients[,1:2]  %>% as.data.frame() %>% \n",
    "    rename(c(\"Coef_Poi\"=Estimate, \"SE_Poi\"=`Std. Error`)) %>% \n",
    "    mutate(\"Coef_NB1\"=coefficients(fit4), \n",
    "           \"SE_NB1\" = sqrt(diag(vcov(fit4))),\n",
    "           \"Delta coef(%)\" = 100*((Coef_NB1-Coef_Poi)/abs(Coef_Poi)),\n",
    "           \"Delta SE(%)\" = 100*((SE_NB1-SE_Poi)/abs(SE_Poi))) %>% round(.,3)\n",
    "tbl3\n",
    "#kable(tbl3,format = 'latex')"
   ]
  },
  {
   "cell_type": "markdown",
   "id": "129068e5",
   "metadata": {},
   "source": [
    "# Punto 9\n",
    "\n",
    "Estos datos, disponibles en el objeto $\\texttt{orobanche}$ del paquete $\\texttt{glmtoolbox}$ de $\\texttt{R}$, surgen de un estudio sobre la germinación de dos especies de semillas de Orobanche (O. aegyptiaca 75 y O. aegyptiaca 73) cultivadas en diluciones de dos medios de extracto deraı́z diferentes (pepino y frijol). Los datos consisten en el número de semillas ($\\texttt{seeds}$) y el número de germinaciones ($\\texttt{germinated}$) para cada combinación de especie ($\\texttt{specie}$) y extracto ($\\texttt{extract}$). El objetivo principal del análisis es establecer si hay interacción entre la especie de semilla y el extracto de raı́z sobre la proporción de semillas germinadas."
   ]
  },
  {
   "cell_type": "markdown",
   "id": "c8218435",
   "metadata": {},
   "source": [
    "**(A)** Haga un análisis descriptivo de los datos. Comente."
   ]
  },
  {
   "cell_type": "code",
   "execution_count": 37,
   "id": "83242753",
   "metadata": {},
   "outputs": [
    {
     "name": "stdout",
     "output_type": "stream",
     "text": [
      "'data.frame':\t21 obs. of  4 variables:\n",
      " $ specie    : Factor w/ 2 levels \"Aegyptiaca 73\",..: 2 2 2 2 2 2 2 2 2 2 ...\n",
      " $ extract   : Factor w/ 2 levels \"Bean\",\"Cucumber\": 1 1 1 1 1 2 2 2 2 2 ...\n",
      " $ seeds     : num  39 62 81 51 39 6 74 72 51 79 ...\n",
      " $ germinated: num  10 23 23 26 17 5 53 55 32 46 ...\n"
     ]
    }
   ],
   "source": [
    "data(orobanche, package=\"glmtoolbox\")\n",
    "str(orobanche)"
   ]
  },
  {
   "cell_type": "code",
   "execution_count": 38,
   "id": "b59f7145",
   "metadata": {},
   "outputs": [
    {
     "data": {
      "text/plain": [
       "           specie       extract       seeds         germinated   \n",
       " Aegyptiaca 73:10   Bean    :10   Min.   : 4.00   Min.   : 0.00  \n",
       " Aegyptiaca 75:11   Cucumber:11   1st Qu.:16.00   1st Qu.: 8.00  \n",
       "                                  Median :39.00   Median :17.00  \n",
       "                                  Mean   :39.57   Mean   :20.19  \n",
       "                                  3rd Qu.:51.00   3rd Qu.:26.00  \n",
       "                                  Max.   :81.00   Max.   :55.00  "
      ]
     },
     "metadata": {},
     "output_type": "display_data"
    }
   ],
   "source": [
    "summary(orobanche)"
   ]
  },
  {
   "cell_type": "markdown",
   "id": "7f93d170",
   "metadata": {},
   "source": [
    "**(B)** Ajuste a los datos un modelo de respuesta binomial con función de enlace logit y el predictor lineal dado por $1 + \\texttt{specie} + \\texttt{extract} + \\texttt{specie*extract}$. Evalue si hay indı́cios de sobredispersión."
   ]
  },
  {
   "cell_type": "code",
   "execution_count": 39,
   "id": "3da4fca5",
   "metadata": {},
   "outputs": [
    {
     "data": {
      "text/plain": [
       "\n",
       "Call:\n",
       "glm(formula = germinated/seeds ~ specie + extract + specie * \n",
       "    extract, family = binomial(logit), data = orobanche, weights = seeds)\n",
       "\n",
       "Deviance Residuals: \n",
       "     Min        1Q    Median        3Q       Max  \n",
       "-2.01617  -1.24398   0.05995   0.84695   2.12123  \n",
       "\n",
       "Coefficients:\n",
       "                                    Estimate Std. Error z value Pr(>|z|)  \n",
       "(Intercept)                          -0.4122     0.1842  -2.238   0.0252 *\n",
       "specieAegyptiaca 75                  -0.1459     0.2232  -0.654   0.5132  \n",
       "extractCucumber                       0.5401     0.2498   2.162   0.0306 *\n",
       "specieAegyptiaca 75:extractCucumber   0.7781     0.3064   2.539   0.0111 *\n",
       "---\n",
       "Signif. codes:  0 ‘***’ 0.001 ‘**’ 0.01 ‘*’ 0.05 ‘.’ 0.1 ‘ ’ 1\n",
       "\n",
       "(Dispersion parameter for binomial family taken to be 1)\n",
       "\n",
       "    Null deviance: 98.719  on 20  degrees of freedom\n",
       "Residual deviance: 33.278  on 17  degrees of freedom\n",
       "AIC: 117.87\n",
       "\n",
       "Number of Fisher Scoring iterations: 4\n"
      ]
     },
     "metadata": {},
     "output_type": "display_data"
    }
   ],
   "source": [
    "fit = glm(germinated/seeds ~ specie + extract + specie*extract, data = orobanche, \n",
    "          weights = seeds, family = binomial(logit))\n",
    "\n",
    "summary(fit)"
   ]
  },
  {
   "cell_type": "code",
   "execution_count": 40,
   "id": "7592f883",
   "metadata": {},
   "outputs": [
    {
     "data": {
      "text/html": [
       "<dl class=dl-horizontal>\n",
       "\t<dt>Deviance/df</dt>\n",
       "\t\t<dd>1.95751680532481</dd>\n",
       "\t<dt>Pearson/df</dt>\n",
       "\t\t<dd>1.86183205855522</dd>\n",
       "</dl>\n"
      ],
      "text/latex": [
       "\\begin{description*}\n",
       "\\item[Deviance/df] 1.95751680532481\n",
       "\\item[Pearson/df] 1.86183205855522\n",
       "\\end{description*}\n"
      ],
      "text/markdown": [
       "Deviance/df\n",
       ":   1.95751680532481Pearson/df\n",
       ":   1.86183205855522\n",
       "\n"
      ],
      "text/plain": [
       "Deviance/df  Pearson/df \n",
       "   1.957517    1.861832 "
      ]
     },
     "metadata": {},
     "output_type": "display_data"
    }
   ],
   "source": [
    "c(\"Deviance/df\"=deviance(fit)/fit$df.residual,\n",
    "  \"Pearson/df\"=sum(resid(fit,type=\"pearson\")^2)/fit$df.residual)"
   ]
  },
  {
   "cell_type": "code",
   "execution_count": 41,
   "id": "eed24f29",
   "metadata": {},
   "outputs": [
    {
     "name": "stdout",
     "output_type": "stream",
     "text": [
      "  |+++++++++++++++++++++++++| 100%\n"
     ]
    },
    {
     "data": {
      "image/png": "[encoded data removed]",
      "text/plain": [
       "Plot with title “Normal QQ plot with simulated envelope\n",
       " of quantile-type residuals”"
      ]
     },
     "metadata": {},
     "output_type": "display_data"
    }
   ],
   "source": [
    "set.seed(24102022)\n",
    "glmtoolbox::envelope(fit)"
   ]
  },
  {
   "cell_type": "markdown",
   "id": "072fc77b",
   "metadata": {},
   "source": [
    "**(C)** Ajuste a los datos modelos de respuestas BB y RCB con función de enlace $\\texttt{logit}$ y el predictor lineal dado por $1 + \\texttt{specie} + \\texttt{extract} + \\texttt{specie*extract}$. Use los criterios AIC y BIC para comparar y seleccionar uno de estos dos modelos. Compare las estimaciones de sus parámetros y los errores estándar asociados a ellas con las obtenidas en **(B)**. Comente."
   ]
  },
  {
   "cell_type": "code",
   "execution_count": 42,
   "id": "298816c9",
   "metadata": {},
   "outputs": [
    {
     "data": {
      "text/html": [
       "<table>\n",
       "<thead><tr><th></th><th scope=col>df</th><th scope=col>AIC</th></tr></thead>\n",
       "<tbody>\n",
       "\t<tr><th scope=row>fit1</th><td>5       </td><td>117.5335</td></tr>\n",
       "\t<tr><th scope=row>fit2</th><td>5       </td><td>116.0956</td></tr>\n",
       "</tbody>\n",
       "</table>\n"
      ],
      "text/latex": [
       "\\begin{tabular}{r|ll}\n",
       "  & df & AIC\\\\\n",
       "\\hline\n",
       "\tfit1 & 5        & 117.5335\\\\\n",
       "\tfit2 & 5        & 116.0956\\\\\n",
       "\\end{tabular}\n"
      ],
      "text/markdown": [
       "\n",
       "| <!--/--> | df | AIC |\n",
       "|---|---|---|\n",
       "| fit1 | 5        | 117.5335 |\n",
       "| fit2 | 5        | 116.0956 |\n",
       "\n"
      ],
      "text/plain": [
       "     df AIC     \n",
       "fit1 5  117.5335\n",
       "fit2 5  116.0956"
      ]
     },
     "metadata": {},
     "output_type": "display_data"
    },
    {
     "data": {
      "text/html": [
       "<table>\n",
       "<thead><tr><th></th><th scope=col>df</th><th scope=col>BIC</th></tr></thead>\n",
       "<tbody>\n",
       "\t<tr><th scope=row>fit1</th><td>5       </td><td>122.7561</td></tr>\n",
       "\t<tr><th scope=row>fit2</th><td>5       </td><td>121.3182</td></tr>\n",
       "</tbody>\n",
       "</table>\n"
      ],
      "text/latex": [
       "\\begin{tabular}{r|ll}\n",
       "  & df & BIC\\\\\n",
       "\\hline\n",
       "\tfit1 & 5        & 122.7561\\\\\n",
       "\tfit2 & 5        & 121.3182\\\\\n",
       "\\end{tabular}\n"
      ],
      "text/markdown": [
       "\n",
       "| <!--/--> | df | BIC |\n",
       "|---|---|---|\n",
       "| fit1 | 5        | 122.7561 |\n",
       "| fit2 | 5        | 121.3182 |\n",
       "\n"
      ],
      "text/plain": [
       "     df BIC     \n",
       "fit1 5  122.7561\n",
       "fit2 5  121.3182"
      ]
     },
     "metadata": {},
     "output_type": "display_data"
    }
   ],
   "source": [
    "fit1 <- glmtoolbox::overglm(cbind(germinated,seeds-germinated) ~ specie + extract + specie*extract, \n",
    "                family=\"bb(logit)\", data=orobanche)\n",
    "fit2 <- glmtoolbox::overglm(cbind(germinated,seeds-germinated) ~ specie + extract + specie*extract,\n",
    "                family=\"rcb(logit)\", data=orobanche)\n",
    "\n",
    "AIC(fit1, fit2)\n",
    "BIC(fit1, fit2)"
   ]
  },
  {
   "cell_type": "code",
   "execution_count": 43,
   "id": "b6e5076b",
   "metadata": {},
   "outputs": [
    {
     "name": "stdout",
     "output_type": "stream",
     "text": [
      "\n",
      "Sample size: 21 \n",
      "     Family: Random-clumped Binomial with logit link\n",
      "*************************************************************\n",
      "                                    Estimate Std.Error  z-value Pr(>|z|)\n",
      "(Intercept)                         -0.46619   0.22490 -2.07286 0.038185\n",
      "specieAegyptiaca 75                 -0.07681   0.28019 -0.27413 0.783983\n",
      "extractCucumber                      0.51140   0.30814  1.65963 0.096989\n",
      "specieAegyptiaca 75:extractCucumber  0.83610   0.38484  2.17259 0.029811\n",
      "                                                                        \n",
      "phi                                  0.13290   0.04665                  \n",
      "*************************************************************\n",
      "                 -2*log-likelihood:  106.096 \n",
      "                               AIC:  116.096 \n",
      "                               BIC:  121.318 \n"
     ]
    }
   ],
   "source": [
    "summary(fit2)"
   ]
  },
  {
   "cell_type": "code",
   "execution_count": 44,
   "id": "120c7b8f",
   "metadata": {},
   "outputs": [
    {
     "data": {
      "text/html": [
       "<table>\n",
       "<thead><tr><th></th><th scope=col>Coef_Bin</th><th scope=col>SE_Bin</th><th scope=col>Coef_RCB</th><th scope=col>SE_RCB</th><th scope=col>Delta coef(%)</th><th scope=col>Delta SE(%)</th></tr></thead>\n",
       "<tbody>\n",
       "\t<tr><th scope=row>(Intercept)</th><td>-0.412 </td><td>0.184  </td><td>-0.466 </td><td>0.225  </td><td>-13.086</td><td>22.111 </td></tr>\n",
       "\t<tr><th scope=row>specieAegyptiaca 75</th><td>-0.146 </td><td>0.223  </td><td>-0.077 </td><td>0.280  </td><td> 47.365</td><td>25.552 </td></tr>\n",
       "\t<tr><th scope=row>extractCucumber</th><td> 0.540 </td><td>0.250  </td><td> 0.511 </td><td>0.308  </td><td> -5.309</td><td>23.349 </td></tr>\n",
       "\t<tr><th scope=row>specieAegyptiaca 75:extractCucumber</th><td> 0.778 </td><td>0.306  </td><td> 0.836 </td><td>0.385  </td><td>  7.453</td><td>25.587 </td></tr>\n",
       "</tbody>\n",
       "</table>\n"
      ],
      "text/latex": [
       "\\begin{tabular}{r|llllll}\n",
       "  & Coef\\_Bin & SE\\_Bin & Coef\\_RCB & SE\\_RCB & Delta coef(\\%) & Delta SE(\\%)\\\\\n",
       "\\hline\n",
       "\t(Intercept) & -0.412  & 0.184   & -0.466  & 0.225   & -13.086 & 22.111 \\\\\n",
       "\tspecieAegyptiaca 75 & -0.146  & 0.223   & -0.077  & 0.280   &  47.365 & 25.552 \\\\\n",
       "\textractCucumber &  0.540  & 0.250   &  0.511  & 0.308   &  -5.309 & 23.349 \\\\\n",
       "\tspecieAegyptiaca 75:extractCucumber &  0.778  & 0.306   &  0.836  & 0.385   &   7.453 & 25.587 \\\\\n",
       "\\end{tabular}\n"
      ],
      "text/markdown": [
       "\n",
       "| <!--/--> | Coef_Bin | SE_Bin | Coef_RCB | SE_RCB | Delta coef(%) | Delta SE(%) |\n",
       "|---|---|---|---|---|---|---|\n",
       "| (Intercept) | -0.412  | 0.184   | -0.466  | 0.225   | -13.086 | 22.111  |\n",
       "| specieAegyptiaca 75 | -0.146  | 0.223   | -0.077  | 0.280   |  47.365 | 25.552  |\n",
       "| extractCucumber |  0.540  | 0.250   |  0.511  | 0.308   |  -5.309 | 23.349  |\n",
       "| specieAegyptiaca 75:extractCucumber |  0.778  | 0.306   |  0.836  | 0.385   |   7.453 | 25.587  |\n",
       "\n"
      ],
      "text/plain": [
       "                                    Coef_Bin SE_Bin Coef_RCB SE_RCB\n",
       "(Intercept)                         -0.412   0.184  -0.466   0.225 \n",
       "specieAegyptiaca 75                 -0.146   0.223  -0.077   0.280 \n",
       "extractCucumber                      0.540   0.250   0.511   0.308 \n",
       "specieAegyptiaca 75:extractCucumber  0.778   0.306   0.836   0.385 \n",
       "                                    Delta coef(%) Delta SE(%)\n",
       "(Intercept)                         -13.086       22.111     \n",
       "specieAegyptiaca 75                  47.365       25.552     \n",
       "extractCucumber                      -5.309       23.349     \n",
       "specieAegyptiaca 75:extractCucumber   7.453       25.587     "
      ]
     },
     "metadata": {},
     "output_type": "display_data"
    }
   ],
   "source": [
    "tbl4 = summary(fit)$coefficients[,1:2]  %>% as.data.frame() %>% \n",
    "    rename(c(\"Coef_Bin\"=Estimate, \"SE_Bin\"=`Std. Error`)) %>% \n",
    "    mutate(\"Coef_RCB\"=coefficients(fit2), \n",
    "           \"SE_RCB\" = sqrt(diag(vcov(fit2))),\n",
    "           \"Delta coef(%)\" = 100*((Coef_RCB-Coef_Bin)/abs(Coef_Bin)),\n",
    "           \"Delta SE(%)\" = 100*((SE_RCB-SE_Bin)/abs(SE_Bin))) %>% round(.,3)\n",
    "tbl4\n",
    "#kable(tbl4,format = 'latex')"
   ]
  },
  {
   "cell_type": "markdown",
   "id": "f350db10",
   "metadata": {},
   "source": [
    "**(D)** Realice el análisis de diagnóstico al modelo seleccionado en **(C)**. Comente."
   ]
  }
 ],
 "metadata": {
  "kernelspec": {
   "display_name": "R",
   "language": "R",
   "name": "ir"
  },
  "language_info": {
   "codemirror_mode": "r",
   "file_extension": ".r",
   "mimetype": "text/x-r-source",
   "name": "R",
   "pygments_lexer": "r",
   "version": "3.6.1"
  }
 },
 "nbformat": 4,
 "nbformat_minor": 5
}
